{
 "cells": [
  {
   "cell_type": "markdown",
   "metadata": {},
   "source": [
    "Date: 22/08/2019\n",
    "\n",
    "Version: 6.0\n",
    "\n",
    "Environment: Python 3.7.0 and Anaconda 2019.07 (64-bit)\n",
    "\n",
    "Libraries used:\n",
    "* pandas 0.24.2 (for data frame, included in Anaconda Python 3.7) \n",
    "* re 2.2.1 (for regular expression, included in Anaconda Python 3.7) \n",
    "\n",
    "\n",
    "## 1. Introduction\n",
    "\n",
    "This assignment requires us to analyze the data in the form a text file (Group010.txt) and extract the required information from the semi-structured data in the text file. The text file consists of several patent grants and related information. Our task is to extract the data and transform the data into the CSV and JSON format with the below stated elements.\n",
    "\n",
    "1. grant_id: a unique ID for a patent grant consisting of alphanumeric characters.\n",
    "2. patent_kind: a category to which the patent grant belongs.\n",
    "3. patent_title: a title given by the inventor to the patent claim.\n",
    "4. number_of_claims: an integer denoting the number of claims for a given grant.\n",
    "5. citations_examiner_count: an integer denoting the number of citations made by the examiner for a given patent grant (0 if None)\n",
    "6. citations_applicant_count: an integer denoting the number of citations made by the applicant for a given patent grant (0 if None)\n",
    "7. inventors: a list of the patent inventors’ names ([NA] if the value is Null).\n",
    "8. claims_text: a list of claim texts for the different patent claims ([NA] if the value is Null).\n",
    "9. abstract: the patent abstract text (‘NA’ if the value is Null)\n",
    "\n",
    "More details will be provided in the following sections."
   ]
  },
  {
   "cell_type": "markdown",
   "metadata": {},
   "source": [
    "# 2. Import Libraries"
   ]
  },
  {
   "cell_type": "code",
   "execution_count": null,
   "metadata": {},
   "outputs": [],
   "source": [
    "import re\n",
    "import pandas as pd "
   ]
  },
  {
   "cell_type": "markdown",
   "metadata": {},
   "source": [
    "# 3. Examining and Loading Data\n",
    "\n",
    "As a first step, we can read first few lines of the file Group010.txt so that we can examine the given data."
   ]
  },
  {
   "cell_type": "code",
   "execution_count": null,
   "metadata": {},
   "outputs": [],
   "source": [
    "inputFile = open(\"Group010.txt\", \"r\", encoding='utf-8')\n",
    "\n",
    "print('\\n'.join([inputFile.readline().strip() for i in range(0, 10)]))\n",
    "\n",
    "inputFile.close()"
   ]
  },
  {
   "cell_type": "markdown",
   "metadata": {},
   "source": [
    "We can see that the input text file has an XML declaration <?xml...?> and a root tag <us-patent-grant...>. Based on this information, it is possible to properly delimit an XML document so that required information can be extracted.\n",
    "\n",
    "A regex is defined so that the strings starting with an XML declaration <?xml..> and ending with the closing tag </us-patent-grant> are captured individually. The non-greedy pattern .*? is necessary so that the whole file is not matched. The regex also uses the pattern [\\s\\S] (white space or non white space characters) which causes to capture everything, even line breaks, between the XML declaration and the closing tag."
   ]
  },
  {
   "cell_type": "code",
   "execution_count": null,
   "metadata": {},
   "outputs": [],
   "source": [
    "# read the whole file\n",
    "inputFile = open(\"Group010.txt\", \"r\", encoding='utf-8')\n",
    "text = inputFile.read()\n",
    "    \n",
    "# matches everything between the XML declaration and the root closing tag\n",
    "regex = r'<\\?xml[\\s\\S]*?</us-patent-grant>' \n",
    "patents = re.findall(regex, text)\n",
    "print(len(patents))\n",
    "\n",
    "inputFile.close()"
   ]
  },
  {
   "cell_type": "markdown",
   "metadata": {},
   "source": [
    "We found out that we have information for 150 patents."
   ]
  },
  {
   "cell_type": "markdown",
   "metadata": {},
   "source": [
    "# 4. Parsing the File and Data extraction\n",
    "\n",
    "Based on the pattern search for various elements as stated above, we need to extract the required data.\n",
    "For that, we need to initialize few variables and lists to move ahead with the parsing and extracting of the data."
   ]
  },
  {
   "cell_type": "code",
   "execution_count": null,
   "metadata": {},
   "outputs": [],
   "source": [
    "citedByApplicant = \"applicant\"\n",
    "citedByExaminer = \"examiner\"\n",
    "examinerCount = 0\n",
    "applicantCount = 0\n",
    "inventorList = []\n",
    "claimList = []\n",
    "lineCounter = 1"
   ]
  },
  {
   "cell_type": "markdown",
   "metadata": {},
   "source": [
    "Next, we read the whole input file and store the data in form of a string."
   ]
  },
  {
   "cell_type": "code",
   "execution_count": null,
   "metadata": {},
   "outputs": [],
   "source": [
    "inputFile = open(\"Group010.txt\", \"r\", encoding = 'utf-8')\n",
    "jsonFile = open('Group010.json','w', encoding = 'utf-8')\n",
    "\n",
    "lines = inputFile.read()"
   ]
  },
  {
   "cell_type": "markdown",
   "metadata": {},
   "source": [
    "As we did the pattern matching based on the xml tags earlier, we now isolate data related to a patent and store all related data as an element in the form of a list using findall functionality of regex. \n",
    "\n",
    "Below code creates a list of tuples. Each tuple has data related to a particular patent. We pick each element (data related to a patent) and extract the required information."
   ]
  },
  {
   "cell_type": "code",
   "execution_count": null,
   "metadata": {},
   "outputs": [],
   "source": [
    "patentDataList = re.findall(r'<us-patent-grant((.|\\n)*?)</us-patent-grant>',lines)"
   ]
  },
  {
   "cell_type": "markdown",
   "metadata": {},
   "source": [
    "With the help of pandas library, we create a dataframe object which stores all the columns as stated above and it's related data in tabular form."
   ]
  },
  {
   "cell_type": "code",
   "execution_count": null,
   "metadata": {},
   "outputs": [],
   "source": [
    "df = pd.DataFrame(columns=['grant_id','patent_title','kind','number_of_claims','inventors','citations_applicant_count','citations_examiner_count','claims_text','abstract'])"
   ]
  },
  {
   "cell_type": "markdown",
   "metadata": {},
   "source": [
    "The below section of code is where we loop through each index in the patentDataList and extract the required values for their respective columns as stated above. \n",
    "\n",
    "### grant_id \n",
    "It is a unique id and alphaumeric in nature. We extract it from the <us-patent-grant...> tag. It is extracted in the section which begins with #Grant ID. \n",
    "\n",
    "Line from the file : `<us-patent-grant lang=\"EN\" dtd-version=\"v4.5 2014-04-03\" file=\"`**`US10360351`**`-20190723.XML\" status=\"PRODUCTION\" id=\"us-patent-grant\" country=\"US\" date-produced=\"20190709\" date-publ=\"20190723\">`\n",
    "    \n",
    "In the above example, the portion between 'file=\"' and '-20190723.XML\"' i.e. 'US10360351' is the grant_id that we need to extract. So, we are using the pattern _'file=\"(.*?)-'_ and extracting the grant id from it using the group functionality in regex.\n",
    "\n",
    "### patent_title \n",
    "It is a title given by the inventor to the patent claim. From the given input file, we determined that the string enclosed between invention title is the patent title. It is extracted in the section which begins with #Patent Title.\n",
    "\n",
    "Line from the file : `<invention-title id=\"d2e51\">`**`Authentication translation`**`</invention-title>`\n",
    "\n",
    "In the above example, the portion between `<invention-title id=\"d2e51\">` and `</invention-title>` i.e. 'Authentication translation' is the patent_title. So, we are using the pattern _'<invention-title(.*?)>(.*?)</invention-title>'_ and extracting the second pattern from it using the group functionality of regex.\n",
    "\n",
    "### kind \n",
    "It is a category to which the patent grant belongs. From the given input file, we determined that the field appl-type in application reference tag is the patent kind. It is extracted in the section which begins with #Patent Kind.\n",
    "\n",
    "Line from the file : `<application-reference appl-type=\"`**`utility`**`\">`\n",
    "\n",
    "In the above example, the portion between 'appl-type=\"' and '\">' i.e. 'utility' is the patent_kind. So, we are using the pattern _'appl-type=\"(.*?)\">'_ and extracting the patent kind from it using the group functionality of regex. \n",
    "After we get the kind, we are running another if statement to extract the kind of publication it is and based on that we are specifying whether it was published with a particular application or not and also specifying the type of application it is and formatting the final string.\n",
    "    \n",
    "### number_of_claims \n",
    "It is an integer denoting the number of claims for a given grant. From the given input file, we determined that the number enclosed between number-of-claims tag is the number_of_claims. It is extracted in the section which begins with #Number Of Claims.\n",
    "\n",
    "Line from the file : `<number-of-claims>`**`10`**`</number-of-claims>`\n",
    "\n",
    "In the above example, the portion between `<number-of-claims>` and `</number-of-claims>` i.e. '10' is the number_of_claims. So, we are using the pattern _'<number-of-claims>(.*?)</number-of-claims>'_ and extracting the pattern from it using the group functionality of regex.\n",
    "\n",
    "### inventors \n",
    "It is a list of the patent inventors’ names. From the given input file, we determined that the first-name and last-name tags under inventor tag (under the parent inventors tag) contains the name. If there are more than one inventor tag which has last-name and first-name tags, we have to append the names into a list. It is extracted in the section which begins with #Inventors Name List.\n",
    "\n",
    "Lines from the file : \n",
    "`<inventors>`<br>\n",
    "`<inventor sequence=\"001\" designation=\"us-only\">`<br>\n",
    "`<addressbook>`<br>\n",
    "**`<last-name>Jakobsson</last-name>`<br>\n",
    "`<first-name>Bjorn Markus</first-name>`**<br>\n",
    "`<address>`<br>\n",
    "`<city>Portola Valley</city>`<br>\n",
    "`<state>CA</state>`<br>\n",
    "`<country>US</country>`<br>\n",
    "`</address>`<br>\n",
    "`</addressbook>`<br>\n",
    "`</inventor>`<br>\n",
    "`</inventors>`\n",
    "\n",
    "In the above example, the portion between `<last-name>` and `</last-name>` i.e. 'Jakobsson' gives us the last name of the inventor where as the portion between `<first-name>` and `</first-name>` i.e. 'Bjorn Markus' gives us the first name of the inventor. So, we fetch the entire data between inventors tag using _`<inventors>(.*?)</inventors>`_ pattern and then using findall funtionality of regex, we are finding out the string between the last-name and first name tags. This string has '\\n', `</last-name>` tag and `<first-name>` tag which should be removed. Hence, we replace the newline character and split the string based on the tags mentioned in previous line. Since we have last name in first position followed by first name, we have to swap the indices and append it to the inventors list. This is for one inventor. Similarly, for n inventors, we will have n names appended to the inventor list. In order to display the output as desired, we join the names in the inventor list by comma and enclose them between '[]'.\n",
    "\n",
    "\n",
    "\n",
    "### citations_applicant_count and citations_examiner_count \n",
    "citations_examiner_count is an integer denoting the number of citations made by the examiner for a given patent grant where as citations_applicant_count is an integer denoting the number of citations made by the applicant for a given patent grant. From the given input file, we determined that the string enclosed between category tag helps us decide if the citation is made by an examiner or an applicant. We can find the number of citations by counting the number of occurrences of 'cited by examiner' or 'cited by applicant'. It is extracted in the section which begins with #Cited By Applicant or Examiner Count.\n",
    "\n",
    "Line from the file : `<category>cited by `**`applicant`**`</category>` or `<category>cited by `**`examiner`**`</category>`\n",
    "\n",
    "In the above example, the string enclosed between category tag contains 'cited by applicant' or 'cited by examiner'. So, we are using the pattern _`<category>cited by (.*?)</category>`_ and counting the number of occurences of each and incrementing their respective variable valuesby one.\n",
    "\n",
    "\n",
    "### claims_text\n",
    "It is a list of claim texts for the different patent claims. From the given input file, we determined that the claim text information is enclosed between claims tag. We need to fetch each claim text from a particular claim id within the claims under a patent grant id. It is extracted in the section which begins with #Claim Text.\n",
    "\n",
    "Lines from the file : <br>\n",
    "`<claims id=\"claims\">`<br>\n",
    "`<claim id=\"CLM-00001\" num=\"00001\">`<br>\n",
    "`<claim-text>`**`I claim the ornamental design for a makeup applicator, substantially as shown and described.`**`</claim-text>`<br>\n",
    "`</claim>`<br>\n",
    "`</claims>`\n",
    "\n",
    "In the above example, we need to extract the string between `<claim-text>` and `</claim-text>`. Once we fetch everything between claims tags, we remove all the xml tags, replace newline character and strip starting/trailing spaces. It is observed from the cleaned data that few records start with serial number whereas few records start with plain text. So, using the findall functionality of regex, we divided the string into a list with serial number or no serial number and plain text. In order to display output as required, we concated the first and second element of the list mentioned earlier, appended it to a list, split it based on comma and finally, enclosing the newly formed string between '[]'\n",
    "\n",
    "\n",
    "### abstract\n",
    "It is the patent abstract text. It is extracted in the section which begins with #Abstract.\n",
    "\n",
    "Line from the file :<br>\n",
    "`<abstract id=\"abstract\">`<br>\n",
    "`<p id=\"p-0001\" num=\"0000\">`\n",
    "**`Authentication translation is disclosed. A request to access a resource is received at an authentication translator, as is an authentication input. The authentication input corresponds to at least one stored record. The stored record is associated at least with the resource. In response to the receiving, a previously stored credential associated with the resource is accessed. The credential is provided to the resource.`**\n",
    "`</p>`<br>\n",
    "`</abstract>`\n",
    "\n",
    "In the above example, the portion between `<abstract id=\"abstract\">` and `</abstract>` gives us the abstract text. Once the string is extracted, we are stripping off the starting/trailing spaces and then we are fetching the data between paragrapgh tags _`<p(.*?)>(.*?)</p>`_. In this pattern, we extract the second group as it contains the abstract text.\n",
    "\n",
    "\n",
    "After extracting all the required fields we are filling up the dataframe, which we will be later using to create the csv file. \n",
    "Then based on certain conditions, mainly the sequence of extracting data from the input file, we are writing data into a file with json extention which in the end becomes our output file in jsonn format."
   ]
  },
  {
   "cell_type": "code",
   "execution_count": null,
   "metadata": {},
   "outputs": [],
   "source": [
    "for i in range(len(patentDataList)):\n",
    "    line = patentDataList[i][0]   # Picking index 0 from the list of tuples in patentDataList\n",
    "    inventorListString = \"\"       # Initialize the inventorListString (used under inventor name section)\n",
    "    \n",
    "    \n",
    "    # Remove multiple spaces\n",
    "    line = re.sub('\\s\\s+', ' ', line)\n",
    "        \n",
    "    \n",
    "    #Grant ID\n",
    "    grantId = re.search('file=\"(.*?)-', line)\n",
    "    grantId = grantId.group(1).strip() \n",
    "\n",
    "    \n",
    "    #Patent Title    \n",
    "    patTitle = re.search('<invention-title(.*?)>(.*?)</invention-title>', line)\n",
    "    patTitle = patTitle.group(2).strip()\n",
    "\n",
    "\n",
    "    #Patent Kind\n",
    "    patentKind = re.search('appl-type=\"(.*?)\">', line)\n",
    "    patentKind = patentKind.group(1).strip()\n",
    "    \n",
    "    if patentKind == \"utility\":\n",
    "        publRef = re.search('<publication-reference>(.*?)</publication-reference>', line, re.DOTALL)\n",
    "        if publRef is not None:\n",
    "            publRef = publRef.group(1).strip()\n",
    "            pubKind = re.search('<kind>(.*?)</kind>', publRef, re.DOTALL)\n",
    "            pubKind = pubKind.group(1).strip()\n",
    "            if pubKind == \"B2\":\n",
    "                patentKind = \"Utility Patent Grant (with a published application) issued on or after January 2, 2001.\"\n",
    "            elif pubKind == \"B1\":\n",
    "                patentKind = \"Utility Patent Grant (no published application) issued on or after January 2, 2001.\"\n",
    "            else:\n",
    "                patentKind = \"Utility Patent\"\n",
    "    elif patentKind == \"design\":\n",
    "        patentKind = \"Design Patent\"\n",
    "    elif patentKind == \"reissue\":\n",
    "        patentKind = \"Reissue Patent\"\n",
    "        \n",
    "     \n",
    "    #Number Of Claims\n",
    "    numberOfClaims = re.search('<number-of-claims>(.*?)</number-of-claims>', line)\n",
    "    numberOfClaims = numberOfClaims.group(1).strip()  \n",
    "    \n",
    "    \n",
    "    #Inventors Name List\n",
    "    inventors = re.search('<inventors>(.*?)</inventors>', line, re.DOTALL)    # Fetch everything between the inventors tag\n",
    "    if inventors is not None:\n",
    "        inventors = inventors.group(1).strip()\n",
    "        inventors = re.findall(r'<last-name>((.|\\n)*?)</first-name>',inventors) # Fetch everything between last name and first name tags\n",
    "        for i in range(len(inventors)):\n",
    "            inventor = inventors[i][0]\n",
    "            inventor = inventor.replace(\"\\n\", \"\")    # Replace new lines with nothing\n",
    "            nameList = inventor.split(\"</last-name><first-name>\")   # Split the string based on '</last-name><first-name>'\n",
    "            inventorList.append(nameList[1] + \" \" + nameList[0])   # Concating the first name and last name and adding this concated string(name) into inventorList\n",
    "            \n",
    "        inventorListString = (', ').join(inventorList)     # Join each name with a comma\n",
    "        inventorListString = \"[\" + inventorListString + \"]\"    # Enclose the names with []\n",
    "        inventorList = []    # Setting inventorList to nothing to re-use it for next iteration\n",
    "    else:\n",
    "        inventorListString = \"[NA]\"\n",
    "    \n",
    "    \n",
    "    #Cited By Applicant or Examiner Count\n",
    "    applicantOrExaminer = re.findall('<category>cited by (.*?)</category>', line)\n",
    "    for element in applicantOrExaminer:\n",
    "        if element == citedByExaminer:\n",
    "            examinerCount += 1            # Increment count by 1 if cited by examiner\n",
    "        elif element == citedByApplicant:\n",
    "            applicantCount += 1           # Increment count by 1 if cited by applicant\n",
    "     \n",
    "    \n",
    "    # Claim Text\n",
    "    claimDetails = re.findall(r'<claims id=\"claims\">((.|\\n)*?)</claims>',line)    # Fetch the claims data between claims tag\n",
    "    claimDetails = claimDetails[0][0]            # Picking index 0 from the list of tuples in patentDataList\n",
    "    claimDetails = re.sub('<[^<]+>', \"\",claimDetails)    # Remove every tags within the string\n",
    "    claimDetails = claimDetails.replace(\"\\n\",\"\")       # Replace newline character with nothing in the string\n",
    "    claimDetails = claimDetails.strip()      # Strip off starting and trailing spaces\n",
    "\n",
    "    claimDetailsList = re.findall(r'(\\d+\\.)*(.*?\\.)',claimDetails)     # Fetch the cleaned claims data\n",
    "        \n",
    "        \n",
    "    # As the above statement creates list of tuples with first element as serial number/nothing and second element as the statement\n",
    "    # We concat those elements to form a string and append it to claimList\n",
    "    for element in claimDetailsList:\n",
    "        claimList.append(element[0] + element[1])     \n",
    "    \n",
    "    # The claimList elements are joined by comma to form a string and enclosed with [] as shown in sample output\n",
    "    claimText = (',').join(claimList)\n",
    "    claimText = \"[\" + claimText + \"]\"\n",
    "    claimList = []\n",
    "    \n",
    "    if claimText == \"[]\":\n",
    "        claimText = \"[NA]\"  \n",
    "    \n",
    "    \n",
    "    # Abstract\n",
    "    abstract = re.search('<abstract id=\"abstract\">(.*?)</abstract>', line, re.DOTALL)    # Fetch abstract information\n",
    "    if abstract is not None:\n",
    "        abstract = abstract.group(1).strip()\n",
    "        abstract = abstract.replace(\"\\n\",\"\")\n",
    "        abstract = abstract.strip()\n",
    "        abstract = re.sub('<[^<]+>', \"\",abstract) # Remove tags\n",
    "        abstract = abstract.strip()\n",
    "    else:\n",
    "        abstract = \"NA\"    \n",
    "    \n",
    "    # Append the extracted data for each patent into dataframe object\n",
    "    df = df.append({'grant_id': grantId, 'patent_title': patTitle, 'kind': patentKind, 'number_of_claims': int(numberOfClaims), 'inventors': inventorListString, 'citations_applicant_count': applicantCount, 'citations_examiner_count': examinerCount, 'claims_text': claimText, 'abstract': abstract}, ignore_index=True)\n",
    "       \n",
    "    # Forming the json string for a particular patent\n",
    "    if lineCounter == 1:\n",
    "        jsonString = '{\"' + grantId + '\":' + '{\"patent_title\":' + '\"' + patTitle + '\",' + '\"kind\":' + '\"' + patentKind + '\",' \\\n",
    "                    '\"number_of_claims\":' + str(numberOfClaims) + ',' + '\"inventors\":' + '\"' + inventorListString + '\",' + '\"citations_applicant_count\":' + str(applicantCount) + ',' \\\n",
    "                    '\"citations_examiner_count\":' + str(examinerCount) + ',' + '\"claims_text\":' + '\"' + claimText + '\",' + '\"abstract\":' + '\"' + abstract + '\"},'\n",
    "        \n",
    "    elif lineCounter >= 2 and lineCounter <= (len(patentDataList)-1):\n",
    "        jsonString = '\"' + grantId + '\":' + '{\"patent_title\":' + '\"' + patTitle + '\",' + '\"kind\":' + '\"' + patentKind + '\",' \\\n",
    "                    '\"number_of_claims\":' + str(numberOfClaims) + ',' + '\"inventors\":' + '\"' + inventorListString + '\",' + '\"citations_applicant_count\":' + str(applicantCount) + ',' \\\n",
    "                    '\"citations_examiner_count\":' + str(examinerCount) + ',' + '\"claims_text\":' + '\"' + claimText + '\",' + '\"abstract\":' + '\"' + abstract + '\"},'\n",
    "        \n",
    "    elif lineCounter == (len(patentDataList)):\n",
    "        jsonString = '\"' + grantId + '\":' + '{\"patent_title\":' + '\"' + patTitle + '\",' + '\"kind\":' + '\"' + patentKind + '\",' \\\n",
    "                    '\"number_of_claims\":' + str(numberOfClaims) + ',' + '\"inventors\":' + '\"' + inventorListString + '\",' + '\"citations_applicant_count\":' + str(applicantCount) + ',' \\\n",
    "                    '\"citations_examiner_count\":' + str(examinerCount) + ',' + '\"claims_text\":' + '\"' + claimText + '\",' + '\"abstract\":' + '\"' + abstract + '\"}}'\n",
    "    \n",
    "\n",
    "    # Writing into the json file\n",
    "    jsonFile.write(jsonString)  \n",
    "    lineCounter += 1\n",
    "        \n",
    "    # Setting the counts to zero so that for the next iteration, it'll start from zero\n",
    "    examinerCount = 0\n",
    "    applicantCount = 0"
   ]
  },
  {
   "cell_type": "markdown",
   "metadata": {},
   "source": [
    "The above code extracts the required information from the input txt file and appends that information into dataframe object.\n",
    "\n",
    "Below code is to export the extracted information present in dataframe object to a CSV file without the default index in dataframe."
   ]
  },
  {
   "cell_type": "code",
   "execution_count": null,
   "metadata": {},
   "outputs": [],
   "source": [
    "df.to_csv('Group010.csv', index = False, encoding='utf-8')"
   ]
  },
  {
   "cell_type": "markdown",
   "metadata": {},
   "source": [
    "Finally, once the data is parsed and extracted, we are closing the json file and the input file."
   ]
  },
  {
   "cell_type": "code",
   "execution_count": null,
   "metadata": {},
   "outputs": [],
   "source": [
    "jsonFile.close()\n",
    "inputFile.close()"
   ]
  }
 ],
 "metadata": {
  "kernelspec": {
   "display_name": "Python 3",
   "language": "python",
   "name": "python3"
  },
  "language_info": {
   "codemirror_mode": {
    "name": "ipython",
    "version": 3
   },
   "file_extension": ".py",
   "mimetype": "text/x-python",
   "name": "python",
   "nbconvert_exporter": "python",
   "pygments_lexer": "ipython3",
   "version": "3.7.6"
  }
 },
 "nbformat": 4,
 "nbformat_minor": 2
}
