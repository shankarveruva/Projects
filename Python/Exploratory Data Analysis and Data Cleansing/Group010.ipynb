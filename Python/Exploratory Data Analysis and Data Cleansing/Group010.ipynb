{
 "cells": [
  {
   "cell_type": "markdown",
   "metadata": {},
   "source": [
    "Date: 06/10/2019\n",
    "\n",
    "Version: 6.0\n",
    "\n",
    "Environment: Python 3.7.0 and Anaconda 2019.07 (64-bit)\n",
    "\n",
    "Libraries used:\n",
    "* pandas 0.24.2 (for data frame, included in Anaconda Python 3.7) \n",
    "* networkx 2.3 (for distance graph, included in Anaconda Python 3.7)\n",
    "* datetime (for datetime conversion, included in Anaconda Python 3.7)\n",
    "* sklearn.linear_model (LinearRegression - for delivery fee prediction)\n",
    "* re 2.2.1 (for regex pattern matching, included in Anaconda Python 3.7)\n",
    "* numpy 1.16.4 (for numpy array and order price computation, included in Anaconda Python 3.7)\n",
    "* matplotlib.pyplot (for plotting graphs, included in Anaconda Python 3.7)\n",
    "* math (for identifying NaN values, included in Anaconda Python 3.7)\n",
    "\n",
    "\n",
    "## Introduction\n",
    "\n",
    "This assignment requires us to analyze, find and fix the problems in the dataset. We have to perform graphical and/or non-graphical EDA methods to understand the data first and then find the data problems. We are required to:\n",
    "\n",
    "- Detect and fix errors in Group010_dirty_data.csv\n",
    "- Detect and remove outlier rows in Group010_outlier_data.csv (outliers are to be found w.r.t. delivery_fee attribute)\n",
    "- Impute the missing values in Group010_missing_data.csv\n",
    "\n",
    "As per the specifications, the dataset contains Food Delivery data from a restaurant in Melbourne, Australia. The restaurant has three branches around CBD area. All three branches share the same menu but they have different management so they operate differently.    \n",
    "\n",
    "More details will be provided in the following sections."
   ]
  },
  {
   "cell_type": "markdown",
   "metadata": {},
   "source": [
    "## Importing required libraries"
   ]
  },
  {
   "cell_type": "code",
   "execution_count": 1,
   "metadata": {},
   "outputs": [],
   "source": [
    "# To work with dataframes \n",
    "import pandas as pd\n",
    "\n",
    "# For datetime formatting\n",
    "from datetime import datetime\n",
    "\n",
    "# For Dijkstra's Algorithm\n",
    "import networkx as nx\n",
    "\n",
    "# For linear regression\n",
    "from sklearn.linear_model import LinearRegression\n",
    "\n",
    "# For using regex library\n",
    "import re\n",
    "\n",
    "# For using numpy library\n",
    "import numpy as np\n",
    "\n",
    "# To plot graphs\n",
    "import matplotlib.pyplot as plt\n",
    "%matplotlib inline\n",
    "\n",
    "# To check for nulls in the missing data section\n",
    "import math\n",
    "\n",
    "# For logistic regression\n",
    "from sklearn.linear_model import LogisticRegression"
   ]
  },
  {
   "cell_type": "markdown",
   "metadata": {},
   "source": [
    "# Loading the data\n",
    "\n",
    "Here, we create dataframes for each data file provided."
   ]
  },
  {
   "cell_type": "code",
   "execution_count": 2,
   "metadata": {},
   "outputs": [],
   "source": [
    "# Creating dataframe for dirty data\n",
    "dirtyData = pd.read_csv('Group010_dirty_data.csv')\n",
    "\n",
    "# Creating dataframe for missing data\n",
    "missingData = pd.read_csv('Group010_missing_data.csv')\n",
    "\n",
    "# Creating dataframe for outlier data\n",
    "outlierData = pd.read_csv('Group010_outlier_data.csv')\n",
    "\n",
    "# Creating dataframe for branches data\n",
    "branches = pd.read_csv('branches.csv')\n",
    "\n",
    "# Creating dataframe for nodes data\n",
    "nodes = pd.read_csv('nodes.csv')\n",
    "\n",
    "# Creating dataframe for edges data\n",
    "edges = pd.read_csv('edges.csv')"
   ]
  },
  {
   "cell_type": "markdown",
   "metadata": {},
   "source": [
    "# Outlier Data\n",
    "\n",
    "As per the specification, there are no anomalies in the outliers csv file except for the outliers. Hence we use this file to detect and remove outliers and use this data as reference for the missing and dirty data. Let's check for the dimensions of the outiers data."
   ]
  },
  {
   "cell_type": "code",
   "execution_count": 3,
   "metadata": {},
   "outputs": [
    {
     "data": {
      "text/plain": [
       "(500, 12)"
      ]
     },
     "execution_count": 3,
     "metadata": {},
     "output_type": "execute_result"
    }
   ],
   "source": [
    "# Check the dimensions of the data\n",
    "outlierData.shape"
   ]
  },
  {
   "cell_type": "markdown",
   "metadata": {},
   "source": [
    "Since outliers are based on delivery fee which in turn is dependent on branch code, we perform some preliminary analysis to figure out the calculations to detect and remove outliers."
   ]
  },
  {
   "cell_type": "code",
   "execution_count": 4,
   "metadata": {},
   "outputs": [
    {
     "data": {
      "text/html": [
       "<div>\n",
       "<style scoped>\n",
       "    .dataframe tbody tr th:only-of-type {\n",
       "        vertical-align: middle;\n",
       "    }\n",
       "\n",
       "    .dataframe tbody tr th {\n",
       "        vertical-align: top;\n",
       "    }\n",
       "\n",
       "    .dataframe thead th {\n",
       "        text-align: right;\n",
       "    }\n",
       "</style>\n",
       "<table border=\"1\" class=\"dataframe\">\n",
       "  <thead>\n",
       "    <tr style=\"text-align: right;\">\n",
       "      <th></th>\n",
       "      <th>order_price</th>\n",
       "      <th>customer_lat</th>\n",
       "      <th>customer_lon</th>\n",
       "      <th>customerHasloyalty?</th>\n",
       "      <th>distance_to_customer_KM</th>\n",
       "      <th>delivery_fee</th>\n",
       "    </tr>\n",
       "  </thead>\n",
       "  <tbody>\n",
       "    <tr>\n",
       "      <th>count</th>\n",
       "      <td>164.000000</td>\n",
       "      <td>164.000000</td>\n",
       "      <td>164.000000</td>\n",
       "      <td>164.00000</td>\n",
       "      <td>164.000000</td>\n",
       "      <td>164.000000</td>\n",
       "    </tr>\n",
       "    <tr>\n",
       "      <th>mean</th>\n",
       "      <td>489.397256</td>\n",
       "      <td>-37.812642</td>\n",
       "      <td>144.968954</td>\n",
       "      <td>0.02439</td>\n",
       "      <td>8.894689</td>\n",
       "      <td>14.504626</td>\n",
       "    </tr>\n",
       "    <tr>\n",
       "      <th>std</th>\n",
       "      <td>273.018050</td>\n",
       "      <td>0.007777</td>\n",
       "      <td>0.021799</td>\n",
       "      <td>0.15473</td>\n",
       "      <td>1.136079</td>\n",
       "      <td>2.612485</td>\n",
       "    </tr>\n",
       "    <tr>\n",
       "      <th>min</th>\n",
       "      <td>29.500000</td>\n",
       "      <td>-37.827676</td>\n",
       "      <td>144.927106</td>\n",
       "      <td>0.00000</td>\n",
       "      <td>6.376000</td>\n",
       "      <td>6.274146</td>\n",
       "    </tr>\n",
       "    <tr>\n",
       "      <th>25%</th>\n",
       "      <td>254.950000</td>\n",
       "      <td>-37.819037</td>\n",
       "      <td>144.952628</td>\n",
       "      <td>0.00000</td>\n",
       "      <td>7.984750</td>\n",
       "      <td>13.626231</td>\n",
       "    </tr>\n",
       "    <tr>\n",
       "      <th>50%</th>\n",
       "      <td>437.200000</td>\n",
       "      <td>-37.812974</td>\n",
       "      <td>144.965306</td>\n",
       "      <td>0.00000</td>\n",
       "      <td>8.942500</td>\n",
       "      <td>14.706808</td>\n",
       "    </tr>\n",
       "    <tr>\n",
       "      <th>75%</th>\n",
       "      <td>661.100000</td>\n",
       "      <td>-37.806316</td>\n",
       "      <td>144.985131</td>\n",
       "      <td>0.00000</td>\n",
       "      <td>9.715000</td>\n",
       "      <td>15.645474</td>\n",
       "    </tr>\n",
       "    <tr>\n",
       "      <th>max</th>\n",
       "      <td>1315.000000</td>\n",
       "      <td>-37.796740</td>\n",
       "      <td>145.015651</td>\n",
       "      <td>1.00000</td>\n",
       "      <td>11.815000</td>\n",
       "      <td>24.587397</td>\n",
       "    </tr>\n",
       "  </tbody>\n",
       "</table>\n",
       "</div>"
      ],
      "text/plain": [
       "       order_price  customer_lat  customer_lon  customerHasloyalty?  \\\n",
       "count   164.000000    164.000000    164.000000            164.00000   \n",
       "mean    489.397256    -37.812642    144.968954              0.02439   \n",
       "std     273.018050      0.007777      0.021799              0.15473   \n",
       "min      29.500000    -37.827676    144.927106              0.00000   \n",
       "25%     254.950000    -37.819037    144.952628              0.00000   \n",
       "50%     437.200000    -37.812974    144.965306              0.00000   \n",
       "75%     661.100000    -37.806316    144.985131              0.00000   \n",
       "max    1315.000000    -37.796740    145.015651              1.00000   \n",
       "\n",
       "       distance_to_customer_KM  delivery_fee  \n",
       "count               164.000000    164.000000  \n",
       "mean                  8.894689     14.504626  \n",
       "std                   1.136079      2.612485  \n",
       "min                   6.376000      6.274146  \n",
       "25%                   7.984750     13.626231  \n",
       "50%                   8.942500     14.706808  \n",
       "75%                   9.715000     15.645474  \n",
       "max                  11.815000     24.587397  "
      ]
     },
     "execution_count": 4,
     "metadata": {},
     "output_type": "execute_result"
    }
   ],
   "source": [
    "# preliminary form of data analysis to check the content of the outlierData dataframe\n",
    "outlierData[outlierData['branch_code']=='NS'].describe()"
   ]
  },
  {
   "cell_type": "code",
   "execution_count": 5,
   "metadata": {},
   "outputs": [
    {
     "data": {
      "text/html": [
       "<div>\n",
       "<style scoped>\n",
       "    .dataframe tbody tr th:only-of-type {\n",
       "        vertical-align: middle;\n",
       "    }\n",
       "\n",
       "    .dataframe tbody tr th {\n",
       "        vertical-align: top;\n",
       "    }\n",
       "\n",
       "    .dataframe thead th {\n",
       "        text-align: right;\n",
       "    }\n",
       "</style>\n",
       "<table border=\"1\" class=\"dataframe\">\n",
       "  <thead>\n",
       "    <tr style=\"text-align: right;\">\n",
       "      <th></th>\n",
       "      <th>order_price</th>\n",
       "      <th>customer_lat</th>\n",
       "      <th>customer_lon</th>\n",
       "      <th>customerHasloyalty?</th>\n",
       "      <th>distance_to_customer_KM</th>\n",
       "      <th>delivery_fee</th>\n",
       "    </tr>\n",
       "  </thead>\n",
       "  <tbody>\n",
       "    <tr>\n",
       "      <th>count</th>\n",
       "      <td>169.000000</td>\n",
       "      <td>169.000000</td>\n",
       "      <td>169.000000</td>\n",
       "      <td>169.000000</td>\n",
       "      <td>169.000000</td>\n",
       "      <td>169.000000</td>\n",
       "    </tr>\n",
       "    <tr>\n",
       "      <th>mean</th>\n",
       "      <td>502.444379</td>\n",
       "      <td>-37.812489</td>\n",
       "      <td>144.966972</td>\n",
       "      <td>0.047337</td>\n",
       "      <td>7.730586</td>\n",
       "      <td>13.977532</td>\n",
       "    </tr>\n",
       "    <tr>\n",
       "      <th>std</th>\n",
       "      <td>260.326992</td>\n",
       "      <td>0.008220</td>\n",
       "      <td>0.023415</td>\n",
       "      <td>0.212990</td>\n",
       "      <td>1.952473</td>\n",
       "      <td>3.575330</td>\n",
       "    </tr>\n",
       "    <tr>\n",
       "      <th>min</th>\n",
       "      <td>66.000000</td>\n",
       "      <td>-37.827954</td>\n",
       "      <td>144.910758</td>\n",
       "      <td>0.000000</td>\n",
       "      <td>3.827000</td>\n",
       "      <td>5.417400</td>\n",
       "    </tr>\n",
       "    <tr>\n",
       "      <th>25%</th>\n",
       "      <td>308.250000</td>\n",
       "      <td>-37.819137</td>\n",
       "      <td>144.951600</td>\n",
       "      <td>0.000000</td>\n",
       "      <td>6.521000</td>\n",
       "      <td>11.470013</td>\n",
       "    </tr>\n",
       "    <tr>\n",
       "      <th>50%</th>\n",
       "      <td>461.000000</td>\n",
       "      <td>-37.813178</td>\n",
       "      <td>144.964142</td>\n",
       "      <td>0.000000</td>\n",
       "      <td>7.834000</td>\n",
       "      <td>14.106258</td>\n",
       "    </tr>\n",
       "    <tr>\n",
       "      <th>75%</th>\n",
       "      <td>663.000000</td>\n",
       "      <td>-37.804742</td>\n",
       "      <td>144.983826</td>\n",
       "      <td>0.000000</td>\n",
       "      <td>8.822000</td>\n",
       "      <td>15.939524</td>\n",
       "    </tr>\n",
       "    <tr>\n",
       "      <th>max</th>\n",
       "      <td>1207.000000</td>\n",
       "      <td>-37.794980</td>\n",
       "      <td>145.018672</td>\n",
       "      <td>1.000000</td>\n",
       "      <td>12.933000</td>\n",
       "      <td>27.349952</td>\n",
       "    </tr>\n",
       "  </tbody>\n",
       "</table>\n",
       "</div>"
      ],
      "text/plain": [
       "       order_price  customer_lat  customer_lon  customerHasloyalty?  \\\n",
       "count   169.000000    169.000000    169.000000           169.000000   \n",
       "mean    502.444379    -37.812489    144.966972             0.047337   \n",
       "std     260.326992      0.008220      0.023415             0.212990   \n",
       "min      66.000000    -37.827954    144.910758             0.000000   \n",
       "25%     308.250000    -37.819137    144.951600             0.000000   \n",
       "50%     461.000000    -37.813178    144.964142             0.000000   \n",
       "75%     663.000000    -37.804742    144.983826             0.000000   \n",
       "max    1207.000000    -37.794980    145.018672             1.000000   \n",
       "\n",
       "       distance_to_customer_KM  delivery_fee  \n",
       "count               169.000000    169.000000  \n",
       "mean                  7.730586     13.977532  \n",
       "std                   1.952473      3.575330  \n",
       "min                   3.827000      5.417400  \n",
       "25%                   6.521000     11.470013  \n",
       "50%                   7.834000     14.106258  \n",
       "75%                   8.822000     15.939524  \n",
       "max                  12.933000     27.349952  "
      ]
     },
     "execution_count": 5,
     "metadata": {},
     "output_type": "execute_result"
    }
   ],
   "source": [
    "# preliminary form of data analysis to check the content of the outlierData dataframe\n",
    "outlierData[outlierData['branch_code']=='BK'].describe()"
   ]
  },
  {
   "cell_type": "code",
   "execution_count": 6,
   "metadata": {},
   "outputs": [
    {
     "data": {
      "text/html": [
       "<div>\n",
       "<style scoped>\n",
       "    .dataframe tbody tr th:only-of-type {\n",
       "        vertical-align: middle;\n",
       "    }\n",
       "\n",
       "    .dataframe tbody tr th {\n",
       "        vertical-align: top;\n",
       "    }\n",
       "\n",
       "    .dataframe thead th {\n",
       "        text-align: right;\n",
       "    }\n",
       "</style>\n",
       "<table border=\"1\" class=\"dataframe\">\n",
       "  <thead>\n",
       "    <tr style=\"text-align: right;\">\n",
       "      <th></th>\n",
       "      <th>order_price</th>\n",
       "      <th>customer_lat</th>\n",
       "      <th>customer_lon</th>\n",
       "      <th>customerHasloyalty?</th>\n",
       "      <th>distance_to_customer_KM</th>\n",
       "      <th>delivery_fee</th>\n",
       "    </tr>\n",
       "  </thead>\n",
       "  <tbody>\n",
       "    <tr>\n",
       "      <th>count</th>\n",
       "      <td>167.000000</td>\n",
       "      <td>167.000000</td>\n",
       "      <td>167.000000</td>\n",
       "      <td>167.000000</td>\n",
       "      <td>167.00000</td>\n",
       "      <td>167.000000</td>\n",
       "    </tr>\n",
       "    <tr>\n",
       "      <th>mean</th>\n",
       "      <td>494.797305</td>\n",
       "      <td>-37.812351</td>\n",
       "      <td>144.966087</td>\n",
       "      <td>0.041916</td>\n",
       "      <td>9.66415</td>\n",
       "      <td>13.211146</td>\n",
       "    </tr>\n",
       "    <tr>\n",
       "      <th>std</th>\n",
       "      <td>257.522649</td>\n",
       "      <td>0.007574</td>\n",
       "      <td>0.021690</td>\n",
       "      <td>0.201000</td>\n",
       "      <td>1.33555</td>\n",
       "      <td>2.476505</td>\n",
       "    </tr>\n",
       "    <tr>\n",
       "      <th>min</th>\n",
       "      <td>44.500000</td>\n",
       "      <td>-37.828229</td>\n",
       "      <td>144.925859</td>\n",
       "      <td>0.000000</td>\n",
       "      <td>7.36900</td>\n",
       "      <td>5.380318</td>\n",
       "    </tr>\n",
       "    <tr>\n",
       "      <th>25%</th>\n",
       "      <td>304.800000</td>\n",
       "      <td>-37.818596</td>\n",
       "      <td>144.950687</td>\n",
       "      <td>0.000000</td>\n",
       "      <td>8.69900</td>\n",
       "      <td>12.204025</td>\n",
       "    </tr>\n",
       "    <tr>\n",
       "      <th>50%</th>\n",
       "      <td>461.000000</td>\n",
       "      <td>-37.813119</td>\n",
       "      <td>144.963154</td>\n",
       "      <td>0.000000</td>\n",
       "      <td>9.50800</td>\n",
       "      <td>13.381728</td>\n",
       "    </tr>\n",
       "    <tr>\n",
       "      <th>75%</th>\n",
       "      <td>623.500000</td>\n",
       "      <td>-37.805861</td>\n",
       "      <td>144.982240</td>\n",
       "      <td>0.000000</td>\n",
       "      <td>10.41900</td>\n",
       "      <td>14.558865</td>\n",
       "    </tr>\n",
       "    <tr>\n",
       "      <th>max</th>\n",
       "      <td>1312.000000</td>\n",
       "      <td>-37.793879</td>\n",
       "      <td>145.015586</td>\n",
       "      <td>1.000000</td>\n",
       "      <td>13.77400</td>\n",
       "      <td>20.413104</td>\n",
       "    </tr>\n",
       "  </tbody>\n",
       "</table>\n",
       "</div>"
      ],
      "text/plain": [
       "       order_price  customer_lat  customer_lon  customerHasloyalty?  \\\n",
       "count   167.000000    167.000000    167.000000           167.000000   \n",
       "mean    494.797305    -37.812351    144.966087             0.041916   \n",
       "std     257.522649      0.007574      0.021690             0.201000   \n",
       "min      44.500000    -37.828229    144.925859             0.000000   \n",
       "25%     304.800000    -37.818596    144.950687             0.000000   \n",
       "50%     461.000000    -37.813119    144.963154             0.000000   \n",
       "75%     623.500000    -37.805861    144.982240             0.000000   \n",
       "max    1312.000000    -37.793879    145.015586             1.000000   \n",
       "\n",
       "       distance_to_customer_KM  delivery_fee  \n",
       "count                167.00000    167.000000  \n",
       "mean                   9.66415     13.211146  \n",
       "std                    1.33555      2.476505  \n",
       "min                    7.36900      5.380318  \n",
       "25%                    8.69900     12.204025  \n",
       "50%                    9.50800     13.381728  \n",
       "75%                   10.41900     14.558865  \n",
       "max                   13.77400     20.413104  "
      ]
     },
     "execution_count": 6,
     "metadata": {},
     "output_type": "execute_result"
    }
   ],
   "source": [
    "# preliminary form of data analysis to check the content of the outlierData dataframe\n",
    "outlierData[outlierData['branch_code']=='TP'].describe()"
   ]
  },
  {
   "cell_type": "markdown",
   "metadata": {},
   "source": [
    "We now plot outliers using the boxplot for outliers data, check for outliers and remove them."
   ]
  },
  {
   "cell_type": "code",
   "execution_count": 7,
   "metadata": {},
   "outputs": [
    {
     "data": {
      "text/plain": [
       "<matplotlib.axes._subplots.AxesSubplot at 0x29f49fd0b38>"
      ]
     },
     "execution_count": 7,
     "metadata": {},
     "output_type": "execute_result"
    },
    {
     "data": {
      "image/png": "[encoded data removed]",
      "text/plain": [
       "<Figure size 864x576 with 1 Axes>"
      ]
     },
     "metadata": {
      "needs_background": "light"
     },
     "output_type": "display_data"
    }
   ],
   "source": [
    "# Generating outliers from outlier data\n",
    "outlierData.boxplot(column='delivery_fee', by = 'branch_code', figsize=[12,8])"
   ]
  },
  {
   "cell_type": "markdown",
   "metadata": {},
   "source": [
    "We can see in the above graph that there are few outliers for each branch. Below is the code to find out the upper and lower boundary points for each branch. Here, we use IQR method to identify lower and upper boundary points. The points which lie beyond these boundary points are considered as outliers and are to be removed."
   ]
  },
  {
   "cell_type": "code",
   "execution_count": 8,
   "metadata": {},
   "outputs": [],
   "source": [
    "def findQuantile(totalList):\n",
    "    arr = np.array(totalList)                                             # Convert the list to numpy array\n",
    "    upperQuartile = np.percentile(arr, 75)                                # Calculate 75th percentile value (Q3)\n",
    "    lowerQuartile = np.percentile(arr, 25)                                # Calculate 25th percentile value (Q1)\n",
    "    IQR = upperQuartile - lowerQuartile                                   # Calculate IQR (Q3 - Q1)\n",
    "    quartileSet = (lowerQuartile - (1.5*IQR), upperQuartile + (1.5*IQR))  # Calculate lower and upper boundary points\n",
    "    \n",
    "    return quartileSet"
   ]
  },
  {
   "cell_type": "code",
   "execution_count": 9,
   "metadata": {},
   "outputs": [],
   "source": [
    "# Initializing empty lists for each branch\n",
    "listBK = []\n",
    "listNS = []\n",
    "listTP = []\n",
    "\n",
    "# Splitting outlier data for delivery fee based on branch code\n",
    "for index, row in outlierData.iterrows():\n",
    "    if outlierData.at[index, 'branch_code'] == 'BK':\n",
    "        listBK.append(outlierData.at[index, 'delivery_fee'])\n",
    "    elif outlierData.at[index, 'branch_code'] == 'NS':\n",
    "        listNS.append(outlierData.at[index, 'delivery_fee'])\n",
    "    else:\n",
    "        listTP.append(outlierData.at[index, 'delivery_fee'])"
   ]
  },
  {
   "cell_type": "code",
   "execution_count": 10,
   "metadata": {},
   "outputs": [
    {
     "name": "stdout",
     "output_type": "stream",
     "text": [
      "lower and upper boundary points for outlier data (BK) :  (4.7657459, 22.6437915)\n",
      "lower and upper boundary points for outlier data (NS) :  (10.597365087499995, 18.674339987500005)\n",
      "lower and upper boundary points for outlier data (TP) :  (8.67176525, 18.09112485)\n"
     ]
    }
   ],
   "source": [
    "# Finding quantile set(Q3 and Q1) for each branch\n",
    "\n",
    "quantileSetBK = findQuantile(listBK)\n",
    "quantileSetNS = findQuantile(listNS)\n",
    "quantileSetTP = findQuantile(listTP)\n",
    "\n",
    "print('lower and upper boundary points for outlier data (BK) : ', quantileSetBK)\n",
    "print('lower and upper boundary points for outlier data (NS) : ', quantileSetNS)\n",
    "print('lower and upper boundary points for outlier data (TP) : ', quantileSetTP)"
   ]
  },
  {
   "cell_type": "code",
   "execution_count": 11,
   "metadata": {},
   "outputs": [],
   "source": [
    "# For each branch we check for the outliers and remove them\n",
    "\n",
    "for index, row in outlierData.iterrows():\n",
    "    # For branch BK\n",
    "    if outlierData.at[index, 'branch_code'] == 'BK':\n",
    "        if round(outlierData.at[index, 'delivery_fee'],3) < round(quantileSetBK[0],3) or round(outlierData.at[index, 'delivery_fee'],3) > round(quantileSetBK[1],3):\n",
    "            outlierData = outlierData.drop(index)\n",
    "    \n",
    "    # For branch NS\n",
    "    elif outlierData.at[index, 'branch_code'] == 'NS':\n",
    "        if round(outlierData.at[index, 'delivery_fee'],3) < round(quantileSetNS[0],3) or round(outlierData.at[index, 'delivery_fee'],3) > round(quantileSetNS[1],3):\n",
    "            outlierData = outlierData.drop(index)\n",
    "    \n",
    "    # For branch TP        \n",
    "    elif outlierData.at[index, 'branch_code'] == 'TP':\n",
    "        if round(outlierData.at[index, 'delivery_fee'],3) < round(quantileSetTP[0],3) or round(outlierData.at[index, 'delivery_fee'],3) > round(quantileSetTP[1],3):\n",
    "            outlierData = outlierData.drop(index)"
   ]
  },
  {
   "cell_type": "code",
   "execution_count": 12,
   "metadata": {},
   "outputs": [
    {
     "data": {
      "text/plain": [
       "(465, 12)"
      ]
     },
     "execution_count": 12,
     "metadata": {},
     "output_type": "execute_result"
    }
   ],
   "source": [
    "# Check the dimensions of the data\n",
    "outlierData.shape"
   ]
  },
  {
   "cell_type": "markdown",
   "metadata": {},
   "source": [
    "We have now removed the outliers. From the count of 500 rows of outlier data, we are left with 465 rows after removing the outliers. Hence, there are a total of 35 outliers in the outliers file provided."
   ]
  },
  {
   "cell_type": "code",
   "execution_count": 13,
   "metadata": {},
   "outputs": [],
   "source": [
    "# To reset the index after removing outliers \n",
    "outlierData.reset_index(inplace = True)\n",
    "\n",
    "# Delete the index column that was created due to resetting the index\n",
    "del outlierData['index']"
   ]
  },
  {
   "cell_type": "markdown",
   "metadata": {},
   "source": [
    "Using the rectified outlierData we can now plot a couple of graphs to explore the relationships among the columns in the dataset."
   ]
  },
  {
   "cell_type": "code",
   "execution_count": 14,
   "metadata": {},
   "outputs": [],
   "source": [
    "# Segregating based on branch code\n",
    "NSOutlier = outlierData.loc[outlierData['branch_code'] == 'NS']\n",
    "BKOutlier = outlierData.loc[outlierData['branch_code'] == 'BK']\n",
    "TPOutlier = outlierData.loc[outlierData['branch_code'] == 'TP']"
   ]
  },
  {
   "cell_type": "code",
   "execution_count": 15,
   "metadata": {},
   "outputs": [
    {
     "name": "stdout",
     "output_type": "stream",
     "text": [
      "0.7450822416481205\n",
      "0.5850619300725768\n",
      "0.695294565021383\n"
     ]
    }
   ],
   "source": [
    "print(NSOutlier['distance_to_customer_KM'].corr(NSOutlier['delivery_fee']))\n",
    "print(BKOutlier['distance_to_customer_KM'].corr(BKOutlier['delivery_fee']))\n",
    "print(TPOutlier['distance_to_customer_KM'].corr(TPOutlier['delivery_fee']))"
   ]
  },
  {
   "cell_type": "code",
   "execution_count": 16,
   "metadata": {},
   "outputs": [
    {
     "data": {
      "text/plain": [
       "Text(0.5, 1.0, 'Correlation between Distance To Customer KM vs  Delivery Fee')"
      ]
     },
     "execution_count": 16,
     "metadata": {},
     "output_type": "execute_result"
    },
    {
     "data": {
      "image/png": "[encoded data removed]",
      "text/plain": [
       "<Figure size 720x360 with 1 Axes>"
      ]
     },
     "metadata": {
      "needs_background": "light"
     },
     "output_type": "display_data"
    }
   ],
   "source": [
    "plt.rcParams[\"figure.figsize\"] = (10,5)\n",
    "plt.scatter(NSOutlier['distance_to_customer_KM'], NSOutlier['delivery_fee'], label='Branch NS')\n",
    "plt.scatter(BKOutlier['distance_to_customer_KM'], BKOutlier['delivery_fee'], label='Branch BK')\n",
    "plt.scatter(TPOutlier['distance_to_customer_KM'], TPOutlier['delivery_fee'], label='Branch TP')\n",
    "plt.legend()\n",
    "plt.xlabel('Distance To Customer KM')\n",
    "plt.ylabel('Delivery Fee')\n",
    "plt.title('Correlation between Distance To Customer KM vs  Delivery Fee')"
   ]
  },
  {
   "cell_type": "markdown",
   "metadata": {},
   "source": [
    "Using the corr function betweenn the two columns we can definitely say that some sort of positive correlation between them.\n",
    "\n",
    "Then the above graph also helps us in visualising the correlation between `distance_to_customer_KM` and `delivery_fee` column for the respective `branch_codes`. "
   ]
  },
  {
   "cell_type": "markdown",
   "metadata": {},
   "source": [
    "We finally export the resultant outlier dataframe to a csv file. Below code does the same."
   ]
  },
  {
   "cell_type": "code",
   "execution_count": 17,
   "metadata": {},
   "outputs": [],
   "source": [
    "outlierData.to_csv('Group010_outlier_data_solution.csv', index = False)"
   ]
  },
  {
   "cell_type": "markdown",
   "metadata": {},
   "source": [
    "As we have detected and removed the outliers, we move onto missing dataset.\n",
    "\n",
    "# Missing Data\n",
    "\n",
    "Since we have already loaded the data into dataframe, we now check which fields have the data missing."
   ]
  },
  {
   "cell_type": "code",
   "execution_count": 18,
   "metadata": {},
   "outputs": [
    {
     "data": {
      "text/plain": [
       "order_id                     0\n",
       "date                         0\n",
       "time                         0\n",
       "order_type                   0\n",
       "branch_code                100\n",
       "order_items                  0\n",
       "order_price                  0\n",
       "customer_lat                 0\n",
       "customer_lon                 0\n",
       "customerHasloyalty?          0\n",
       "distance_to_customer_KM     50\n",
       "delivery_fee                50\n",
       "dtype: int64"
      ]
     },
     "execution_count": 18,
     "metadata": {},
     "output_type": "execute_result"
    }
   ],
   "source": [
    "missingData.isnull().sum()"
   ]
  },
  {
   "cell_type": "markdown",
   "metadata": {},
   "source": [
    "The above code result states that there are 100 missing branch codes, 50 missing distance in terms of KM and 50 missing delivery fee. We handle each of them one by one.\n",
    "\n"
   ]
  },
  {
   "cell_type": "code",
   "execution_count": 19,
   "metadata": {},
   "outputs": [
    {
     "data": {
      "text/html": [
       "<div>\n",
       "<style scoped>\n",
       "    .dataframe tbody tr th:only-of-type {\n",
       "        vertical-align: middle;\n",
       "    }\n",
       "\n",
       "    .dataframe tbody tr th {\n",
       "        vertical-align: top;\n",
       "    }\n",
       "\n",
       "    .dataframe thead th {\n",
       "        text-align: right;\n",
       "    }\n",
       "</style>\n",
       "<table border=\"1\" class=\"dataframe\">\n",
       "  <thead>\n",
       "    <tr style=\"text-align: right;\">\n",
       "      <th></th>\n",
       "      <th>order_price</th>\n",
       "      <th>customer_lat</th>\n",
       "      <th>customer_lon</th>\n",
       "      <th>customerHasloyalty?</th>\n",
       "      <th>distance_to_customer_KM</th>\n",
       "      <th>delivery_fee</th>\n",
       "    </tr>\n",
       "  </thead>\n",
       "  <tbody>\n",
       "    <tr>\n",
       "      <th>count</th>\n",
       "      <td>500.000000</td>\n",
       "      <td>500.000000</td>\n",
       "      <td>500.000000</td>\n",
       "      <td>500.00000</td>\n",
       "      <td>450.000000</td>\n",
       "      <td>450.000000</td>\n",
       "    </tr>\n",
       "    <tr>\n",
       "      <th>mean</th>\n",
       "      <td>478.596600</td>\n",
       "      <td>-37.812275</td>\n",
       "      <td>144.966984</td>\n",
       "      <td>0.04200</td>\n",
       "      <td>8.640156</td>\n",
       "      <td>13.981347</td>\n",
       "    </tr>\n",
       "    <tr>\n",
       "      <th>std</th>\n",
       "      <td>263.583165</td>\n",
       "      <td>0.007548</td>\n",
       "      <td>0.020704</td>\n",
       "      <td>0.20079</td>\n",
       "      <td>1.569487</td>\n",
       "      <td>2.228607</td>\n",
       "    </tr>\n",
       "    <tr>\n",
       "      <th>min</th>\n",
       "      <td>28.500000</td>\n",
       "      <td>-37.827382</td>\n",
       "      <td>144.925244</td>\n",
       "      <td>0.00000</td>\n",
       "      <td>3.562000</td>\n",
       "      <td>4.499288</td>\n",
       "    </tr>\n",
       "    <tr>\n",
       "      <th>25%</th>\n",
       "      <td>274.500000</td>\n",
       "      <td>-37.818665</td>\n",
       "      <td>144.952520</td>\n",
       "      <td>0.00000</td>\n",
       "      <td>7.816250</td>\n",
       "      <td>12.895173</td>\n",
       "    </tr>\n",
       "    <tr>\n",
       "      <th>50%</th>\n",
       "      <td>427.725000</td>\n",
       "      <td>-37.812237</td>\n",
       "      <td>144.963677</td>\n",
       "      <td>0.00000</td>\n",
       "      <td>8.712500</td>\n",
       "      <td>14.081154</td>\n",
       "    </tr>\n",
       "    <tr>\n",
       "      <th>75%</th>\n",
       "      <td>634.850000</td>\n",
       "      <td>-37.806269</td>\n",
       "      <td>144.980778</td>\n",
       "      <td>0.00000</td>\n",
       "      <td>9.687500</td>\n",
       "      <td>15.385462</td>\n",
       "    </tr>\n",
       "    <tr>\n",
       "      <th>max</th>\n",
       "      <td>1335.000000</td>\n",
       "      <td>-37.794697</td>\n",
       "      <td>145.018679</td>\n",
       "      <td>1.00000</td>\n",
       "      <td>12.915000</td>\n",
       "      <td>19.135896</td>\n",
       "    </tr>\n",
       "  </tbody>\n",
       "</table>\n",
       "</div>"
      ],
      "text/plain": [
       "       order_price  customer_lat  customer_lon  customerHasloyalty?  \\\n",
       "count   500.000000    500.000000    500.000000            500.00000   \n",
       "mean    478.596600    -37.812275    144.966984              0.04200   \n",
       "std     263.583165      0.007548      0.020704              0.20079   \n",
       "min      28.500000    -37.827382    144.925244              0.00000   \n",
       "25%     274.500000    -37.818665    144.952520              0.00000   \n",
       "50%     427.725000    -37.812237    144.963677              0.00000   \n",
       "75%     634.850000    -37.806269    144.980778              0.00000   \n",
       "max    1335.000000    -37.794697    145.018679              1.00000   \n",
       "\n",
       "       distance_to_customer_KM  delivery_fee  \n",
       "count               450.000000    450.000000  \n",
       "mean                  8.640156     13.981347  \n",
       "std                   1.569487      2.228607  \n",
       "min                   3.562000      4.499288  \n",
       "25%                   7.816250     12.895173  \n",
       "50%                   8.712500     14.081154  \n",
       "75%                   9.687500     15.385462  \n",
       "max                  12.915000     19.135896  "
      ]
     },
     "execution_count": 19,
     "metadata": {},
     "output_type": "execute_result"
    }
   ],
   "source": [
    "# preliminary form of data analysis to check the content of the missingData dataframe\n",
    "missingData.describe()"
   ]
  },
  {
   "cell_type": "markdown",
   "metadata": {},
   "source": [
    "To fix the branch code, we use the branches file and compare the data with the outliers data.\n",
    "\n",
    "### branch_code\n",
    "\n",
    "This field represents the branch code in which the order was prepared. We need to make sure that all the entries in this column are in one of the mentioned branch codes."
   ]
  },
  {
   "cell_type": "code",
   "execution_count": 20,
   "metadata": {},
   "outputs": [
    {
     "data": {
      "text/html": [
       "<div>\n",
       "<style scoped>\n",
       "    .dataframe tbody tr th:only-of-type {\n",
       "        vertical-align: middle;\n",
       "    }\n",
       "\n",
       "    .dataframe tbody tr th {\n",
       "        vertical-align: top;\n",
       "    }\n",
       "\n",
       "    .dataframe thead th {\n",
       "        text-align: right;\n",
       "    }\n",
       "</style>\n",
       "<table border=\"1\" class=\"dataframe\">\n",
       "  <thead>\n",
       "    <tr style=\"text-align: right;\">\n",
       "      <th></th>\n",
       "      <th>branch_code</th>\n",
       "      <th>branch_name</th>\n",
       "      <th>branch_lat</th>\n",
       "      <th>branch_lon</th>\n",
       "    </tr>\n",
       "  </thead>\n",
       "  <tbody>\n",
       "    <tr>\n",
       "      <th>0</th>\n",
       "      <td>NS</td>\n",
       "      <td>Nickolson</td>\n",
       "      <td>-37.773803</td>\n",
       "      <td>144.983647</td>\n",
       "    </tr>\n",
       "    <tr>\n",
       "      <th>1</th>\n",
       "      <td>TP</td>\n",
       "      <td>Thompson</td>\n",
       "      <td>-37.861835</td>\n",
       "      <td>144.905716</td>\n",
       "    </tr>\n",
       "    <tr>\n",
       "      <th>2</th>\n",
       "      <td>BK</td>\n",
       "      <td>Bakers</td>\n",
       "      <td>-37.815834</td>\n",
       "      <td>145.046450</td>\n",
       "    </tr>\n",
       "  </tbody>\n",
       "</table>\n",
       "</div>"
      ],
      "text/plain": [
       "  branch_code branch_name  branch_lat  branch_lon\n",
       "0          NS   Nickolson  -37.773803  144.983647\n",
       "1          TP    Thompson  -37.861835  144.905716\n",
       "2          BK      Bakers  -37.815834  145.046450"
      ]
     },
     "execution_count": 20,
     "metadata": {},
     "output_type": "execute_result"
    }
   ],
   "source": [
    "# Checking the data in branches dataframe\n",
    "branches"
   ]
  },
  {
   "cell_type": "code",
   "execution_count": 21,
   "metadata": {
    "scrolled": true
   },
   "outputs": [
    {
     "name": "stdout",
     "output_type": "stream",
     "text": [
      "Unique branch codes in branches.csv file :  ['NS' 'TP' 'BK']\n"
     ]
    }
   ],
   "source": [
    "# To see unique branch codes \n",
    "print('Unique branch codes in branches.csv file : ', branches['branch_code'].unique())"
   ]
  },
  {
   "cell_type": "markdown",
   "metadata": {},
   "source": [
    "Based on the above code result, we see that there are three unique branch codes namely - NS, TP and BK. We need to make sure we have these branch codes only in our dirty dataset.\n",
    "\n",
    "By looking at the input dataset of outliers data, we can find a relation between a subset of order id (subset of first 4 characters of order id) and branch code. Below is the code for the relationship between subset of order id and branch code."
   ]
  },
  {
   "cell_type": "code",
   "execution_count": 22,
   "metadata": {},
   "outputs": [
    {
     "data": {
      "text/plain": [
       "{'ORDX': 'BK',\n",
       " 'ORDB': 'TP',\n",
       " 'ORDY': 'TP',\n",
       " 'ORDC': 'NS',\n",
       " 'ORDI': 'NS',\n",
       " 'ORDJ': 'TP',\n",
       " 'ORDA': 'BK',\n",
       " 'ORDK': 'BK',\n",
       " 'ORDZ': 'NS'}"
      ]
     },
     "execution_count": 22,
     "metadata": {},
     "output_type": "execute_result"
    }
   ],
   "source": [
    "#Setting the index \n",
    "index = 0\n",
    "\n",
    "# Initializing branch order dictionary\n",
    "branchOrderDict = {}\n",
    "\n",
    "# Iterate through each row of order id column\n",
    "for each in outlierData['order_id']:\n",
    "    orderEach = each[0:4]                                                   # Extract subset of the order id\n",
    "    if orderEach not in branchOrderDict.keys():\n",
    "        branchOrderDict[orderEach] = outlierData['branch_code'][index]      # Create mapping between branch and subset of order id\n",
    "    index += 1\n",
    "\n",
    "# Display the dictionary\n",
    "branchOrderDict"
   ]
  },
  {
   "cell_type": "markdown",
   "metadata": {},
   "source": [
    "We see that in the outlier dataset, order id ending with 'X', 'A' and 'K' have branch code as 'BK', the order id ending with 'B', 'Y' and 'J' have branch code as 'TP and  the order id ending with 'C', 'I' and 'Z' have branch code as 'NS'.\n",
    "\n",
    "We now check for the missing data and make sure we follow same pattern of the outliers dataset. Below is the code for the same."
   ]
  },
  {
   "cell_type": "code",
   "execution_count": 23,
   "metadata": {},
   "outputs": [
    {
     "data": {
      "text/plain": [
       "{'ORDI': 'NS',\n",
       " 'ORDA': 'BK',\n",
       " 'ORDJ': 'TP',\n",
       " 'ORDB': nan,\n",
       " 'ORDY': nan,\n",
       " 'ORDK': 'BK',\n",
       " 'ORDZ': 'NS',\n",
       " 'ORDX': nan,\n",
       " 'ORDC': 'NS'}"
      ]
     },
     "execution_count": 23,
     "metadata": {},
     "output_type": "execute_result"
    }
   ],
   "source": [
    "#Setting the index \n",
    "index = 0\n",
    "\n",
    "# Initializing branch order dictionary\n",
    "branchOrderDictMissing = {}\n",
    "\n",
    "# Iterate through each row of order id column\n",
    "for each in missingData['order_id']:\n",
    "    orderEach = each[0:4]                                                        # Extract subset of the order id\n",
    "    if orderEach not in branchOrderDictMissing.keys():\n",
    "        branchOrderDictMissing[orderEach] = missingData['branch_code'][index]    # Create mapping between branch and subset of order id\n",
    "    index += 1\n",
    "\n",
    "# Display the dictionary   \n",
    "branchOrderDictMissing"
   ]
  },
  {
   "cell_type": "markdown",
   "metadata": {},
   "source": [
    "The below code fixes the relationship between subset of order id and branch code for missing data."
   ]
  },
  {
   "cell_type": "code",
   "execution_count": 24,
   "metadata": {},
   "outputs": [],
   "source": [
    "# Setting the index\n",
    "index = 0\n",
    "\n",
    "# Iterate through each row in branch code column\n",
    "for each in missingData['branch_code']:\n",
    "    if pd.isnull(each):\n",
    "        orderEach = missingData['order_id'][index][0:4]                            # Extract subset from order id\n",
    "        missingData.at[index, 'branch_code'] = branchOrderDict.get(orderEach)      # Assigning the branch code to a particular order id subset\n",
    "    index += 1"
   ]
  },
  {
   "cell_type": "code",
   "execution_count": 25,
   "metadata": {},
   "outputs": [
    {
     "data": {
      "text/html": [
       "<div>\n",
       "<style scoped>\n",
       "    .dataframe tbody tr th:only-of-type {\n",
       "        vertical-align: middle;\n",
       "    }\n",
       "\n",
       "    .dataframe tbody tr th {\n",
       "        vertical-align: top;\n",
       "    }\n",
       "\n",
       "    .dataframe thead th {\n",
       "        text-align: right;\n",
       "    }\n",
       "</style>\n",
       "<table border=\"1\" class=\"dataframe\">\n",
       "  <thead>\n",
       "    <tr style=\"text-align: right;\">\n",
       "      <th></th>\n",
       "      <th>order_id</th>\n",
       "      <th>date</th>\n",
       "      <th>time</th>\n",
       "      <th>order_type</th>\n",
       "      <th>branch_code</th>\n",
       "      <th>order_items</th>\n",
       "      <th>order_price</th>\n",
       "      <th>customer_lat</th>\n",
       "      <th>customer_lon</th>\n",
       "      <th>customerHasloyalty?</th>\n",
       "      <th>distance_to_customer_KM</th>\n",
       "      <th>delivery_fee</th>\n",
       "    </tr>\n",
       "  </thead>\n",
       "  <tbody>\n",
       "    <tr>\n",
       "      <th>0</th>\n",
       "      <td>ORDI04843</td>\n",
       "      <td>2018-11-13</td>\n",
       "      <td>18:28:43</td>\n",
       "      <td>Dinner</td>\n",
       "      <td>NS</td>\n",
       "      <td>[('Pasta', 6), ('Salmon', 1), ('Shrimp', 7)]</td>\n",
       "      <td>584.0</td>\n",
       "      <td>-37.805108</td>\n",
       "      <td>144.977446</td>\n",
       "      <td>0</td>\n",
       "      <td>7.352</td>\n",
       "      <td>13.346627</td>\n",
       "    </tr>\n",
       "    <tr>\n",
       "      <th>1</th>\n",
       "      <td>ORDA04988</td>\n",
       "      <td>2018-01-25</td>\n",
       "      <td>08:40:33</td>\n",
       "      <td>Breakfast</td>\n",
       "      <td>BK</td>\n",
       "      <td>[('Pancake', 8), ('Coffee', 4), ('Eggs', 10)]</td>\n",
       "      <td>444.0</td>\n",
       "      <td>-37.810363</td>\n",
       "      <td>145.009094</td>\n",
       "      <td>0</td>\n",
       "      <td>3.824</td>\n",
       "      <td>8.821264</td>\n",
       "    </tr>\n",
       "    <tr>\n",
       "      <th>2</th>\n",
       "      <td>ORDI06457</td>\n",
       "      <td>2018-01-08</td>\n",
       "      <td>08:10:08</td>\n",
       "      <td>Breakfast</td>\n",
       "      <td>NS</td>\n",
       "      <td>[('Cereal', 4), ('Coffee', 7), ('Eggs', 10)]</td>\n",
       "      <td>356.5</td>\n",
       "      <td>-37.816576</td>\n",
       "      <td>144.980147</td>\n",
       "      <td>1</td>\n",
       "      <td>8.432</td>\n",
       "      <td>NaN</td>\n",
       "    </tr>\n",
       "    <tr>\n",
       "      <th>3</th>\n",
       "      <td>ORDJ04372</td>\n",
       "      <td>2018-05-14</td>\n",
       "      <td>12:23:39</td>\n",
       "      <td>Lunch</td>\n",
       "      <td>TP</td>\n",
       "      <td>[('Fries', 2), ('Burger', 2), ('Salad', 7), ('...</td>\n",
       "      <td>366.4</td>\n",
       "      <td>-37.805830</td>\n",
       "      <td>144.956082</td>\n",
       "      <td>0</td>\n",
       "      <td>9.280</td>\n",
       "      <td>12.996916</td>\n",
       "    </tr>\n",
       "    <tr>\n",
       "      <th>4</th>\n",
       "      <td>ORDI05481</td>\n",
       "      <td>2018-05-14</td>\n",
       "      <td>12:23:39</td>\n",
       "      <td>Lunch</td>\n",
       "      <td>NS</td>\n",
       "      <td>[('Fries', 9), ('Salad', 4), ('Chicken', 4), (...</td>\n",
       "      <td>808.8</td>\n",
       "      <td>-37.805830</td>\n",
       "      <td>144.956082</td>\n",
       "      <td>0</td>\n",
       "      <td>7.934</td>\n",
       "      <td>13.206729</td>\n",
       "    </tr>\n",
       "  </tbody>\n",
       "</table>\n",
       "</div>"
      ],
      "text/plain": [
       "    order_id        date      time order_type branch_code  \\\n",
       "0  ORDI04843  2018-11-13  18:28:43     Dinner          NS   \n",
       "1  ORDA04988  2018-01-25  08:40:33  Breakfast          BK   \n",
       "2  ORDI06457  2018-01-08  08:10:08  Breakfast          NS   \n",
       "3  ORDJ04372  2018-05-14  12:23:39      Lunch          TP   \n",
       "4  ORDI05481  2018-05-14  12:23:39      Lunch          NS   \n",
       "\n",
       "                                         order_items  order_price  \\\n",
       "0       [('Pasta', 6), ('Salmon', 1), ('Shrimp', 7)]        584.0   \n",
       "1      [('Pancake', 8), ('Coffee', 4), ('Eggs', 10)]        444.0   \n",
       "2       [('Cereal', 4), ('Coffee', 7), ('Eggs', 10)]        356.5   \n",
       "3  [('Fries', 2), ('Burger', 2), ('Salad', 7), ('...        366.4   \n",
       "4  [('Fries', 9), ('Salad', 4), ('Chicken', 4), (...        808.8   \n",
       "\n",
       "   customer_lat  customer_lon  customerHasloyalty?  distance_to_customer_KM  \\\n",
       "0    -37.805108    144.977446                    0                    7.352   \n",
       "1    -37.810363    145.009094                    0                    3.824   \n",
       "2    -37.816576    144.980147                    1                    8.432   \n",
       "3    -37.805830    144.956082                    0                    9.280   \n",
       "4    -37.805830    144.956082                    0                    7.934   \n",
       "\n",
       "   delivery_fee  \n",
       "0     13.346627  \n",
       "1      8.821264  \n",
       "2           NaN  \n",
       "3     12.996916  \n",
       "4     13.206729  "
      ]
     },
     "execution_count": 25,
     "metadata": {},
     "output_type": "execute_result"
    }
   ],
   "source": [
    "missingData.head()"
   ]
  },
  {
   "cell_type": "code",
   "execution_count": 26,
   "metadata": {},
   "outputs": [
    {
     "data": {
      "text/plain": [
       "{'ORDI': 'NS',\n",
       " 'ORDA': 'BK',\n",
       " 'ORDJ': 'TP',\n",
       " 'ORDB': 'TP',\n",
       " 'ORDY': 'TP',\n",
       " 'ORDK': 'BK',\n",
       " 'ORDZ': 'NS',\n",
       " 'ORDX': 'BK',\n",
       " 'ORDC': 'NS'}"
      ]
     },
     "execution_count": 26,
     "metadata": {},
     "output_type": "execute_result"
    }
   ],
   "source": [
    "# Setting the inex\n",
    "index = 0\n",
    "\n",
    "# Initilizing empty dictionary to capture branch and order id mapping\n",
    "branchOrderDictMissing = {}\n",
    "\n",
    "# Iterate through each row in order id column\n",
    "for each in missingData['order_id']:\n",
    "    orderEach = each[0:4]                                                        # Extract subset from order id\n",
    "    if orderEach not in branchOrderDictMissing.keys():\n",
    "        branchOrderDictMissing[orderEach] = missingData['branch_code'][index]    # Create mapping between order id and branch code\n",
    "    index += 1\n",
    "\n",
    "# Display the dictionary    \n",
    "branchOrderDictMissing"
   ]
  },
  {
   "cell_type": "markdown",
   "metadata": {},
   "source": [
    "We now see that the relationship between subset of order id and the branch code is in synch with that of the outlier dataset. With this, the null issue in the branch code column is fixed."
   ]
  },
  {
   "cell_type": "markdown",
   "metadata": {},
   "source": [
    "### distance_to_customer_KM\n",
    "\n",
    "This field represents the shortest distance in KM between the branch and the customer nodes with respect to the nodes and edges input files provided. In order to find the shortest distance, we have used Dijkstra algorithm.\n",
    "\n",
    "To find out the shortest distance, we have to refer to all the datasets (branches, nodes, edges and missing dataset). \n",
    "\n",
    "Since we have already loaded the data into dataframes, we simply apply algorithm to the dataset by manipulating the data we have. Firstly, we create a graph based on the edges data."
   ]
  },
  {
   "cell_type": "code",
   "execution_count": 27,
   "metadata": {},
   "outputs": [],
   "source": [
    "# To create a graph using edges from edges.csv file with weight as distance in meters\n",
    "graph = nx.from_pandas_edgelist(edges,'u','v','distance(m)')"
   ]
  },
  {
   "cell_type": "markdown",
   "metadata": {},
   "source": [
    "We then merge with branches and nodes dataframe based on the latitudes and longitues. Later, we drop the unrequired columns namely - branch_name, branch_lat, branch_lon, lat and lon."
   ]
  },
  {
   "cell_type": "code",
   "execution_count": 28,
   "metadata": {},
   "outputs": [],
   "source": [
    "# Merging branches and nodes based on latitudes and longtitudes\n",
    "branchesNodes = pd.merge(branches, nodes, how = \"left\", left_on=[\"branch_lat\", \"branch_lon\"], right_on=[\"lat\", \"lon\"])\n",
    "\n",
    "# Renaming 'node' column to 'branch_node' and dropping undesired columns ('branch_name', 'branch_lat', 'branch_lon', 'lat' and 'lon')\n",
    "branchesNodes = branchesNodes.rename(columns={'node': 'branch_node'})\n",
    "branchesNodes = branchesNodes.drop([\"branch_name\", \"branch_lat\", \"branch_lon\", \"lat\", \"lon\"], axis =1)"
   ]
  },
  {
   "cell_type": "markdown",
   "metadata": {},
   "source": [
    "Having got the branches and their node, we find out the customer nodes. To do so, we merge the missingData with nodes dataframe and then remove the unrequired columns namely - lat and lon."
   ]
  },
  {
   "cell_type": "code",
   "execution_count": 29,
   "metadata": {},
   "outputs": [],
   "source": [
    "# Merging missing data and nodes based on latitudes and longtitudes\n",
    "missingDataNodes = pd.merge(missingData, nodes, how = \"left\", left_on=[\"customer_lat\", \"customer_lon\"], right_on=[\"lat\", \"lon\"])\n",
    "\n",
    "# Renaming 'node' column to 'customer_node' and dropping undesired columns ('lat' and 'lon')\n",
    "missingDataNodes = missingDataNodes.rename(columns={'node': 'customer_node'})\n",
    "missingDataNodes = missingDataNodes.drop([\"lat\", \"lon\"], axis = 1)"
   ]
  },
  {
   "cell_type": "markdown",
   "metadata": {},
   "source": [
    "We finally merge the missing data with customer node and branch node details based on the branch_code. Below code does the same."
   ]
  },
  {
   "cell_type": "code",
   "execution_count": 30,
   "metadata": {},
   "outputs": [],
   "source": [
    "# Merging above dataframe with branchesNodes based on branch code \n",
    "mergedMissingData = pd.merge(missingDataNodes, branchesNodes, how = \"left\", on=[\"branch_code\"])"
   ]
  },
  {
   "cell_type": "markdown",
   "metadata": {},
   "source": [
    "We now calculate the shortest distance using dijkstra algorithm for the final dataframe formed above which consists of required data. Below code calculates the shortest distance in KM between the branch node and customer node."
   ]
  },
  {
   "cell_type": "code",
   "execution_count": 31,
   "metadata": {},
   "outputs": [
    {
     "name": "stdout",
     "output_type": "stream",
     "text": [
      "The number of missing entries filled with distance_to_customer_KM column :  50\n"
     ]
    }
   ],
   "source": [
    "# To check the number of missing entries in distance column\n",
    "missingDistanceCount = 0\n",
    "\n",
    "# Iterate through each row in the mergedMissingData dataframe\n",
    "for index, row in mergedMissingData.iterrows():\n",
    "    if pd.isnull(mergedMissingData.at[index, 'distance_to_customer_KM']):\n",
    "        # Calculate the distance in terms of meters as per edges file\n",
    "        distance = nx.shortest_path_length(graph, source = row['branch_node'], target = row['customer_node'], weight='distance(m)')\n",
    "        \n",
    "        # Converts the distance into KM by dividing with 1000\n",
    "        distance = distance/1000\n",
    "        \n",
    "        # Increasing the eror count and correcting the distance\n",
    "        missingDistanceCount += 1\n",
    "        mergedMissingData.loc[index,'distance_to_customer_KM'] = distance\n",
    "        \n",
    "print('The number of missing entries filled with distance_to_customer_KM column : ', missingDistanceCount) "
   ]
  },
  {
   "cell_type": "markdown",
   "metadata": {},
   "source": [
    "The above result matches with the number of the missing rows for the distance column in the missing data dataframe. Hence, we have successfully filled the missing distance values in the missing data dataframe. We now drop the customer and branch node from the missing data dataframe as we have to restore the original form of the missing data dataframe. Below code works for the same."
   ]
  },
  {
   "cell_type": "code",
   "execution_count": 32,
   "metadata": {},
   "outputs": [
    {
     "data": {
      "text/html": [
       "<div>\n",
       "<style scoped>\n",
       "    .dataframe tbody tr th:only-of-type {\n",
       "        vertical-align: middle;\n",
       "    }\n",
       "\n",
       "    .dataframe tbody tr th {\n",
       "        vertical-align: top;\n",
       "    }\n",
       "\n",
       "    .dataframe thead th {\n",
       "        text-align: right;\n",
       "    }\n",
       "</style>\n",
       "<table border=\"1\" class=\"dataframe\">\n",
       "  <thead>\n",
       "    <tr style=\"text-align: right;\">\n",
       "      <th></th>\n",
       "      <th>order_id</th>\n",
       "      <th>date</th>\n",
       "      <th>time</th>\n",
       "      <th>order_type</th>\n",
       "      <th>branch_code</th>\n",
       "      <th>order_items</th>\n",
       "      <th>order_price</th>\n",
       "      <th>customer_lat</th>\n",
       "      <th>customer_lon</th>\n",
       "      <th>customerHasloyalty?</th>\n",
       "      <th>distance_to_customer_KM</th>\n",
       "      <th>delivery_fee</th>\n",
       "    </tr>\n",
       "  </thead>\n",
       "  <tbody>\n",
       "    <tr>\n",
       "      <th>0</th>\n",
       "      <td>ORDI04843</td>\n",
       "      <td>2018-11-13</td>\n",
       "      <td>18:28:43</td>\n",
       "      <td>Dinner</td>\n",
       "      <td>NS</td>\n",
       "      <td>[('Pasta', 6), ('Salmon', 1), ('Shrimp', 7)]</td>\n",
       "      <td>584.0</td>\n",
       "      <td>-37.805108</td>\n",
       "      <td>144.977446</td>\n",
       "      <td>0</td>\n",
       "      <td>7.352</td>\n",
       "      <td>13.346627</td>\n",
       "    </tr>\n",
       "    <tr>\n",
       "      <th>1</th>\n",
       "      <td>ORDA04988</td>\n",
       "      <td>2018-01-25</td>\n",
       "      <td>08:40:33</td>\n",
       "      <td>Breakfast</td>\n",
       "      <td>BK</td>\n",
       "      <td>[('Pancake', 8), ('Coffee', 4), ('Eggs', 10)]</td>\n",
       "      <td>444.0</td>\n",
       "      <td>-37.810363</td>\n",
       "      <td>145.009094</td>\n",
       "      <td>0</td>\n",
       "      <td>3.824</td>\n",
       "      <td>8.821264</td>\n",
       "    </tr>\n",
       "    <tr>\n",
       "      <th>2</th>\n",
       "      <td>ORDI06457</td>\n",
       "      <td>2018-01-08</td>\n",
       "      <td>08:10:08</td>\n",
       "      <td>Breakfast</td>\n",
       "      <td>NS</td>\n",
       "      <td>[('Cereal', 4), ('Coffee', 7), ('Eggs', 10)]</td>\n",
       "      <td>356.5</td>\n",
       "      <td>-37.816576</td>\n",
       "      <td>144.980147</td>\n",
       "      <td>1</td>\n",
       "      <td>8.432</td>\n",
       "      <td>NaN</td>\n",
       "    </tr>\n",
       "    <tr>\n",
       "      <th>3</th>\n",
       "      <td>ORDJ04372</td>\n",
       "      <td>2018-05-14</td>\n",
       "      <td>12:23:39</td>\n",
       "      <td>Lunch</td>\n",
       "      <td>TP</td>\n",
       "      <td>[('Fries', 2), ('Burger', 2), ('Salad', 7), ('...</td>\n",
       "      <td>366.4</td>\n",
       "      <td>-37.805830</td>\n",
       "      <td>144.956082</td>\n",
       "      <td>0</td>\n",
       "      <td>9.280</td>\n",
       "      <td>12.996916</td>\n",
       "    </tr>\n",
       "    <tr>\n",
       "      <th>4</th>\n",
       "      <td>ORDI05481</td>\n",
       "      <td>2018-05-14</td>\n",
       "      <td>12:23:39</td>\n",
       "      <td>Lunch</td>\n",
       "      <td>NS</td>\n",
       "      <td>[('Fries', 9), ('Salad', 4), ('Chicken', 4), (...</td>\n",
       "      <td>808.8</td>\n",
       "      <td>-37.805830</td>\n",
       "      <td>144.956082</td>\n",
       "      <td>0</td>\n",
       "      <td>7.934</td>\n",
       "      <td>13.206729</td>\n",
       "    </tr>\n",
       "  </tbody>\n",
       "</table>\n",
       "</div>"
      ],
      "text/plain": [
       "    order_id        date      time order_type branch_code  \\\n",
       "0  ORDI04843  2018-11-13  18:28:43     Dinner          NS   \n",
       "1  ORDA04988  2018-01-25  08:40:33  Breakfast          BK   \n",
       "2  ORDI06457  2018-01-08  08:10:08  Breakfast          NS   \n",
       "3  ORDJ04372  2018-05-14  12:23:39      Lunch          TP   \n",
       "4  ORDI05481  2018-05-14  12:23:39      Lunch          NS   \n",
       "\n",
       "                                         order_items  order_price  \\\n",
       "0       [('Pasta', 6), ('Salmon', 1), ('Shrimp', 7)]        584.0   \n",
       "1      [('Pancake', 8), ('Coffee', 4), ('Eggs', 10)]        444.0   \n",
       "2       [('Cereal', 4), ('Coffee', 7), ('Eggs', 10)]        356.5   \n",
       "3  [('Fries', 2), ('Burger', 2), ('Salad', 7), ('...        366.4   \n",
       "4  [('Fries', 9), ('Salad', 4), ('Chicken', 4), (...        808.8   \n",
       "\n",
       "   customer_lat  customer_lon  customerHasloyalty?  distance_to_customer_KM  \\\n",
       "0    -37.805108    144.977446                    0                    7.352   \n",
       "1    -37.810363    145.009094                    0                    3.824   \n",
       "2    -37.816576    144.980147                    1                    8.432   \n",
       "3    -37.805830    144.956082                    0                    9.280   \n",
       "4    -37.805830    144.956082                    0                    7.934   \n",
       "\n",
       "   delivery_fee  \n",
       "0     13.346627  \n",
       "1      8.821264  \n",
       "2           NaN  \n",
       "3     12.996916  \n",
       "4     13.206729  "
      ]
     },
     "execution_count": 32,
     "metadata": {},
     "output_type": "execute_result"
    }
   ],
   "source": [
    "# Restoring the dataframe to original columns with correct data\n",
    "missingData = mergedMissingData\n",
    "missingData = missingData.drop([\"customer_node\", \"branch_node\"], axis =1)\n",
    "missingData.head()"
   ]
  },
  {
   "cell_type": "code",
   "execution_count": 33,
   "metadata": {},
   "outputs": [
    {
     "data": {
      "text/plain": [
       "order_id                    0\n",
       "date                        0\n",
       "time                        0\n",
       "order_type                  0\n",
       "branch_code                 0\n",
       "order_items                 0\n",
       "order_price                 0\n",
       "customer_lat                0\n",
       "customer_lon                0\n",
       "customerHasloyalty?         0\n",
       "distance_to_customer_KM     0\n",
       "delivery_fee               50\n",
       "dtype: int64"
      ]
     },
     "execution_count": 33,
     "metadata": {},
     "output_type": "execute_result"
    }
   ],
   "source": [
    "missingData.isnull().sum()"
   ]
  },
  {
   "cell_type": "markdown",
   "metadata": {},
   "source": [
    "### delivery_fee\n",
    "\n",
    "Now that we have fixed, the missing branch code and distance, the only thing left is to impute is the delivery fee. To do so, we need to predict the data based on the weekday/weekend, time of the day and distance between branch and customer nodes. Also, we need to segregate the data based on the branch code as delivery fees is dependent on branch code as well. Since the predictors are dependent linearly, we use linear regression method to predict the delivery fees information.\n",
    "\n",
    "Firstly, we create new columns namely 'weekday_or_weekend' and 'time_of_day' into the missing data dataframe. The column 'weekday_or_weekend' represents if the day on which order was placed was a weekday or weekend whereas the column 'time_of_day' represents at what time the order was placed - morning(0), afternoon(1) or evening(2). We then split the data based on the branch code."
   ]
  },
  {
   "cell_type": "code",
   "execution_count": 34,
   "metadata": {},
   "outputs": [],
   "source": [
    "# Missing Data\n",
    "\n",
    "# Setting 0 to weekday and 1 to weekend\n",
    "missingData['weekday_or_weekend'] = pd.to_datetime(missingData['date']).dt.weekday\n",
    "missingData['weekday_or_weekend'] = missingData['weekday_or_weekend'].apply(lambda x: 0 if int(x)< 5 else 1)\n",
    "\n",
    "# Setting 0 breakfast, 1 for lunch and 2 for dinner\n",
    "missingData['time_of_day'] = missingData['order_type'].apply(lambda x: 0 if x=='Breakfast' else (1 if x=='Lunch' else 2))\n",
    "\n",
    "# Segregating based on branch code\n",
    "NSMissing = missingData.loc[missingData['branch_code'] == 'NS']\n",
    "BKMissing = missingData.loc[missingData['branch_code'] == 'BK']\n",
    "TPMissing = missingData.loc[missingData['branch_code'] == 'TP']"
   ]
  },
  {
   "cell_type": "markdown",
   "metadata": {},
   "source": [
    "Since we have considered the outliers data as reference dataset, we rely on this data and the missing data excluding nulls to predict the delivery fee for the missing data dataset. Also, the more data points we have, better the model training result. Considering only the missing data excluding nulls to predeict the missing data with nulls might introduce bias. Also, we cannot use dirty data information as the data is cluttered. Hence we rely on the combination of the outliers and missing data (excluding nulls) information to predict the missing delivery fees.\n",
    "\n",
    "We now create the 'weekday_or_weekend' and 'time_of_day' columns for outlier data. Later, we segregate the data based on the branch code. The idea is to create similar columns in both processed outliers and missing data dataset (excluding nulls), fit the data in the linear model and predict the data missing delivery fee. Below is the code for the same."
   ]
  },
  {
   "cell_type": "code",
   "execution_count": 35,
   "metadata": {},
   "outputs": [],
   "source": [
    "# Setting 0 to weekday and 1 to weekend\n",
    "outlierData['weekday_or_weekend'] = pd.to_datetime(outlierData['date']).dt.weekday\n",
    "outlierData['weekday_or_weekend'] = outlierData['weekday_or_weekend'].apply(lambda x: 0 if int(x)< 5 else 1)\n",
    "\n",
    "# Setting 0 breakfast, 1 for lunch and 2 for dinner\n",
    "outlierData['time_of_day'] = outlierData['order_type'].apply(lambda x: 0 if x=='Breakfast' else (1 if x=='Lunch' else 2))\n",
    "\n",
    "# Segregating based on branch code\n",
    "NSOutlier = outlierData.loc[outlierData['branch_code'] == 'NS']\n",
    "BKOutlier = outlierData.loc[outlierData['branch_code'] == 'BK']\n",
    "TPOutlier = outlierData.loc[outlierData['branch_code'] == 'TP']"
   ]
  },
  {
   "cell_type": "markdown",
   "metadata": {},
   "source": [
    "Now that we have outliers data ready, we split the missing data set further into missing data with nulls and without nulls based on the branch code."
   ]
  },
  {
   "cell_type": "code",
   "execution_count": 36,
   "metadata": {},
   "outputs": [],
   "source": [
    "# Segregating missing data with nulls based n branch code\n",
    "NSMissingNull = NSMissing[NSMissing['delivery_fee'].isnull()]\n",
    "BKMissingNull = BKMissing[BKMissing['delivery_fee'].isnull()]\n",
    "TPMissingNull = TPMissing[TPMissing['delivery_fee'].isnull()]\n",
    "\n",
    "# Segregating missing data without nulls based n branch code\n",
    "NSMissingNotNull = NSMissing[NSMissing['delivery_fee'].notnull()]\n",
    "BKMissingNotNull = BKMissing[BKMissing['delivery_fee'].notnull()]\n",
    "TPMissingNotNull = TPMissing[TPMissing['delivery_fee'].notnull()]"
   ]
  },
  {
   "cell_type": "markdown",
   "metadata": {},
   "source": [
    "Here, we combine the outliers and missing data (excluding nulls) based on the branch code. The data is now ready to be trained for the linear model. We have to split the data further by picking the required columns (the ones which have linear dependency - discussed further)."
   ]
  },
  {
   "cell_type": "code",
   "execution_count": 37,
   "metadata": {},
   "outputs": [],
   "source": [
    "NSCombined = NSOutlier.append(NSMissingNotNull, ignore_index=True)\n",
    "BKCombined = BKOutlier.append(BKMissingNotNull, ignore_index=True)\n",
    "TPCombined = TPOutlier.append(TPMissingNotNull, ignore_index=True)"
   ]
  },
  {
   "cell_type": "code",
   "execution_count": 38,
   "metadata": {},
   "outputs": [],
   "source": [
    "# Linear Model for branch code NS (missing data)\n",
    "lmForImputeNS = LinearRegression()\n",
    "\n",
    "# Linear Model for branch code BK (missing data)\n",
    "lmForImputeBK = LinearRegression()\n",
    "\n",
    "# Linear Model for branch code TP (missing data)\n",
    "lmForImputeTP = LinearRegression()"
   ]
  },
  {
   "cell_type": "markdown",
   "metadata": {},
   "source": [
    "We now train the model with the segregated data points. As per the specifications, the fields 'weekday_or_weekend', 'time_of_day', 'distance_to_customer_KM' and 'customerHasloyalty?' are linearly dependent on the delivery fees. Hence, we feed the relevant predictors as Xtrain and the delivery fee as Ytrain to the linear model while the predictors of the missing dataset for the missing dataset with nulls are fed as test data to the model in order to predict its delivery fees."
   ]
  },
  {
   "cell_type": "code",
   "execution_count": 39,
   "metadata": {},
   "outputs": [],
   "source": [
    "# Training and Testing data for branch code NS \n",
    "NSXtrain = NSCombined[['weekday_or_weekend','time_of_day','distance_to_customer_KM', 'customerHasloyalty?']]\n",
    "NSYtrain = NSCombined[['delivery_fee']]\n",
    "NStest = NSMissingNull[['weekday_or_weekend','time_of_day','distance_to_customer_KM', 'customerHasloyalty?']]\n",
    "\n",
    "# Training and Testing data for branch code BK\n",
    "BKXtrain = BKCombined[['weekday_or_weekend','time_of_day','distance_to_customer_KM', 'customerHasloyalty?']]\n",
    "BKYtrain = BKCombined[['delivery_fee']]\n",
    "BKtest = BKMissingNull[['weekday_or_weekend','time_of_day','distance_to_customer_KM', 'customerHasloyalty?']]\n",
    "\n",
    "# Training and Testing data for branch code TP\n",
    "TPXtrain = TPCombined[['weekday_or_weekend','time_of_day','distance_to_customer_KM', 'customerHasloyalty?']]\n",
    "TPYtrain = TPCombined[['delivery_fee']]\n",
    "TPtest = TPMissingNull[['weekday_or_weekend','time_of_day','distance_to_customer_KM', 'customerHasloyalty?']]"
   ]
  },
  {
   "cell_type": "markdown",
   "metadata": {},
   "source": [
    "Before predicting the data directly, we have to fit the model with the relevant data and then check for the score (r squared value). This score represents how well the data is fit to the model used - higher the value, better the fit. However, high value doesn't always mean that the fit is prefect. If we see high r squared value, it may also mean that the prediction is in line with the current datapoints but we might see variance for a new data points taken from the same sample which have different range from that of the previous datapoints used. Hence, too low or too high r-squared values are also not good for the model."
   ]
  },
  {
   "cell_type": "code",
   "execution_count": 40,
   "metadata": {},
   "outputs": [
    {
     "name": "stdout",
     "output_type": "stream",
     "text": [
      "R squared value for data with branch code NS =  0.9680085251081013\n",
      "R squared value for data with branch code BK =  0.9037737844069839\n",
      "R squared value for data with branch code TP =  0.891565061714666\n"
     ]
    }
   ],
   "source": [
    "# Fit the model and calculate R score for branch code NS \n",
    "lmForImputeNS = lmForImputeNS.fit(NSXtrain,NSYtrain)\n",
    "print('R squared value for data with branch code NS = ', lmForImputeNS.score(NSXtrain,NSYtrain))\n",
    "\n",
    "# Fit the model and calculate R score for branch code BK\n",
    "lmForImputeBK = lmForImputeBK.fit(BKXtrain,BKYtrain)\n",
    "print('R squared value for data with branch code BK = ', lmForImputeBK.score(BKXtrain,BKYtrain))\n",
    "\n",
    "# Fit the model and calculate R score for branch code TP\n",
    "lmForImputeTP = lmForImputeTP.fit(TPXtrain,TPYtrain)\n",
    "print('R squared value for data with branch code TP = ', lmForImputeTP.score(TPXtrain,TPYtrain))"
   ]
  },
  {
   "cell_type": "markdown",
   "metadata": {},
   "source": [
    "As we see that the r squared values are pretty high enough to consider for this model, we proceed with the prediction and impute the missing values."
   ]
  },
  {
   "cell_type": "code",
   "execution_count": 41,
   "metadata": {},
   "outputs": [],
   "source": [
    "# Predict the missing delivery fees for data points with branch code NS and impute values\n",
    "predicted = lmForImputeNS.predict(NStest)\n",
    "count = 0\n",
    "for index, row in NSMissingNull.iterrows():\n",
    "    if (math.isnan(row['delivery_fee'])):\n",
    "        NSMissingNull.at[index,'delivery_fee'] = predicted[count][0]\n",
    "        count += 1\n",
    "        \n",
    "# Predict the missing delivery fees for data points with branch code BK and impute values\n",
    "predicted = lmForImputeBK.predict(BKtest)\n",
    "count = 0\n",
    "for index, row in BKMissingNull.iterrows():\n",
    "    if (math.isnan(row['delivery_fee'])):\n",
    "        BKMissingNull.at[index,'delivery_fee'] = predicted[count][0]\n",
    "        count += 1\n",
    "\n",
    "# Predict the missing delivery fees for data points with branch code TP and impute values\n",
    "predicted = lmForImputeTP.predict(TPtest)\n",
    "count = 0\n",
    "for index, row in TPMissingNull.iterrows():\n",
    "    if (math.isnan(row['delivery_fee'])):\n",
    "        TPMissingNull.at[index,'delivery_fee'] = predicted[count][0]\n",
    "        count += 1  "
   ]
  },
  {
   "cell_type": "markdown",
   "metadata": {},
   "source": [
    "Now that we have imputed the missing delivery fee values, we recombine the datapoints that we have split earlier based on the branch code to form one whole missing dataset."
   ]
  },
  {
   "cell_type": "code",
   "execution_count": 42,
   "metadata": {},
   "outputs": [],
   "source": [
    "# Combining the missing data (with nulls and without nulls) based on each branch\n",
    "NSMissing = NSMissingNull.append(NSMissingNotNull, ignore_index=True)\n",
    "BKMissing = BKMissingNull.append(BKMissingNotNull, ignore_index=True)\n",
    "TPMissing = TPMissingNull.append(TPMissingNotNull, ignore_index=True)\n",
    "\n",
    "# Combining the data points for all the branches and creating one dataframe\n",
    "NSBKMissing = NSMissing.append(BKMissing, ignore_index=True)\n",
    "missingDataSolution = NSBKMissing.append(TPMissing, ignore_index=True)\n",
    "\n",
    "# Dropping the unrequired data columns\n",
    "missingDataSolution = missingDataSolution.drop(columns=['weekday_or_weekend', 'time_of_day'])"
   ]
  },
  {
   "cell_type": "code",
   "execution_count": 43,
   "metadata": {},
   "outputs": [
    {
     "data": {
      "text/plain": [
       "order_id                   0\n",
       "date                       0\n",
       "time                       0\n",
       "order_type                 0\n",
       "branch_code                0\n",
       "order_items                0\n",
       "order_price                0\n",
       "customer_lat               0\n",
       "customer_lon               0\n",
       "customerHasloyalty?        0\n",
       "distance_to_customer_KM    0\n",
       "delivery_fee               0\n",
       "dtype: int64"
      ]
     },
     "execution_count": 43,
     "metadata": {},
     "output_type": "execute_result"
    }
   ],
   "source": [
    "missingDataSolution.isnull().sum()"
   ]
  },
  {
   "cell_type": "markdown",
   "metadata": {},
   "source": [
    "In the above code result, we can see that there are finally no nulls in the missing dataset. This implies that all the nulls have been handled. Before moving onto the next segment, we export the missing data into a csv file."
   ]
  },
  {
   "cell_type": "code",
   "execution_count": 44,
   "metadata": {},
   "outputs": [],
   "source": [
    "missingDataSolution.to_csv('Group010_missing_data_solution.csv', index = False)"
   ]
  },
  {
   "cell_type": "markdown",
   "metadata": {},
   "source": [
    "# Dirty Data\n",
    "\n",
    "As per the specifications, there is atmost one anomaly in each row in this dataset. We pick each column and analyse the data. Firstly, we check if there are any duplicates in the dataset. If there are any, we remove them or else proceed with the current dataset."
   ]
  },
  {
   "cell_type": "code",
   "execution_count": 45,
   "metadata": {},
   "outputs": [
    {
     "name": "stdout",
     "output_type": "stream",
     "text": [
      "Dimension of the original dataframe :  (500, 12)\n",
      "Dimension of the dataframe after dropping duplicates :  (500, 12)\n"
     ]
    }
   ],
   "source": [
    "# Printing the dimension of the original dataframe\n",
    "print('Dimension of the original dataframe : ', dirtyData.shape)\n",
    "\n",
    "# Let's drop duplicates and make sure there are unique rows in our dataframe\n",
    "print('Dimension of the dataframe after dropping duplicates : ', dirtyData.drop_duplicates().shape)"
   ]
  },
  {
   "cell_type": "markdown",
   "metadata": {},
   "source": [
    "As we have same number of columns before and after dropping the duplicates, we can proceed with the original dataframe for our operations. Let's check for the columns of the dataframe and then pick each column, analyse the data and fix errors, if any."
   ]
  },
  {
   "cell_type": "code",
   "execution_count": 46,
   "metadata": {},
   "outputs": [
    {
     "data": {
      "text/html": [
       "<div>\n",
       "<style scoped>\n",
       "    .dataframe tbody tr th:only-of-type {\n",
       "        vertical-align: middle;\n",
       "    }\n",
       "\n",
       "    .dataframe tbody tr th {\n",
       "        vertical-align: top;\n",
       "    }\n",
       "\n",
       "    .dataframe thead th {\n",
       "        text-align: right;\n",
       "    }\n",
       "</style>\n",
       "<table border=\"1\" class=\"dataframe\">\n",
       "  <thead>\n",
       "    <tr style=\"text-align: right;\">\n",
       "      <th></th>\n",
       "      <th>order_price</th>\n",
       "      <th>customer_lat</th>\n",
       "      <th>customer_lon</th>\n",
       "      <th>customerHasloyalty?</th>\n",
       "      <th>distance_to_customer_KM</th>\n",
       "      <th>delivery_fee</th>\n",
       "    </tr>\n",
       "  </thead>\n",
       "  <tbody>\n",
       "    <tr>\n",
       "      <th>count</th>\n",
       "      <td>500.000000</td>\n",
       "      <td>500.000000</td>\n",
       "      <td>500.000000</td>\n",
       "      <td>500.000000</td>\n",
       "      <td>500.000000</td>\n",
       "      <td>500.000000</td>\n",
       "    </tr>\n",
       "    <tr>\n",
       "      <th>mean</th>\n",
       "      <td>495.080300</td>\n",
       "      <td>-30.753910</td>\n",
       "      <td>143.504305</td>\n",
       "      <td>0.128000</td>\n",
       "      <td>8.615828</td>\n",
       "      <td>13.525012</td>\n",
       "    </tr>\n",
       "    <tr>\n",
       "      <th>std</th>\n",
       "      <td>264.227147</td>\n",
       "      <td>25.336381</td>\n",
       "      <td>16.299228</td>\n",
       "      <td>0.334424</td>\n",
       "      <td>1.654765</td>\n",
       "      <td>2.653907</td>\n",
       "    </tr>\n",
       "    <tr>\n",
       "      <th>min</th>\n",
       "      <td>29.500000</td>\n",
       "      <td>-37.829895</td>\n",
       "      <td>-37.821798</td>\n",
       "      <td>0.000000</td>\n",
       "      <td>3.634000</td>\n",
       "      <td>4.827132</td>\n",
       "    </tr>\n",
       "    <tr>\n",
       "      <th>25%</th>\n",
       "      <td>294.250000</td>\n",
       "      <td>-37.818171</td>\n",
       "      <td>144.951479</td>\n",
       "      <td>0.000000</td>\n",
       "      <td>7.690000</td>\n",
       "      <td>12.187645</td>\n",
       "    </tr>\n",
       "    <tr>\n",
       "      <th>50%</th>\n",
       "      <td>444.000000</td>\n",
       "      <td>-37.811813</td>\n",
       "      <td>144.963948</td>\n",
       "      <td>0.000000</td>\n",
       "      <td>8.767000</td>\n",
       "      <td>13.748074</td>\n",
       "    </tr>\n",
       "    <tr>\n",
       "      <th>75%</th>\n",
       "      <td>638.375000</td>\n",
       "      <td>-37.803990</td>\n",
       "      <td>144.981148</td>\n",
       "      <td>0.000000</td>\n",
       "      <td>9.711000</td>\n",
       "      <td>15.232637</td>\n",
       "    </tr>\n",
       "    <tr>\n",
       "      <th>max</th>\n",
       "      <td>1394.000000</td>\n",
       "      <td>144.992130</td>\n",
       "      <td>145.019342</td>\n",
       "      <td>1.000000</td>\n",
       "      <td>13.202000</td>\n",
       "      <td>20.145842</td>\n",
       "    </tr>\n",
       "  </tbody>\n",
       "</table>\n",
       "</div>"
      ],
      "text/plain": [
       "       order_price  customer_lat  customer_lon  customerHasloyalty?  \\\n",
       "count   500.000000    500.000000    500.000000           500.000000   \n",
       "mean    495.080300    -30.753910    143.504305             0.128000   \n",
       "std     264.227147     25.336381     16.299228             0.334424   \n",
       "min      29.500000    -37.829895    -37.821798             0.000000   \n",
       "25%     294.250000    -37.818171    144.951479             0.000000   \n",
       "50%     444.000000    -37.811813    144.963948             0.000000   \n",
       "75%     638.375000    -37.803990    144.981148             0.000000   \n",
       "max    1394.000000    144.992130    145.019342             1.000000   \n",
       "\n",
       "       distance_to_customer_KM  delivery_fee  \n",
       "count               500.000000    500.000000  \n",
       "mean                  8.615828     13.525012  \n",
       "std                   1.654765      2.653907  \n",
       "min                   3.634000      4.827132  \n",
       "25%                   7.690000     12.187645  \n",
       "50%                   8.767000     13.748074  \n",
       "75%                   9.711000     15.232637  \n",
       "max                  13.202000     20.145842  "
      ]
     },
     "execution_count": 46,
     "metadata": {},
     "output_type": "execute_result"
    }
   ],
   "source": [
    "# preliminary form of data analysis to check the content of the dirtyData dataframe\n",
    "dirtyData.describe()"
   ]
  },
  {
   "cell_type": "code",
   "execution_count": 47,
   "metadata": {},
   "outputs": [
    {
     "data": {
      "text/plain": [
       "Index(['order_id', 'date', 'time', 'order_type', 'branch_code', 'order_items',\n",
       "       'order_price', 'customer_lat', 'customer_lon', 'customerHasloyalty?',\n",
       "       'distance_to_customer_KM', 'delivery_fee'],\n",
       "      dtype='object')"
      ]
     },
     "execution_count": 47,
     "metadata": {},
     "output_type": "execute_result"
    }
   ],
   "source": [
    "dirtyData.columns"
   ]
  },
  {
   "cell_type": "markdown",
   "metadata": {},
   "source": [
    "### order_id\n",
    "\n",
    "The order_id column should have unique values. The below code checks for the same. We use negation technique (using 'not' in if condition). If there are no duplicates in the order id, 'if' segment is executed and if there are any duplicates, 'else' segment is executed."
   ]
  },
  {
   "cell_type": "code",
   "execution_count": 48,
   "metadata": {},
   "outputs": [
    {
     "name": "stdout",
     "output_type": "stream",
     "text": [
      "There are no duplicate order ids in the dataframe.\n"
     ]
    }
   ],
   "source": [
    "#  To check if order_id is unique\n",
    "if not any(dirtyData['order_id'].duplicated()):                      # not False implies that there are no duplicates\n",
    "    print('There are no duplicate order ids in the dataframe.')  \n",
    "else:\n",
    "    print('There are duplicate order ids in the dataframe.')"
   ]
  },
  {
   "cell_type": "markdown",
   "metadata": {},
   "source": [
    "As there are no duplicates in the order id, we can proceed to next column inspection.\n",
    "\n",
    "\n",
    "### date\n",
    "\n",
    "The date column should be in the format 'yyyy-mm-dd'. As per the results obtained above, it appears that the date column has various date formats which are 'yyyy-mm-dd', 'mm-dd-yyyy', 'yyyy-dd-mm' and 'dd-mm-yyyy'. We need to compare each field in the date column with the formats mentioned earlier and convert if the date format is any different from the required format."
   ]
  },
  {
   "cell_type": "code",
   "execution_count": 49,
   "metadata": {},
   "outputs": [
    {
     "name": "stdout",
     "output_type": "stream",
     "text": [
      "The number of entries corrected in the date column :  37\n"
     ]
    }
   ],
   "source": [
    "formats = ['%Y-%m-%d', '%d-%m-%Y', '%m-%d-%Y', '%Y-%d-%m']         # Formats to try\n",
    "resultFormat = '%Y-%m-%d'                                          # Desired format\n",
    "\n",
    "# Setting the index\n",
    "index = 0\n",
    "\n",
    "# To check the number of entries with undesired date format\n",
    "dateErrorList = []\n",
    "\n",
    "for eachDate in dirtyData['date']:                                 # Iterate through each field in the date column\n",
    "    formatFlag = False                                             # Setting flag for date format\n",
    "    for eachFormat in formats:                                     # Iterate through each date format for comparison\n",
    "        if formatFlag:\n",
    "            break\n",
    "        try:\n",
    "            dateFormat = datetime.strptime(eachDate, eachFormat)   # Try the format\n",
    "            outputDate = dateFormat.strftime(resultFormat)         # Remove time from the resultant datetime format\n",
    "            formatFlag = True\n",
    "        except ValueError:\n",
    "            dateErrorList.append(index)                            # Append the index of the rows with wrong entry\n",
    "    dirtyData.at[index, 'date'] = outputDate                       # Replace the entry with changed date format\n",
    "    index += 1                                                     # Increment the index to keep up with the loop and to replace the entry with changed date format\n",
    "\n",
    "# Since it is trying each format, there will be multiple entries in dateErrorList.\n",
    "# Hence, we change the list into set and back to list again\n",
    "dateErrorList = list(set(dateErrorList))\n",
    "\n",
    "# Sorting the error list\n",
    "dateErrorList.sort()\n",
    "\n",
    "# Printing the number of corrected entries in date column    \n",
    "print('The number of entries corrected in the date column : ', len(dateErrorList))  "
   ]
  },
  {
   "cell_type": "markdown",
   "metadata": {},
   "source": [
    "It can be seen in the above code result that there are 37 number of incorrect entries for the date column. We now convert the datatype of this column and verify the same using the dtypes functionality of pandas."
   ]
  },
  {
   "cell_type": "code",
   "execution_count": 50,
   "metadata": {},
   "outputs": [],
   "source": [
    "# Convert the values in date column to datetime datatype\n",
    "dirtyData['date'] =  pd.to_datetime(dirtyData['date'], format='%Y-%m-%d')"
   ]
  },
  {
   "cell_type": "code",
   "execution_count": 51,
   "metadata": {},
   "outputs": [
    {
     "data": {
      "text/plain": [
       "order_id                           object\n",
       "date                       datetime64[ns]\n",
       "time                               object\n",
       "order_type                         object\n",
       "branch_code                        object\n",
       "order_items                        object\n",
       "order_price                       float64\n",
       "customer_lat                      float64\n",
       "customer_lon                      float64\n",
       "customerHasloyalty?                 int64\n",
       "distance_to_customer_KM           float64\n",
       "delivery_fee                      float64\n",
       "dtype: object"
      ]
     },
     "execution_count": 51,
     "metadata": {},
     "output_type": "execute_result"
    }
   ],
   "source": [
    "# To check if the changes reflect date time data type\n",
    "dirtyData.dtypes"
   ]
  },
  {
   "cell_type": "markdown",
   "metadata": {},
   "source": [
    "As we can see that the date column has been changed to datetime datatype, we can now move onto the next column.\n",
    "\n",
    "### time\n",
    "\n",
    "This column represents the time the order was prepared and is given by hh:mm:ss format. We need to check if this column is in the given format."
   ]
  },
  {
   "cell_type": "code",
   "execution_count": 52,
   "metadata": {},
   "outputs": [
    {
     "data": {
      "text/plain": [
       "0      10:42:15\n",
       "1      10:32:06\n",
       "2      16:47:19\n",
       "3      17:07:36\n",
       "4      17:38:01\n",
       "5      13:14:21\n",
       "6      15:46:28\n",
       "7      10:32:06\n",
       "8      13:44:47\n",
       "9      14:55:46\n",
       "10     10:42:15\n",
       "11     15:46:28\n",
       "12     14:55:46\n",
       "13     10:21:58\n",
       "14     13:14:21\n",
       "15     12:43:56\n",
       "16     10:52:23\n",
       "17     08:10:08\n",
       "18     14:35:29\n",
       "19     19:09:17\n",
       "20     09:51:32\n",
       "21     10:21:58\n",
       "22     15:46:28\n",
       "23     13:04:13\n",
       "24     11:32:57\n",
       "25     08:10:08\n",
       "26     13:14:21\n",
       "27     11:53:14\n",
       "28     15:56:37\n",
       "29     14:05:04\n",
       "         ...   \n",
       "470    08:50:42\n",
       "471    08:50:42\n",
       "472    14:55:46\n",
       "473    10:01:41\n",
       "474    08:00:00\n",
       "475    19:29:34\n",
       "476    09:31:16\n",
       "477    09:21:07\n",
       "478    19:49:51\n",
       "479    13:24:30\n",
       "480    18:08:27\n",
       "481    20:00:00\n",
       "482    13:24:30\n",
       "483    18:59:09\n",
       "484    08:00:00\n",
       "485    18:59:09\n",
       "486    10:01:41\n",
       "487    20:00:00\n",
       "488    08:50:42\n",
       "489    16:27:02\n",
       "490    15:26:11\n",
       "491    08:10:08\n",
       "492    11:12:40\n",
       "493    08:20:16\n",
       "494    18:08:27\n",
       "495    09:10:59\n",
       "496    12:54:05\n",
       "497    08:00:00\n",
       "498    08:50:42\n",
       "499    11:43:05\n",
       "Name: time, Length: 500, dtype: object"
      ]
     },
     "execution_count": 52,
     "metadata": {},
     "output_type": "execute_result"
    }
   ],
   "source": [
    "dirtyData['time']"
   ]
  },
  {
   "cell_type": "code",
   "execution_count": 53,
   "metadata": {},
   "outputs": [
    {
     "data": {
      "text/plain": [
       "'08:00:00'"
      ]
     },
     "execution_count": 53,
     "metadata": {},
     "output_type": "execute_result"
    }
   ],
   "source": [
    "dirtyData['time'].min()"
   ]
  },
  {
   "cell_type": "code",
   "execution_count": 54,
   "metadata": {},
   "outputs": [
    {
     "data": {
      "text/plain": [
       "'20:00:00'"
      ]
     },
     "execution_count": 54,
     "metadata": {},
     "output_type": "execute_result"
    }
   ],
   "source": [
    "dirtyData['time'].max()"
   ]
  },
  {
   "cell_type": "markdown",
   "metadata": {},
   "source": [
    "In the dirty data input file, we noticed that the format was in the form 'hh:mm:ss' or 'h:mm:ss' but when we load the csv data into pandas dataframe, it automatically stored the values in 'hh:mm:ss' format. Also the minimum and maximum time are 8am and 8pm respectively. Hence, the values in the time column seems fine. No alteration is required.\n",
    "\n",
    "### order_type\n",
    "\n",
    "This field represents different types of orders namely 'Breakfast', 'Lunch' and 'Dinner'. We need to make sure that these three meal types are served in the allotted time slots. For this, we can use a method to check the timing and return the supposed meal type."
   ]
  },
  {
   "cell_type": "code",
   "execution_count": 55,
   "metadata": {},
   "outputs": [],
   "source": [
    "# Setting time limits for breakfast and lunch \n",
    "breakfastStartTime = datetime.strptime('08:00:00', \"%H:%M:%S\")\n",
    "breakfastEndTime = datetime.strptime('12:00:00', \"%H:%M:%S\")\n",
    "lunchStartTime = datetime.strptime('12:00:01', \"%H:%M:%S\")\n",
    "lunchEndTime = datetime.strptime('16:00:00', \"%H:%M:%S\")\n",
    "\n",
    "# Method to check the order type \n",
    "def timeCheck(orderTime):\n",
    "    orderTime = datetime.strptime(orderTime, \"%H:%M:%S\")     # Converts text into datetime format\n",
    "    if breakfastStartTime <= orderTime <= breakfastEndTime:\n",
    "        return 'Breakfast'                                   # Returns Breakfast if order time falls under breakfast time window\n",
    "    elif lunchStartTime <= orderTime <= lunchEndTime:\n",
    "        return 'Lunch'                                       # Returns Lunch if order time falls under lunch time window\n",
    "    else:\n",
    "        return 'Dinner'                                      # Returns Dinner if order time doesn't falls under breakfast or lunch time window"
   ]
  },
  {
   "cell_type": "markdown",
   "metadata": {},
   "source": [
    "Whenever there's a mismatch of the data in the order_type column, we replace the wrong order type with the correct order type and append the index of that row to the orderTypeErrorList."
   ]
  },
  {
   "cell_type": "code",
   "execution_count": 56,
   "metadata": {},
   "outputs": [
    {
     "name": "stdout",
     "output_type": "stream",
     "text": [
      "The number of entries corrected in order_type column :  37\n"
     ]
    }
   ],
   "source": [
    "# Setting the index\n",
    "index = 0    \n",
    "\n",
    "# To check the number of wrong entries in order_type column\n",
    "orderTypeErrorList = []\n",
    "\n",
    "# Iterate through each field in time column\n",
    "for eachTime in dirtyData['time']:\n",
    "    orderType = timeCheck(eachTime)                          # Pass each element in the time column to timeCheck function to determine the order type\n",
    "    if dirtyData['order_type'][index] != orderType:          # Checks if there's a mismatch between existing and expected order type\n",
    "        dirtyData.at[index, 'order_type'] = orderType        # Replace the expected order type with existing order type in the dataframe in case of mismatch\n",
    "        orderTypeErrorList.append(index)                     # Append the index of the rows with wrong entry\n",
    "    index += 1                                               # Increment the index for next iteration\n",
    "\n",
    "orderTypeErrorList.sort()                                    # Sorting the error list\n",
    "\n",
    "# Printing the number of corrected entries in branch code column\n",
    "print('The number of entries corrected in order_type column : ', len(orderTypeErrorList))    "
   ]
  },
  {
   "cell_type": "markdown",
   "metadata": {},
   "source": [
    "### branch_code\n",
    "\n",
    "This field represents the branch code in which the order of the customer was made. For this, we need to refer the branches.csv file and make sure that correct branch code is assigned. Further, using the outliers data as the reference, we find out the mapping between the subset of the order id and the branch code (similar to the process in the case of missing data analysis)."
   ]
  },
  {
   "cell_type": "code",
   "execution_count": 57,
   "metadata": {},
   "outputs": [
    {
     "name": "stdout",
     "output_type": "stream",
     "text": [
      "Unique branch codes in branches.csv file :  ['NS' 'TP' 'BK']\n",
      "Unique branch codes in branch_code column (in Group010_dirty_data.csv) before changes :  ['tp' 'NS' 'TP' 'BK' 'ns' 'bk']\n"
     ]
    }
   ],
   "source": [
    "print('Unique branch codes in branches.csv file : ', branches['branch_code'].unique())\n",
    "print('Unique branch codes in branch_code column (in Group010_dirty_data.csv) before changes : ', dirtyData['branch_code'].unique())"
   ]
  },
  {
   "cell_type": "markdown",
   "metadata": {},
   "source": [
    "We see that there is an issue in the case of the branch codes in the dataframe. We can simply convert each field into upper case to resolve this issue and make sure that the data meets assignment specifications."
   ]
  },
  {
   "cell_type": "code",
   "execution_count": 58,
   "metadata": {},
   "outputs": [
    {
     "name": "stdout",
     "output_type": "stream",
     "text": [
      "The number of entries corrected in branch_code column :  25\n",
      "Unique branch codes in branch_code column after changes :  ['TP' 'NS' 'BK']\n"
     ]
    }
   ],
   "source": [
    "# Setting the index\n",
    "index = 0\n",
    "\n",
    "# To check the number of wrong branch code entries\n",
    "branchErrorList = []\n",
    "\n",
    "# Iterate through each code in branch_code column\n",
    "for eachCode in dirtyData['branch_code']:\n",
    "    if not eachCode.isupper():\n",
    "        dirtyData.at[index, 'branch_code'] = eachCode.upper()        # If the existing branch_code is in lower case, replace with the upper case\n",
    "        branchErrorList.append(index)                                # Append the index of the wrong entry to error list\n",
    "    index += 1\n",
    "\n",
    "# Sorting the error list\n",
    "branchErrorList.sort()\n",
    "\n",
    "# Printing the number of corrected entries in branch code column\n",
    "print('The number of entries corrected in branch_code column : ', len(branchErrorList))\n",
    "    \n",
    "# Check if the above case change was implemented successfully\n",
    "print('Unique branch codes in branch_code column after changes : ', dirtyData['branch_code'].unique())"
   ]
  },
  {
   "cell_type": "markdown",
   "metadata": {},
   "source": [
    "Although the above fix is applied, mapping between the subset of order id and the branch code still is a point of concern. Below code snippets take care of that issue. We now create a dictionary with the order subset and branch code mapping for the dirty data and compare the same with the outlier's dictionary and make corresponding changes."
   ]
  },
  {
   "cell_type": "code",
   "execution_count": 59,
   "metadata": {},
   "outputs": [
    {
     "data": {
      "text/plain": [
       "{'ORDB': 'TP',\n",
       " 'ORDC': 'NS',\n",
       " 'ORDK': 'BK',\n",
       " 'ORDY': 'TP',\n",
       " 'ORDX': 'BK',\n",
       " 'ORDZ': 'NS',\n",
       " 'ORDJ': 'TP',\n",
       " 'ORDA': 'TP',\n",
       " 'ORDI': 'NS'}"
      ]
     },
     "execution_count": 59,
     "metadata": {},
     "output_type": "execute_result"
    }
   ],
   "source": [
    "# Setting the index\n",
    "index = 0\n",
    "\n",
    "# Initializing an empty dictionary to store order id and branch code mapping\n",
    "branchOrderDictDirty = {}\n",
    "\n",
    "# Itterate through each row of the order id column from dirty data\n",
    "for each in dirtyData['order_id']:\n",
    "    orderEach = each[0:4]                                                    # Extracting the subset of the order id\n",
    "    if orderEach not in branchOrderDictDirty.keys():\n",
    "        branchOrderDictDirty[orderEach] = dirtyData['branch_code'][index]    # Creating order id and branch code mapping\n",
    "    index += 1\n",
    "    \n",
    "branchOrderDictDirty"
   ]
  },
  {
   "cell_type": "code",
   "execution_count": 60,
   "metadata": {},
   "outputs": [
    {
     "name": "stdout",
     "output_type": "stream",
     "text": [
      "The overall entries affected based on branch code :  37\n"
     ]
    }
   ],
   "source": [
    "# Setting the index\n",
    "index = 0\n",
    "\n",
    "# Iterating through each field of the branch code from dirty data\n",
    "for each in dirtyData['branch_code']:\n",
    "    orderEach = dirtyData['order_id'][index][0:4]                                # Extracting subset of order id\n",
    "    if branchOrderDict.get(orderEach) != dirtyData.at[index, 'branch_code']:\n",
    "        dirtyData.at[index, 'branch_code'] = branchOrderDict.get(orderEach)      # Fixing the misplacement of the branch code\n",
    "        branchErrorList.append(index)                                            # Maintaining the error list\n",
    "    index += 1\n",
    "\n",
    "# Since we are checking the branch codes twice (one for case and other based on mapping), we change the list into set and back to list again\n",
    "branchErrorList = list(set(branchErrorList))\n",
    "branchErrorList.sort()\n",
    "\n",
    "# Printing total number of wrong entries for branch code\n",
    "print('The overall entries affected based on branch code : ', len(branchErrorList))"
   ]
  },
  {
   "cell_type": "markdown",
   "metadata": {},
   "source": [
    "### order_price and order_items\n",
    "\n",
    "The order price represents total price as a floating point. Before we analyse and fix the order items column, we need to figure out the price of each item that is present in the order. For this, we need to refer the outlier dataset, get the mappings and calculations done and finally fix the order items column."
   ]
  },
  {
   "cell_type": "code",
   "execution_count": 61,
   "metadata": {},
   "outputs": [],
   "source": [
    "# Setting the index\n",
    "index = 0   \n",
    "\n",
    "# creating separate lists of items served based on breakfast, lunch and dinner\n",
    "breakfastList = []\n",
    "lunchList = []\n",
    "dinnerList = []\n",
    "\n",
    "# Iterate through each field of order items from outlier data\n",
    "for each in outlierData['order_items']:\n",
    "    value = eval(each)                                               \n",
    "    if outlierData['order_type'][index] == \"Breakfast\":     \n",
    "        for eachVal in value:                               # looping through the items in order_items\n",
    "            breakfastList.append(eachVal[0])                # appending the item name into the breakfast list\n",
    "    elif outlierData['order_type'][index] == \"Lunch\":\n",
    "        for eachVal in value:                               # looping through the items in order_items\n",
    "            lunchList.append(eachVal[0])                    # appending the item name into the lunch list\n",
    "    else:\n",
    "        for eachVal in value:                               # looping through the items in order_items\n",
    "            dinnerList.append(eachVal[0])                   # appending the item name into the dinner list\n",
    "    index += 1   \n",
    "\n",
    "# removing duplicates using set and then converting it back into a list.\n",
    "breakfastList = list(set(breakfastList))\n",
    "lunchList = list(set(lunchList))\n",
    "dinnerList = list(set(dinnerList))"
   ]
  },
  {
   "cell_type": "code",
   "execution_count": 62,
   "metadata": {},
   "outputs": [
    {
     "name": "stdout",
     "output_type": "stream",
     "text": [
      "{0: 'Pancake', 1: 'Cereal', 2: 'Eggs', 3: 'Coffee', 4: 'Steak', 5: 'Fries', 6: 'Salad', 7: 'Chicken', 8: 'Burger', 9: 'Shrimp', 10: 'Pasta', 11: 'Fish&Chips', 12: 'Salmon'}\n"
     ]
    }
   ],
   "source": [
    "# Initializing a full list to store all meals information \n",
    "fullList = []\n",
    "fullList.extend(breakfastList)\n",
    "fullList.extend(lunchList)\n",
    "fullList.extend(dinnerList)\n",
    "\n",
    "# Initializing empty dictionary to create mapping of each item with a number for further analysis\n",
    "fullDict = {}\n",
    "for i in range(len(fullList)):\n",
    "    fullDict[i] = fullList[i]\n",
    "\n",
    "# Printing the dictionary for reference\n",
    "print(fullDict)"
   ]
  },
  {
   "cell_type": "markdown",
   "metadata": {},
   "source": [
    "Here, we store the order item in form of a dictionary with a number associated with it for easy reference in further analysis."
   ]
  },
  {
   "cell_type": "code",
   "execution_count": 63,
   "metadata": {},
   "outputs": [],
   "source": [
    "# Setting the index \n",
    "index = 0\n",
    "\n",
    "# Initializing empty lists to store order price and total count list\n",
    "orderPriceList = []\n",
    "totalCountList = []\n",
    "\n",
    "# Iterate through each field of order items from outlier data\n",
    "for items in outlierData['order_items']:\n",
    "    allItems = eval(items)\n",
    "    countList = []\n",
    "    \n",
    "    # Iterate through each key and value from the full items dictionary\n",
    "    for key, value in fullDict.items():\n",
    "        count = 0                                              # Here, count acts as a flag\n",
    "        for item in allItems:\n",
    "            if item[0] == value:\n",
    "                countList.append(item[1])                      # If the value matches, append the item quantity to the count list\n",
    "                count = 1\n",
    "        if count != 1:\n",
    "            countList.append(0)                                # If the value is not in the order item, append 0 to the count list\n",
    "            \n",
    "    totalCountList.append(countList)                           # Append the count list to the total count list\n",
    "    orderPriceList.append(outlierData['order_price'][index])   # Append the order price in sequence into order price list\n",
    "    \n",
    "    index += 1"
   ]
  },
  {
   "cell_type": "markdown",
   "metadata": {},
   "source": [
    "In the above code segment we are creating seperate matrices which we are going to use for the purpose of calculating linear equations. The totalCountList contains the coefficient values, which we are generating using the full items dictionary, and setting the values accordingly like in the form of a matrix. The orderPriceList contains the price of the total order, which we get from the 'order_price' column, for each index appended into a list."
   ]
  },
  {
   "cell_type": "code",
   "execution_count": 64,
   "metadata": {},
   "outputs": [
    {
     "data": {
      "text/plain": [
       "[[0, 0, 0, 0, 4, 10, 6, 1, 2, 0, 0, 0, 0],\n",
       " [0, 0, 0, 0, 7, 6, 9, 9, 0, 0, 0, 0, 0],\n",
       " [0, 0, 0, 0, 0, 0, 0, 0, 0, 0, 8, 1, 0],\n",
       " [1, 2, 4, 7, 0, 0, 0, 0, 0, 0, 0, 0, 0],\n",
       " [0, 0, 0, 0, 3, 0, 3, 1, 3, 0, 0, 0, 0],\n",
       " [0, 0, 0, 0, 0, 0, 0, 0, 0, 8, 7, 8, 7],\n",
       " [0, 4, 8, 6, 0, 0, 0, 0, 0, 0, 0, 0, 0],\n",
       " [8, 0, 3, 5, 0, 0, 0, 0, 0, 0, 0, 0, 0],\n",
       " [0, 0, 0, 0, 6, 2, 1, 0, 10, 0, 0, 0, 0],\n",
       " [10, 7, 10, 8, 0, 0, 0, 0, 0, 0, 0, 0, 0],\n",
       " [0, 0, 0, 0, 8, 5, 6, 5, 8, 0, 0, 0, 0],\n",
       " [0, 0, 0, 0, 0, 0, 0, 0, 0, 5, 0, 4, 0],\n",
       " [6, 8, 0, 5, 0, 0, 0, 0, 0, 0, 0, 0, 0],\n",
       " [0, 0, 0, 0, 0, 0, 0, 0, 0, 0, 5, 6, 0],\n",
       " [9, 2, 0, 1, 0, 0, 0, 0, 0, 0, 0, 0, 0],\n",
       " [0, 0, 0, 0, 0, 0, 2, 1, 1, 0, 0, 0, 0],\n",
       " [0, 0, 0, 0, 3, 5, 0, 4, 0, 0, 0, 0, 0],\n",
       " [0, 0, 0, 0, 4, 0, 3, 8, 7, 0, 0, 0, 0],\n",
       " [0, 0, 0, 0, 5, 2, 6, 3, 4, 0, 0, 0, 0],\n",
       " [0, 0, 0, 0, 8, 0, 9, 10, 6, 0, 0, 0, 0],\n",
       " [0, 0, 0, 0, 0, 0, 0, 0, 0, 1, 7, 9, 7],\n",
       " [0, 0, 0, 0, 3, 9, 2, 0, 0, 0, 0, 0, 0],\n",
       " [0, 9, 3, 0, 0, 0, 0, 0, 0, 0, 0, 0, 0],\n",
       " [0, 0, 0, 0, 2, 9, 0, 0, 0, 0, 0, 0, 0],\n",
       " [0, 0, 0, 0, 0, 0, 0, 0, 0, 0, 4, 6, 4],\n",
       " [8, 2, 6, 0, 0, 0, 0, 0, 0, 0, 0, 0, 0],\n",
       " [0, 0, 0, 0, 0, 9, 8, 0, 2, 0, 0, 0, 0],\n",
       " [0, 0, 0, 0, 0, 0, 0, 0, 0, 1, 7, 0, 5],\n",
       " [0, 0, 0, 0, 10, 0, 0, 1, 1, 0, 0, 0, 0],\n",
       " [0, 0, 0, 0, 0, 0, 0, 0, 0, 6, 9, 4, 5],\n",
       " [0, 0, 0, 0, 0, 0, 0, 0, 0, 4, 0, 4, 2],\n",
       " [0, 0, 0, 0, 2, 5, 2, 8, 10, 0, 0, 0, 0],\n",
       " [2, 0, 9, 7, 0, 0, 0, 0, 0, 0, 0, 0, 0],\n",
       " [0, 0, 0, 0, 0, 0, 0, 0, 0, 5, 7, 6, 0],\n",
       " [0, 0, 0, 0, 0, 0, 0, 0, 0, 6, 7, 0, 0],\n",
       " [0, 0, 0, 0, 0, 0, 0, 0, 0, 0, 5, 0, 8],\n",
       " [0, 0, 0, 0, 1, 6, 0, 3, 7, 0, 0, 0, 0],\n",
       " [0, 0, 0, 0, 0, 0, 0, 0, 0, 0, 6, 0, 1],\n",
       " [1, 6, 4, 0, 0, 0, 0, 0, 0, 0, 0, 0, 0],\n",
       " [0, 0, 0, 0, 0, 0, 0, 0, 0, 1, 2, 0, 0],\n",
       " [3, 0, 9, 0, 0, 0, 0, 0, 0, 0, 0, 0, 0],\n",
       " [2, 3, 6, 2, 0, 0, 0, 0, 0, 0, 0, 0, 0],\n",
       " [0, 0, 0, 0, 0, 0, 0, 0, 0, 0, 6, 1, 0],\n",
       " [0, 0, 0, 0, 0, 5, 0, 2, 9, 0, 0, 0, 0],\n",
       " [0, 0, 0, 0, 2, 1, 7, 8, 7, 0, 0, 0, 0],\n",
       " [0, 0, 0, 0, 0, 0, 0, 0, 0, 0, 6, 1, 4],\n",
       " [0, 0, 0, 0, 0, 0, 0, 0, 0, 10, 10, 7, 3],\n",
       " [0, 0, 0, 0, 0, 0, 0, 0, 0, 10, 0, 0, 5],\n",
       " [0, 5, 0, 6, 0, 0, 0, 0, 0, 0, 0, 0, 0],\n",
       " [3, 8, 7, 8, 0, 0, 0, 0, 0, 0, 0, 0, 0],\n",
       " [0, 2, 1, 8, 0, 0, 0, 0, 0, 0, 0, 0, 0],\n",
       " [4, 5, 0, 0, 0, 0, 0, 0, 0, 0, 0, 0, 0],\n",
       " [0, 0, 0, 0, 8, 0, 0, 0, 3, 0, 0, 0, 0],\n",
       " [0, 0, 0, 0, 0, 0, 0, 0, 0, 10, 0, 5, 0],\n",
       " [0, 0, 0, 0, 6, 8, 9, 0, 10, 0, 0, 0, 0],\n",
       " [0, 0, 0, 0, 2, 0, 10, 2, 2, 0, 0, 0, 0],\n",
       " [0, 0, 0, 0, 0, 0, 0, 0, 0, 6, 10, 9, 4],\n",
       " [0, 0, 0, 0, 5, 0, 3, 5, 5, 0, 0, 0, 0],\n",
       " [0, 9, 4, 3, 0, 0, 0, 0, 0, 0, 0, 0, 0],\n",
       " [0, 0, 0, 0, 0, 0, 0, 0, 0, 8, 3, 9, 7],\n",
       " [6, 0, 7, 4, 0, 0, 0, 0, 0, 0, 0, 0, 0],\n",
       " [0, 0, 0, 0, 0, 0, 0, 0, 0, 9, 0, 1, 0],\n",
       " [0, 0, 0, 0, 0, 0, 9, 5, 0, 0, 0, 0, 0],\n",
       " [9, 6, 3, 3, 0, 0, 0, 0, 0, 0, 0, 0, 0],\n",
       " [0, 0, 0, 0, 0, 0, 0, 0, 0, 10, 6, 0, 5],\n",
       " [0, 0, 0, 0, 0, 0, 1, 7, 0, 0, 0, 0, 0],\n",
       " [0, 2, 6, 0, 0, 0, 0, 0, 0, 0, 0, 0, 0],\n",
       " [0, 0, 0, 0, 0, 0, 0, 0, 0, 2, 0, 0, 4],\n",
       " [0, 0, 1, 1, 0, 0, 0, 0, 0, 0, 0, 0, 0],\n",
       " [0, 8, 1, 5, 0, 0, 0, 0, 0, 0, 0, 0, 0],\n",
       " [9, 0, 0, 1, 0, 0, 0, 0, 0, 0, 0, 0, 0],\n",
       " [0, 0, 0, 0, 9, 6, 0, 10, 4, 0, 0, 0, 0],\n",
       " [6, 0, 4, 2, 0, 0, 0, 0, 0, 0, 0, 0, 0],\n",
       " [0, 0, 0, 0, 0, 0, 0, 0, 0, 3, 8, 1, 5],\n",
       " [0, 0, 0, 0, 2, 0, 7, 2, 3, 0, 0, 0, 0],\n",
       " [0, 0, 0, 0, 0, 0, 0, 0, 0, 5, 0, 9, 0],\n",
       " [2, 0, 0, 6, 0, 0, 0, 0, 0, 0, 0, 0, 0],\n",
       " [0, 0, 0, 0, 8, 0, 10, 0, 3, 0, 0, 0, 0],\n",
       " [8, 0, 5, 5, 0, 0, 0, 0, 0, 0, 0, 0, 0],\n",
       " [0, 0, 0, 0, 0, 10, 7, 8, 0, 0, 0, 0, 0],\n",
       " [0, 0, 0, 0, 0, 0, 0, 0, 0, 7, 0, 5, 0],\n",
       " [0, 0, 0, 0, 0, 0, 0, 0, 0, 7, 2, 0, 0],\n",
       " [3, 5, 3, 6, 0, 0, 0, 0, 0, 0, 0, 0, 0],\n",
       " [0, 0, 0, 0, 0, 0, 0, 0, 0, 9, 5, 3, 4],\n",
       " [0, 0, 0, 0, 0, 1, 0, 6, 0, 0, 0, 0, 0],\n",
       " [0, 0, 0, 0, 0, 0, 0, 0, 0, 5, 0, 3, 10],\n",
       " [0, 0, 0, 0, 7, 5, 0, 2, 4, 0, 0, 0, 0],\n",
       " [0, 0, 0, 0, 3, 8, 1, 7, 3, 0, 0, 0, 0],\n",
       " [0, 0, 0, 0, 2, 1, 6, 2, 1, 0, 0, 0, 0],\n",
       " [0, 0, 0, 0, 6, 3, 0, 2, 7, 0, 0, 0, 0],\n",
       " [1, 10, 0, 0, 0, 0, 0, 0, 0, 0, 0, 0, 0],\n",
       " [0, 0, 0, 0, 10, 2, 4, 1, 2, 0, 0, 0, 0],\n",
       " [2, 9, 2, 10, 0, 0, 0, 0, 0, 0, 0, 0, 0],\n",
       " [0, 0, 0, 0, 0, 0, 0, 0, 0, 1, 4, 0, 10],\n",
       " [0, 0, 0, 0, 0, 0, 0, 0, 0, 1, 8, 6, 0],\n",
       " [0, 0, 0, 0, 0, 8, 0, 0, 9, 0, 0, 0, 0],\n",
       " [0, 0, 0, 0, 0, 5, 5, 9, 3, 0, 0, 0, 0],\n",
       " [0, 0, 0, 0, 4, 5, 0, 7, 0, 0, 0, 0, 0],\n",
       " [0, 0, 0, 0, 0, 0, 0, 0, 0, 0, 8, 9, 4],\n",
       " [0, 0, 0, 0, 0, 0, 0, 0, 0, 0, 0, 6, 1],\n",
       " [0, 0, 0, 0, 1, 9, 10, 0, 9, 0, 0, 0, 0],\n",
       " [0, 7, 1, 0, 0, 0, 0, 0, 0, 0, 0, 0, 0],\n",
       " [0, 0, 0, 0, 10, 4, 4, 7, 1, 0, 0, 0, 0],\n",
       " [0, 0, 0, 0, 0, 4, 2, 10, 6, 0, 0, 0, 0],\n",
       " [0, 0, 0, 0, 5, 5, 7, 2, 0, 0, 0, 0, 0],\n",
       " [4, 5, 9, 2, 0, 0, 0, 0, 0, 0, 0, 0, 0],\n",
       " [0, 10, 0, 4, 0, 0, 0, 0, 0, 0, 0, 0, 0],\n",
       " [0, 0, 0, 0, 0, 0, 0, 0, 0, 4, 9, 7, 0],\n",
       " [0, 0, 0, 0, 0, 0, 0, 0, 0, 0, 8, 8, 0],\n",
       " [0, 0, 0, 0, 6, 2, 8, 2, 1, 0, 0, 0, 0],\n",
       " [0, 0, 0, 0, 0, 0, 0, 0, 0, 10, 0, 3, 2],\n",
       " [0, 0, 0, 0, 0, 0, 8, 7, 3, 0, 0, 0, 0],\n",
       " [0, 0, 0, 0, 0, 10, 4, 7, 2, 0, 0, 0, 0],\n",
       " [2, 0, 0, 2, 0, 0, 0, 0, 0, 0, 0, 0, 0],\n",
       " [0, 0, 0, 0, 0, 0, 0, 0, 0, 1, 8, 10, 10],\n",
       " [0, 0, 0, 0, 0, 0, 0, 0, 0, 1, 0, 6, 0],\n",
       " [0, 0, 0, 0, 0, 0, 0, 0, 0, 8, 7, 1, 1],\n",
       " [0, 0, 0, 0, 7, 0, 4, 9, 1, 0, 0, 0, 0],\n",
       " [0, 0, 0, 0, 5, 2, 9, 5, 9, 0, 0, 0, 0],\n",
       " [4, 8, 4, 2, 0, 0, 0, 0, 0, 0, 0, 0, 0],\n",
       " [4, 5, 4, 4, 0, 0, 0, 0, 0, 0, 0, 0, 0],\n",
       " [8, 2, 1, 7, 0, 0, 0, 0, 0, 0, 0, 0, 0],\n",
       " [0, 0, 0, 0, 0, 0, 0, 0, 0, 4, 10, 0, 2],\n",
       " [3, 5, 1, 3, 0, 0, 0, 0, 0, 0, 0, 0, 0],\n",
       " [0, 0, 0, 0, 0, 0, 0, 0, 0, 0, 6, 0, 7],\n",
       " [0, 0, 10, 1, 0, 0, 0, 0, 0, 0, 0, 0, 0],\n",
       " [5, 5, 10, 10, 0, 0, 0, 0, 0, 0, 0, 0, 0],\n",
       " [0, 0, 0, 0, 0, 0, 0, 0, 0, 10, 2, 6, 7],\n",
       " [0, 0, 0, 0, 9, 0, 0, 3, 0, 0, 0, 0, 0],\n",
       " [2, 3, 6, 5, 0, 0, 0, 0, 0, 0, 0, 0, 0],\n",
       " [10, 5, 0, 3, 0, 0, 0, 0, 0, 0, 0, 0, 0],\n",
       " [0, 0, 0, 0, 0, 0, 0, 0, 0, 0, 7, 5, 7],\n",
       " [0, 0, 0, 0, 0, 0, 0, 0, 0, 1, 8, 7, 2],\n",
       " [0, 0, 0, 0, 3, 9, 10, 4, 8, 0, 0, 0, 0],\n",
       " [0, 7, 5, 2, 0, 0, 0, 0, 0, 0, 0, 0, 0],\n",
       " [0, 0, 0, 0, 0, 0, 0, 0, 0, 0, 3, 9, 4],\n",
       " [0, 0, 0, 0, 0, 0, 0, 0, 0, 0, 7, 8, 7],\n",
       " [0, 0, 0, 0, 9, 0, 6, 0, 3, 0, 0, 0, 0],\n",
       " [0, 0, 0, 0, 7, 4, 2, 1, 0, 0, 0, 0, 0],\n",
       " [0, 0, 0, 0, 3, 0, 0, 0, 2, 0, 0, 0, 0],\n",
       " [10, 5, 3, 7, 0, 0, 0, 0, 0, 0, 0, 0, 0],\n",
       " [0, 0, 0, 0, 0, 0, 0, 0, 0, 9, 10, 6, 0],\n",
       " [0, 0, 0, 0, 0, 0, 0, 0, 0, 5, 0, 7, 0],\n",
       " [0, 0, 0, 0, 10, 0, 0, 1, 2, 0, 0, 0, 0],\n",
       " [8, 5, 0, 0, 0, 0, 0, 0, 0, 0, 0, 0, 0],\n",
       " [0, 0, 0, 0, 1, 5, 0, 0, 0, 0, 0, 0, 0],\n",
       " [0, 0, 0, 0, 1, 8, 10, 5, 5, 0, 0, 0, 0],\n",
       " [0, 0, 0, 0, 0, 0, 0, 0, 0, 4, 0, 3, 0],\n",
       " [0, 0, 0, 0, 0, 0, 0, 0, 0, 1, 1, 0, 5],\n",
       " [0, 0, 0, 0, 10, 5, 10, 10, 10, 0, 0, 0, 0],\n",
       " [0, 0, 0, 0, 0, 0, 0, 0, 0, 0, 0, 6, 1],\n",
       " [0, 1, 0, 6, 0, 0, 0, 0, 0, 0, 0, 0, 0],\n",
       " [0, 0, 0, 0, 0, 0, 0, 0, 0, 0, 5, 2, 10],\n",
       " [2, 7, 0, 0, 0, 0, 0, 0, 0, 0, 0, 0, 0],\n",
       " [3, 0, 6, 0, 0, 0, 0, 0, 0, 0, 0, 0, 0],\n",
       " [0, 0, 0, 0, 0, 0, 0, 0, 0, 3, 10, 0, 9],\n",
       " [0, 0, 0, 0, 1, 2, 10, 4, 3, 0, 0, 0, 0],\n",
       " [0, 0, 0, 0, 8, 0, 1, 5, 10, 0, 0, 0, 0],\n",
       " [2, 0, 8, 0, 0, 0, 0, 0, 0, 0, 0, 0, 0],\n",
       " [6, 0, 10, 0, 0, 0, 0, 0, 0, 0, 0, 0, 0],\n",
       " [0, 0, 8, 10, 0, 0, 0, 0, 0, 0, 0, 0, 0],\n",
       " [0, 0, 0, 0, 0, 0, 0, 0, 0, 6, 10, 0, 0],\n",
       " [0, 0, 0, 0, 0, 0, 0, 0, 0, 0, 0, 4, 5],\n",
       " [0, 0, 0, 0, 8, 3, 7, 0, 0, 0, 0, 0, 0],\n",
       " [1, 4, 0, 0, 0, 0, 0, 0, 0, 0, 0, 0, 0],\n",
       " [0, 0, 0, 0, 5, 0, 0, 4, 0, 0, 0, 0, 0],\n",
       " [0, 0, 0, 0, 0, 6, 1, 1, 0, 0, 0, 0, 0],\n",
       " [0, 0, 0, 0, 0, 0, 0, 0, 0, 7, 1, 0, 6],\n",
       " [0, 0, 0, 0, 1, 8, 5, 8, 0, 0, 0, 0, 0],\n",
       " [9, 6, 1, 4, 0, 0, 0, 0, 0, 0, 0, 0, 0],\n",
       " [0, 0, 0, 0, 0, 3, 0, 0, 5, 0, 0, 0, 0],\n",
       " [0, 0, 0, 0, 0, 0, 0, 0, 0, 7, 5, 2, 0],\n",
       " [0, 0, 0, 0, 8, 6, 1, 3, 0, 0, 0, 0, 0],\n",
       " [0, 0, 0, 0, 0, 0, 0, 0, 0, 4, 5, 6, 7],\n",
       " [0, 0, 0, 0, 0, 0, 0, 0, 0, 7, 10, 7, 4],\n",
       " [0, 0, 0, 0, 0, 0, 0, 0, 0, 8, 6, 3, 4],\n",
       " [0, 0, 6, 4, 0, 0, 0, 0, 0, 0, 0, 0, 0],\n",
       " [0, 0, 0, 0, 7, 8, 10, 6, 8, 0, 0, 0, 0],\n",
       " [0, 0, 0, 0, 0, 0, 0, 0, 0, 2, 10, 10, 6],\n",
       " [0, 0, 0, 0, 0, 0, 0, 0, 0, 4, 5, 0, 5],\n",
       " [0, 0, 0, 0, 0, 0, 0, 0, 0, 9, 0, 3, 10],\n",
       " [0, 0, 0, 0, 4, 0, 10, 9, 10, 0, 0, 0, 0],\n",
       " [0, 0, 0, 0, 6, 4, 0, 5, 8, 0, 0, 0, 0],\n",
       " [0, 5, 3, 0, 0, 0, 0, 0, 0, 0, 0, 0, 0],\n",
       " [5, 0, 10, 4, 0, 0, 0, 0, 0, 0, 0, 0, 0],\n",
       " [0, 0, 0, 0, 0, 8, 4, 8, 3, 0, 0, 0, 0],\n",
       " [1, 10, 3, 7, 0, 0, 0, 0, 0, 0, 0, 0, 0],\n",
       " [0, 0, 0, 0, 0, 0, 0, 0, 0, 9, 7, 9, 4],\n",
       " [0, 0, 0, 0, 0, 0, 0, 0, 0, 1, 9, 1, 6],\n",
       " [7, 0, 2, 0, 0, 0, 0, 0, 0, 0, 0, 0, 0],\n",
       " [0, 0, 0, 0, 9, 8, 5, 9, 2, 0, 0, 0, 0],\n",
       " [0, 0, 0, 0, 2, 5, 0, 4, 10, 0, 0, 0, 0],\n",
       " [0, 0, 0, 0, 0, 0, 0, 0, 0, 1, 2, 2, 0],\n",
       " [7, 0, 3, 0, 0, 0, 0, 0, 0, 0, 0, 0, 0],\n",
       " [3, 0, 1, 0, 0, 0, 0, 0, 0, 0, 0, 0, 0],\n",
       " [0, 0, 0, 0, 8, 4, 1, 5, 9, 0, 0, 0, 0],\n",
       " [3, 0, 9, 5, 0, 0, 0, 0, 0, 0, 0, 0, 0],\n",
       " [0, 0, 0, 0, 0, 4, 6, 0, 2, 0, 0, 0, 0],\n",
       " [0, 8, 9, 0, 0, 0, 0, 0, 0, 0, 0, 0, 0],\n",
       " [0, 0, 0, 0, 5, 7, 8, 0, 6, 0, 0, 0, 0],\n",
       " [0, 0, 0, 0, 0, 0, 0, 0, 0, 4, 4, 6, 4],\n",
       " [0, 0, 0, 0, 0, 0, 0, 0, 0, 6, 7, 3, 0],\n",
       " [0, 0, 0, 0, 7, 1, 2, 2, 9, 0, 0, 0, 0],\n",
       " [0, 0, 0, 0, 3, 1, 7, 8, 4, 0, 0, 0, 0],\n",
       " [0, 0, 0, 0, 0, 0, 0, 0, 0, 4, 4, 4, 2],\n",
       " [0, 0, 0, 0, 10, 3, 0, 4, 10, 0, 0, 0, 0],\n",
       " [0, 0, 10, 8, 0, 0, 0, 0, 0, 0, 0, 0, 0],\n",
       " [0, 0, 0, 0, 0, 0, 0, 0, 0, 6, 1, 6, 10],\n",
       " [0, 0, 0, 0, 0, 0, 0, 0, 0, 8, 0, 0, 9],\n",
       " [0, 0, 0, 0, 0, 0, 0, 0, 0, 5, 5, 8, 4],\n",
       " [0, 0, 0, 0, 0, 0, 0, 0, 0, 1, 10, 7, 4],\n",
       " [0, 0, 0, 0, 0, 0, 0, 0, 0, 1, 9, 3, 0],\n",
       " [0, 0, 0, 0, 0, 0, 8, 0, 4, 0, 0, 0, 0],\n",
       " [0, 0, 0, 0, 9, 8, 4, 1, 6, 0, 0, 0, 0],\n",
       " [6, 6, 2, 8, 0, 0, 0, 0, 0, 0, 0, 0, 0],\n",
       " [0, 0, 0, 0, 2, 10, 7, 2, 9, 0, 0, 0, 0],\n",
       " [0, 0, 0, 0, 0, 0, 0, 0, 0, 0, 0, 4, 9],\n",
       " [1, 0, 8, 0, 0, 0, 0, 0, 0, 0, 0, 0, 0],\n",
       " [0, 0, 0, 0, 0, 0, 0, 0, 0, 5, 4, 7, 4],\n",
       " [1, 6, 3, 1, 0, 0, 0, 0, 0, 0, 0, 0, 0],\n",
       " [0, 0, 0, 0, 0, 0, 0, 0, 0, 5, 4, 2, 2],\n",
       " [0, 0, 0, 0, 0, 0, 0, 0, 0, 8, 7, 5, 7],\n",
       " [8, 10, 2, 8, 0, 0, 0, 0, 0, 0, 0, 0, 0],\n",
       " [0, 0, 0, 0, 4, 1, 0, 5, 4, 0, 0, 0, 0],\n",
       " [0, 0, 0, 0, 0, 0, 0, 0, 0, 6, 3, 6, 2],\n",
       " [0, 0, 0, 0, 0, 0, 0, 0, 0, 10, 0, 0, 3],\n",
       " [0, 0, 0, 0, 0, 0, 0, 0, 0, 3, 0, 0, 7],\n",
       " [0, 0, 0, 0, 7, 0, 2, 0, 6, 0, 0, 0, 0],\n",
       " [9, 1, 2, 8, 0, 0, 0, 0, 0, 0, 0, 0, 0],\n",
       " [0, 0, 0, 0, 0, 5, 8, 0, 6, 0, 0, 0, 0],\n",
       " [0, 0, 0, 0, 4, 8, 2, 0, 0, 0, 0, 0, 0],\n",
       " [0, 8, 2, 0, 0, 0, 0, 0, 0, 0, 0, 0, 0],\n",
       " [0, 0, 0, 0, 0, 0, 0, 0, 0, 1, 7, 7, 3],\n",
       " [0, 0, 0, 0, 3, 10, 6, 0, 8, 0, 0, 0, 0],\n",
       " [0, 0, 0, 0, 5, 7, 3, 1, 7, 0, 0, 0, 0],\n",
       " [0, 0, 0, 0, 0, 0, 0, 0, 0, 10, 2, 4, 9],\n",
       " [0, 0, 0, 0, 9, 0, 0, 0, 8, 0, 0, 0, 0],\n",
       " [7, 5, 4, 6, 0, 0, 0, 0, 0, 0, 0, 0, 0],\n",
       " [0, 0, 0, 0, 6, 3, 7, 6, 7, 0, 0, 0, 0],\n",
       " [7, 6, 8, 0, 0, 0, 0, 0, 0, 0, 0, 0, 0],\n",
       " [0, 0, 0, 0, 0, 0, 0, 0, 0, 0, 9, 4, 0],\n",
       " [0, 0, 0, 0, 0, 0, 0, 0, 0, 0, 6, 7, 0],\n",
       " [0, 0, 0, 0, 5, 0, 1, 0, 0, 0, 0, 0, 0],\n",
       " [0, 0, 0, 0, 0, 0, 0, 0, 0, 3, 0, 0, 7],\n",
       " [0, 0, 0, 0, 3, 0, 0, 10, 0, 0, 0, 0, 0],\n",
       " [9, 8, 4, 10, 0, 0, 0, 0, 0, 0, 0, 0, 0],\n",
       " [0, 0, 0, 0, 0, 0, 0, 0, 0, 2, 3, 10, 0],\n",
       " [0, 0, 0, 0, 7, 0, 2, 10, 0, 0, 0, 0, 0],\n",
       " [5, 9, 0, 4, 0, 0, 0, 0, 0, 0, 0, 0, 0],\n",
       " [0, 0, 0, 0, 0, 0, 4, 0, 6, 0, 0, 0, 0],\n",
       " [6, 6, 6, 2, 0, 0, 0, 0, 0, 0, 0, 0, 0],\n",
       " [4, 0, 9, 5, 0, 0, 0, 0, 0, 0, 0, 0, 0],\n",
       " [10, 8, 1, 8, 0, 0, 0, 0, 0, 0, 0, 0, 0],\n",
       " [0, 0, 0, 0, 0, 0, 0, 0, 0, 0, 3, 10, 5],\n",
       " [0, 0, 0, 0, 0, 0, 0, 0, 0, 9, 10, 3, 0],\n",
       " [1, 7, 6, 8, 0, 0, 0, 0, 0, 0, 0, 0, 0],\n",
       " [4, 4, 10, 2, 0, 0, 0, 0, 0, 0, 0, 0, 0],\n",
       " [0, 0, 0, 0, 3, 0, 0, 0, 7, 0, 0, 0, 0],\n",
       " [0, 6, 8, 2, 0, 0, 0, 0, 0, 0, 0, 0, 0],\n",
       " [0, 0, 0, 0, 0, 0, 0, 0, 0, 8, 5, 0, 7],\n",
       " [8, 0, 6, 8, 0, 0, 0, 0, 0, 0, 0, 0, 0],\n",
       " [2, 6, 0, 9, 0, 0, 0, 0, 0, 0, 0, 0, 0],\n",
       " [0, 0, 0, 0, 0, 0, 0, 0, 0, 1, 2, 4, 0],\n",
       " [7, 0, 0, 8, 0, 0, 0, 0, 0, 0, 0, 0, 0],\n",
       " [0, 0, 0, 0, 0, 0, 0, 0, 0, 0, 0, 7, 1],\n",
       " [0, 6, 3, 7, 0, 0, 0, 0, 0, 0, 0, 0, 0],\n",
       " [10, 5, 0, 6, 0, 0, 0, 0, 0, 0, 0, 0, 0],\n",
       " [0, 0, 0, 0, 0, 0, 0, 0, 0, 6, 8, 0, 0],\n",
       " [0, 0, 0, 0, 7, 0, 0, 0, 3, 0, 0, 0, 0],\n",
       " [0, 0, 0, 0, 0, 0, 7, 1, 0, 0, 0, 0, 0],\n",
       " [0, 9, 6, 5, 0, 0, 0, 0, 0, 0, 0, 0, 0],\n",
       " [1, 8, 10, 7, 0, 0, 0, 0, 0, 0, 0, 0, 0],\n",
       " [0, 0, 0, 0, 0, 0, 0, 0, 0, 2, 1, 0, 0],\n",
       " [0, 0, 0, 0, 1, 5, 0, 0, 5, 0, 0, 0, 0],\n",
       " [0, 0, 0, 0, 4, 0, 10, 6, 7, 0, 0, 0, 0],\n",
       " [0, 0, 0, 0, 0, 0, 0, 0, 0, 10, 9, 3, 5],\n",
       " [0, 0, 0, 0, 0, 0, 0, 0, 0, 4, 9, 0, 0],\n",
       " [0, 0, 0, 0, 0, 8, 6, 8, 0, 0, 0, 0, 0],\n",
       " [0, 0, 0, 0, 0, 0, 0, 0, 0, 6, 3, 5, 9],\n",
       " [5, 0, 9, 2, 0, 0, 0, 0, 0, 0, 0, 0, 0],\n",
       " [1, 10, 9, 0, 0, 0, 0, 0, 0, 0, 0, 0, 0],\n",
       " [7, 6, 0, 0, 0, 0, 0, 0, 0, 0, 0, 0, 0],\n",
       " [9, 5, 4, 1, 0, 0, 0, 0, 0, 0, 0, 0, 0],\n",
       " [3, 2, 3, 7, 0, 0, 0, 0, 0, 0, 0, 0, 0],\n",
       " [0, 0, 0, 0, 0, 0, 0, 0, 0, 5, 9, 1, 1],\n",
       " [0, 0, 0, 0, 1, 0, 0, 0, 9, 0, 0, 0, 0],\n",
       " [0, 6, 0, 10, 0, 0, 0, 0, 0, 0, 0, 0, 0],\n",
       " [0, 0, 0, 0, 2, 0, 6, 0, 3, 0, 0, 0, 0],\n",
       " [0, 0, 8, 6, 0, 0, 0, 0, 0, 0, 0, 0, 0],\n",
       " [0, 0, 0, 0, 5, 0, 7, 5, 3, 0, 0, 0, 0],\n",
       " [0, 0, 0, 0, 0, 0, 0, 0, 0, 0, 2, 2, 5],\n",
       " [0, 0, 0, 0, 10, 3, 0, 2, 0, 0, 0, 0, 0],\n",
       " [5, 7, 10, 6, 0, 0, 0, 0, 0, 0, 0, 0, 0],\n",
       " [0, 0, 0, 0, 0, 9, 0, 4, 2, 0, 0, 0, 0],\n",
       " [0, 0, 0, 0, 0, 0, 0, 0, 0, 6, 0, 10, 7],\n",
       " [0, 0, 0, 0, 10, 9, 9, 8, 0, 0, 0, 0, 0],\n",
       " [0, 0, 0, 0, 1, 8, 0, 4, 9, 0, 0, 0, 0],\n",
       " [0, 0, 0, 0, 0, 0, 0, 0, 0, 0, 6, 7, 9],\n",
       " [0, 0, 0, 0, 0, 0, 0, 0, 0, 2, 0, 8, 8],\n",
       " [0, 0, 0, 0, 9, 9, 10, 0, 3, 0, 0, 0, 0],\n",
       " [10, 0, 5, 0, 0, 0, 0, 0, 0, 0, 0, 0, 0],\n",
       " [0, 0, 0, 0, 0, 0, 0, 7, 1, 0, 0, 0, 0],\n",
       " [0, 0, 0, 0, 0, 4, 0, 7, 0, 0, 0, 0, 0],\n",
       " [0, 0, 0, 0, 0, 0, 0, 0, 0, 4, 3, 6, 2],\n",
       " [3, 1, 4, 10, 0, 0, 0, 0, 0, 0, 0, 0, 0],\n",
       " [0, 0, 0, 0, 0, 0, 0, 0, 0, 6, 0, 0, 8],\n",
       " [1, 6, 1, 0, 0, 0, 0, 0, 0, 0, 0, 0, 0],\n",
       " [0, 0, 0, 0, 0, 1, 0, 1, 5, 0, 0, 0, 0],\n",
       " [6, 9, 6, 8, 0, 0, 0, 0, 0, 0, 0, 0, 0],\n",
       " [0, 0, 0, 0, 0, 0, 0, 0, 0, 7, 6, 4, 0],\n",
       " [4, 7, 4, 7, 0, 0, 0, 0, 0, 0, 0, 0, 0],\n",
       " [0, 0, 0, 0, 0, 0, 0, 0, 0, 10, 5, 8, 3],\n",
       " [0, 8, 4, 5, 0, 0, 0, 0, 0, 0, 0, 0, 0],\n",
       " [0, 0, 0, 0, 0, 9, 9, 2, 0, 0, 0, 0, 0],\n",
       " [0, 1, 9, 0, 0, 0, 0, 0, 0, 0, 0, 0, 0],\n",
       " [0, 0, 0, 0, 0, 5, 1, 9, 10, 0, 0, 0, 0],\n",
       " [0, 0, 0, 0, 0, 0, 0, 0, 0, 1, 0, 0, 9],\n",
       " [0, 0, 0, 0, 0, 0, 0, 0, 0, 0, 3, 9, 0],\n",
       " [10, 0, 5, 0, 0, 0, 0, 0, 0, 0, 0, 0, 0],\n",
       " [0, 0, 0, 0, 0, 0, 0, 0, 0, 7, 2, 9, 2],\n",
       " [0, 0, 0, 0, 8, 5, 8, 2, 6, 0, 0, 0, 0],\n",
       " [0, 0, 0, 0, 0, 0, 0, 0, 0, 5, 0, 7, 0],\n",
       " [0, 0, 0, 0, 0, 0, 0, 0, 0, 7, 4, 0, 0],\n",
       " [0, 0, 0, 0, 10, 0, 0, 10, 1, 0, 0, 0, 0],\n",
       " [0, 0, 0, 0, 10, 0, 4, 0, 7, 0, 0, 0, 0],\n",
       " [0, 2, 3, 6, 0, 0, 0, 0, 0, 0, 0, 0, 0],\n",
       " [0, 0, 0, 0, 0, 0, 0, 0, 0, 8, 0, 5, 0],\n",
       " [0, 0, 0, 0, 0, 2, 0, 10, 8, 0, 0, 0, 0],\n",
       " [0, 0, 0, 0, 8, 8, 4, 10, 1, 0, 0, 0, 0],\n",
       " [1, 0, 5, 7, 0, 0, 0, 0, 0, 0, 0, 0, 0],\n",
       " [0, 0, 0, 0, 0, 0, 0, 0, 0, 10, 0, 6, 0],\n",
       " [7, 5, 4, 10, 0, 0, 0, 0, 0, 0, 0, 0, 0],\n",
       " [0, 0, 0, 0, 0, 3, 0, 0, 3, 0, 0, 0, 0],\n",
       " [0, 0, 0, 0, 0, 0, 2, 3, 0, 0, 0, 0, 0],\n",
       " [0, 0, 0, 0, 9, 1, 1, 1, 2, 0, 0, 0, 0],\n",
       " [1, 2, 0, 0, 0, 0, 0, 0, 0, 0, 0, 0, 0],\n",
       " [2, 10, 0, 7, 0, 0, 0, 0, 0, 0, 0, 0, 0],\n",
       " [0, 0, 0, 0, 5, 0, 7, 0, 0, 0, 0, 0, 0],\n",
       " [2, 0, 9, 0, 0, 0, 0, 0, 0, 0, 0, 0, 0],\n",
       " [0, 0, 0, 0, 1, 0, 0, 10, 10, 0, 0, 0, 0],\n",
       " [0, 0, 0, 0, 7, 8, 10, 6, 4, 0, 0, 0, 0],\n",
       " [0, 0, 0, 0, 0, 0, 0, 0, 0, 3, 2, 0, 4],\n",
       " [0, 0, 0, 0, 6, 2, 8, 10, 6, 0, 0, 0, 0],\n",
       " [0, 0, 0, 0, 0, 2, 7, 0, 0, 0, 0, 0, 0],\n",
       " [5, 3, 0, 0, 0, 0, 0, 0, 0, 0, 0, 0, 0],\n",
       " [0, 0, 0, 0, 5, 8, 6, 1, 5, 0, 0, 0, 0],\n",
       " [0, 0, 0, 0, 0, 0, 0, 0, 0, 4, 0, 4, 6],\n",
       " [0, 0, 0, 0, 0, 4, 0, 0, 4, 0, 0, 0, 0],\n",
       " [0, 6, 8, 0, 0, 0, 0, 0, 0, 0, 0, 0, 0],\n",
       " [0, 0, 0, 0, 8, 1, 4, 3, 3, 0, 0, 0, 0],\n",
       " [0, 0, 0, 0, 0, 0, 0, 0, 0, 8, 1, 0, 2],\n",
       " [0, 0, 0, 0, 0, 8, 0, 4, 0, 0, 0, 0, 0],\n",
       " [8, 3, 10, 5, 0, 0, 0, 0, 0, 0, 0, 0, 0],\n",
       " [0, 0, 0, 0, 0, 0, 0, 0, 0, 9, 1, 9, 5],\n",
       " [3, 8, 6, 3, 0, 0, 0, 0, 0, 0, 0, 0, 0],\n",
       " [10, 0, 2, 3, 0, 0, 0, 0, 0, 0, 0, 0, 0],\n",
       " [0, 0, 0, 0, 0, 0, 0, 0, 0, 7, 10, 2, 8],\n",
       " [0, 0, 0, 0, 0, 0, 0, 0, 0, 0, 3, 3, 0],\n",
       " [0, 0, 10, 6, 0, 0, 0, 0, 0, 0, 0, 0, 0],\n",
       " [0, 5, 5, 2, 0, 0, 0, 0, 0, 0, 0, 0, 0],\n",
       " [4, 0, 2, 0, 0, 0, 0, 0, 0, 0, 0, 0, 0],\n",
       " [0, 0, 0, 0, 10, 2, 7, 0, 2, 0, 0, 0, 0],\n",
       " [8, 0, 8, 6, 0, 0, 0, 0, 0, 0, 0, 0, 0],\n",
       " [0, 0, 0, 0, 0, 0, 0, 0, 0, 10, 8, 10, 5],\n",
       " [8, 4, 6, 9, 0, 0, 0, 0, 0, 0, 0, 0, 0],\n",
       " [0, 0, 0, 0, 3, 9, 0, 2, 4, 0, 0, 0, 0],\n",
       " [3, 4, 9, 0, 0, 0, 0, 0, 0, 0, 0, 0, 0],\n",
       " [0, 0, 0, 0, 0, 0, 0, 0, 0, 9, 7, 7, 7],\n",
       " [0, 0, 0, 0, 0, 0, 0, 0, 0, 0, 5, 6, 0],\n",
       " [0, 0, 0, 0, 0, 0, 0, 0, 0, 10, 0, 4, 0],\n",
       " [0, 0, 0, 0, 0, 9, 4, 4, 2, 0, 0, 0, 0],\n",
       " [0, 0, 0, 0, 0, 0, 0, 0, 0, 4, 7, 6, 2],\n",
       " [0, 0, 0, 0, 10, 0, 3, 1, 3, 0, 0, 0, 0],\n",
       " [10, 5, 0, 3, 0, 0, 0, 0, 0, 0, 0, 0, 0],\n",
       " [0, 0, 0, 0, 0, 0, 0, 0, 0, 0, 0, 8, 6],\n",
       " [0, 0, 0, 0, 8, 8, 4, 6, 0, 0, 0, 0, 0],\n",
       " [0, 0, 0, 0, 0, 0, 0, 0, 0, 0, 7, 2, 8],\n",
       " [0, 0, 0, 0, 0, 0, 0, 0, 0, 0, 10, 0, 2],\n",
       " [0, 0, 0, 0, 0, 6, 9, 0, 8, 0, 0, 0, 0],\n",
       " [0, 0, 0, 0, 0, 0, 0, 0, 0, 5, 0, 7, 0],\n",
       " [0, 0, 0, 0, 0, 0, 0, 0, 0, 6, 8, 7, 0],\n",
       " [0, 0, 0, 0, 0, 0, 0, 0, 0, 0, 4, 0, 2],\n",
       " [0, 0, 0, 0, 0, 0, 0, 0, 0, 0, 0, 5, 7],\n",
       " [0, 0, 0, 0, 0, 0, 0, 0, 0, 0, 10, 8, 0],\n",
       " [6, 0, 0, 7, 0, 0, 0, 0, 0, 0, 0, 0, 0],\n",
       " [0, 2, 6, 4, 0, 0, 0, 0, 0, 0, 0, 0, 0],\n",
       " [4, 8, 0, 6, 0, 0, 0, 0, 0, 0, 0, 0, 0],\n",
       " [5, 10, 7, 6, 0, 0, 0, 0, 0, 0, 0, 0, 0],\n",
       " [0, 0, 0, 0, 0, 0, 0, 0, 0, 0, 0, 8, 10],\n",
       " [3, 8, 0, 0, 0, 0, 0, 0, 0, 0, 0, 0, 0],\n",
       " [6, 0, 5, 1, 0, 0, 0, 0, 0, 0, 0, 0, 0],\n",
       " [3, 0, 2, 7, 0, 0, 0, 0, 0, 0, 0, 0, 0],\n",
       " [0, 0, 0, 0, 0, 0, 0, 0, 0, 6, 3, 3, 5],\n",
       " [0, 0, 0, 0, 5, 3, 8, 1, 2, 0, 0, 0, 0],\n",
       " [0, 0, 0, 0, 0, 0, 0, 0, 0, 0, 10, 7, 10],\n",
       " [0, 0, 0, 0, 0, 0, 0, 0, 0, 0, 0, 3, 5],\n",
       " [0, 6, 1, 8, 0, 0, 0, 0, 0, 0, 0, 0, 0],\n",
       " [0, 0, 0, 0, 5, 0, 10, 6, 9, 0, 0, 0, 0],\n",
       " [7, 0, 6, 5, 0, 0, 0, 0, 0, 0, 0, 0, 0],\n",
       " [0, 0, 0, 0, 0, 0, 0, 0, 0, 7, 7, 8, 0],\n",
       " [0, 0, 0, 0, 0, 0, 0, 0, 0, 0, 0, 3, 9],\n",
       " [0, 0, 0, 0, 0, 0, 0, 0, 0, 4, 5, 0, 8],\n",
       " [8, 0, 6, 3, 0, 0, 0, 0, 0, 0, 0, 0, 0],\n",
       " [0, 0, 0, 0, 0, 0, 0, 0, 0, 9, 9, 2, 5],\n",
       " [0, 0, 0, 0, 0, 0, 0, 0, 0, 9, 0, 3, 4],\n",
       " [0, 0, 0, 0, 0, 0, 10, 0, 5, 0, 0, 0, 0],\n",
       " [0, 0, 0, 0, 0, 0, 0, 0, 0, 0, 7, 1, 6],\n",
       " [0, 0, 0, 0, 0, 0, 0, 0, 0, 6, 3, 2, 8],\n",
       " [0, 0, 0, 0, 0, 6, 8, 0, 0, 0, 0, 0, 0],\n",
       " [4, 0, 6, 0, 0, 0, 0, 0, 0, 0, 0, 0, 0],\n",
       " [0, 0, 1, 3, 0, 0, 0, 0, 0, 0, 0, 0, 0],\n",
       " [4, 10, 3, 0, 0, 0, 0, 0, 0, 0, 0, 0, 0],\n",
       " [0, 0, 0, 0, 0, 0, 0, 0, 0, 2, 0, 1, 0],\n",
       " [0, 0, 0, 0, 0, 0, 0, 0, 0, 8, 8, 8, 7],\n",
       " [8, 4, 5, 0, 0, 0, 0, 0, 0, 0, 0, 0, 0],\n",
       " [4, 1, 10, 5, 0, 0, 0, 0, 0, 0, 0, 0, 0],\n",
       " [5, 0, 8, 10, 0, 0, 0, 0, 0, 0, 0, 0, 0],\n",
       " [0, 1, 3, 7, 0, 0, 0, 0, 0, 0, 0, 0, 0],\n",
       " [0, 0, 0, 0, 0, 0, 0, 0, 0, 0, 4, 7, 9],\n",
       " [0, 0, 0, 0, 0, 0, 0, 0, 0, 6, 7, 1, 0],\n",
       " [0, 0, 0, 0, 0, 0, 9, 0, 7, 0, 0, 0, 0],\n",
       " [0, 0, 0, 0, 0, 0, 0, 0, 0, 6, 10, 8, 8],\n",
       " [0, 0, 0, 0, 0, 0, 0, 0, 0, 3, 4, 5, 4],\n",
       " [0, 0, 0, 0, 10, 8, 3, 0, 9, 0, 0, 0, 0],\n",
       " [0, 0, 0, 0, 8, 9, 0, 0, 0, 0, 0, 0, 0],\n",
       " [0, 0, 0, 0, 0, 0, 0, 0, 0, 9, 5, 10, 0],\n",
       " [6, 1, 2, 2, 0, 0, 0, 0, 0, 0, 0, 0, 0],\n",
       " [0, 3, 0, 4, 0, 0, 0, 0, 0, 0, 0, 0, 0],\n",
       " [2, 5, 0, 8, 0, 0, 0, 0, 0, 0, 0, 0, 0],\n",
       " [0, 0, 0, 0, 0, 0, 0, 0, 0, 4, 0, 7, 0],\n",
       " [0, 0, 0, 0, 8, 0, 1, 3, 0, 0, 0, 0, 0],\n",
       " [0, 0, 0, 0, 0, 0, 0, 0, 0, 0, 2, 10, 9],\n",
       " [0, 0, 0, 0, 7, 4, 0, 3, 3, 0, 0, 0, 0],\n",
       " [4, 0, 0, 2, 0, 0, 0, 0, 0, 0, 0, 0, 0],\n",
       " [0, 0, 0, 0, 0, 3, 0, 8, 7, 0, 0, 0, 0],\n",
       " [7, 7, 1, 6, 0, 0, 0, 0, 0, 0, 0, 0, 0],\n",
       " [9, 5, 4, 0, 0, 0, 0, 0, 0, 0, 0, 0, 0],\n",
       " [0, 0, 0, 0, 0, 0, 0, 0, 0, 0, 0, 2, 4],\n",
       " [0, 0, 0, 0, 0, 0, 0, 0, 0, 0, 9, 9, 0],\n",
       " [0, 0, 0, 0, 0, 0, 0, 0, 0, 3, 5, 6, 4],\n",
       " [0, 0, 0, 0, 1, 7, 5, 0, 8, 0, 0, 0, 0],\n",
       " [0, 0, 0, 0, 9, 6, 10, 1, 3, 0, 0, 0, 0],\n",
       " [0, 0, 0, 0, 0, 0, 0, 0, 0, 0, 0, 3, 5],\n",
       " [6, 0, 0, 5, 0, 0, 0, 0, 0, 0, 0, 0, 0],\n",
       " [0, 0, 0, 0, 0, 0, 0, 0, 0, 8, 8, 7, 0],\n",
       " [0, 0, 0, 0, 1, 8, 1, 5, 2, 0, 0, 0, 0],\n",
       " [0, 7, 3, 5, 0, 0, 0, 0, 0, 0, 0, 0, 0],\n",
       " [0, 0, 0, 0, 0, 0, 0, 5, 8, 0, 0, 0, 0],\n",
       " [0, 0, 0, 0, 0, 0, 0, 0, 0, 4, 5, 1, 1],\n",
       " [0, 0, 0, 0, 0, 0, 0, 0, 0, 8, 5, 9, 0],\n",
       " [0, 4, 5, 2, 0, 0, 0, 0, 0, 0, 0, 0, 0],\n",
       " [0, 8, 5, 0, 0, 0, 0, 0, 0, 0, 0, 0, 0],\n",
       " [0, 0, 0, 0, 0, 0, 0, 0, 0, 10, 0, 5, 4],\n",
       " [0, 0, 0, 0, 0, 0, 0, 0, 0, 4, 9, 6, 10],\n",
       " [0, 0, 0, 0, 5, 2, 2, 5, 0, 0, 0, 0, 0],\n",
       " [10, 3, 10, 6, 0, 0, 0, 0, 0, 0, 0, 0, 0],\n",
       " [0, 0, 0, 0, 7, 10, 10, 4, 4, 0, 0, 0, 0],\n",
       " [0, 0, 0, 0, 4, 0, 4, 10, 3, 0, 0, 0, 0],\n",
       " [0, 0, 0, 0, 9, 0, 5, 1, 3, 0, 0, 0, 0],\n",
       " [0, 0, 0, 0, 2, 6, 0, 4, 8, 0, 0, 0, 0],\n",
       " [0, 0, 0, 0, 2, 4, 0, 4, 0, 0, 0, 0, 0],\n",
       " [0, 0, 0, 0, 0, 0, 0, 0, 0, 1, 8, 10, 8],\n",
       " [7, 9, 4, 3, 0, 0, 0, 0, 0, 0, 0, 0, 0],\n",
       " [0, 0, 0, 0, 0, 0, 0, 0, 0, 1, 8, 7, 9],\n",
       " [0, 0, 0, 0, 4, 9, 2, 3, 2, 0, 0, 0, 0]]"
      ]
     },
     "execution_count": 64,
     "metadata": {},
     "output_type": "execute_result"
    }
   ],
   "source": [
    "# To show the list of lists created from above step\n",
    "totalCountList"
   ]
  },
  {
   "cell_type": "markdown",
   "metadata": {},
   "source": [
    "We will use the lstsq function of np.linalg library to solve the set of linear equations and compute the unit prices for all the items served in the restaurant. The function lstsq returns the solution, residual, rank and singular value arrays. Since we need prices for further calculations, we store the array into a variable and use it upcoming steps."
   ]
  },
  {
   "cell_type": "code",
   "execution_count": 65,
   "metadata": {},
   "outputs": [],
   "source": [
    "# Converting the totalCountList into numpy array\n",
    "totalCountArray = np.array(totalCountList)\n",
    "\n",
    "# Converting the orderPriceList into numpy array\n",
    "orderPriceArray = np.array(orderPriceList)\n",
    "\n",
    "# Solving the linear system of equations using lstsq functionality of numpy\n",
    "prices, residuals, rank, singularValues = np.linalg.lstsq(totalCountArray, orderPriceArray, rcond=None)"
   ]
  },
  {
   "cell_type": "markdown",
   "metadata": {},
   "source": [
    "Here, we map each item with it's unit price for further computation."
   ]
  },
  {
   "cell_type": "code",
   "execution_count": 66,
   "metadata": {},
   "outputs": [
    {
     "data": {
      "text/plain": [
       "{'Pancake': 24.25,\n",
       " 'Cereal': 21.0,\n",
       " 'Eggs': 22.0,\n",
       " 'Coffee': 7.5,\n",
       " 'Steak': 45.0,\n",
       " 'Fries': 12.0,\n",
       " 'Salad': 17.2,\n",
       " 'Chicken': 32.0,\n",
       " 'Burger': 31.0,\n",
       " 'Shrimp': 54.0,\n",
       " 'Pasta': 27.5,\n",
       " 'Fish&Chips': 35.0,\n",
       " 'Salmon': 41.0}"
      ]
     },
     "execution_count": 66,
     "metadata": {},
     "output_type": "execute_result"
    }
   ],
   "source": [
    "# Initializing the item price dictionary\n",
    "itemPriceDict = {}\n",
    "\n",
    "# Assigning the item price to item as key\n",
    "for key, value in fullDict.items():\n",
    "    itemPriceDict[value] = round(prices[key],2)\n",
    "\n",
    "# Printing the dictionary to check the assigned values\n",
    "itemPriceDict"
   ]
  },
  {
   "cell_type": "markdown",
   "metadata": {},
   "source": [
    "All the above data generated is based on clean outlier data as it has correct data. So, now we will be fixing the errors in 'order_price' and 'order_items' column for dirty data."
   ]
  },
  {
   "cell_type": "markdown",
   "metadata": {},
   "source": [
    "Below we have created a function which helps us to replace the wrong item with the correct item and it's corresponding quantity. To this function we are passing the list after removing the wrong item, then breakfast, lunch or dinner lists as itemList and also the index, where the error exists. The function in the end returns the corrected version of the list with the correct items."
   ]
  },
  {
   "cell_type": "code",
   "execution_count": 67,
   "metadata": {},
   "outputs": [],
   "source": [
    "def finalOrderItemList(tempList, itemList, index):\n",
    "    sumVal = 0 \n",
    "    for temp in tempList:\n",
    "        itemPattern = re.search(r\"'(.*?)'\", temp)                                 # Search for the item name\n",
    "        itemVal = itemPattern.group(1).strip()\n",
    "        valuePattern = re.search(r\",(.*?)\\)\", temp)                               # Search for the item quantity\n",
    "        numVal = int(valuePattern.group(1).strip())\n",
    "        productValue = 0\n",
    "        productValue = itemPriceDict.get(itemVal) * numVal                        # Calculate price of each item (item value x quantity)\n",
    "        sumVal += productValue                                                    # Calculate the sum of prices of all items\n",
    "    origOrderPrice = dirtyData['order_price'][index]                              # Storing original order price\n",
    "    if round(sumVal, 2) != round(dirtyData['order_price'][index], 2):\n",
    "        diffVal = origOrderPrice - sumVal                                         # Calculating the difference between calculated order price and original order price \n",
    "        for ordItems in itemList:\n",
    "            outputVal = round(diffVal,2) / round(itemPriceDict.get(ordItems),2)\n",
    "            if outputVal.is_integer():                                           # Checking if the value is an integer or not.\n",
    "                outputStr = \"\"                                                   # Initializing empty string to store order items and quantity\n",
    "                outputStr = \"('\" + ordItems + \"', \" + str(int(outputVal)) + \")\"  # Creating a string with the item name and its respective quantity.\n",
    "                tempList.append(outputStr)                                       # Appending the formatted string\n",
    "      \n",
    "    # Returning the final list which contains the correct set of items\n",
    "    return tempList"
   ]
  },
  {
   "cell_type": "code",
   "execution_count": 68,
   "metadata": {},
   "outputs": [
    {
     "name": "stdout",
     "output_type": "stream",
     "text": [
      "The overall entries affected based on order items :  37\n"
     ]
    }
   ],
   "source": [
    "# Setting the index \n",
    "index = 0   \n",
    "\n",
    "# Initializing empty list to store the indexes where we get an error in order items\n",
    "orderItemsErrorList = []\n",
    "\n",
    "# Iterate through each field of order items from outlier data\n",
    "for items in dirtyData['order_items']:\n",
    "    text = re.compile(r\"'(.*?)'\")                                  # Compiling and storing the pattern to extract the items \n",
    "    value = text.findall(items)                                    # Extracting all the instances of that pattern\n",
    "    tempList = []                                                  # Creating an empty list \n",
    "    \n",
    "    # Executing the contents inside the if-elif-else condition based on the order_type\n",
    "    if dirtyData['order_type'][index] == \"Breakfast\":\n",
    "        for each in value:                                         # Iterating through all the items in the extracted list\n",
    "            if each not in breakfastList:                          # Checking if any of the items is not in the breakfast list.\n",
    "                allItems = re.findall('(\\(([^)]+)\\))', items)      # Finding all the patterns matching with the name of each item\n",
    "                for i in range(len(allItems)):\n",
    "                    if each not in allItems[i][0]:\n",
    "                        tempList.append(allItems[i][0])            # Creating a new list only based on the items present in the breakfast list\n",
    "                seperator = ', '      \n",
    "                dirtyData.at[index, 'order_items'] = '[' + seperator.join(finalOrderItemList(tempList, breakfastList, index)) + ']'  # finally putting the values back to its particular index.\n",
    "\n",
    "                orderItemsErrorList.append(index) \n",
    "    # For lunch            \n",
    "    elif dirtyData['order_type'][index] == \"Lunch\":\n",
    "        for each in value:                                         # Iterating through all the items in the extracted list\n",
    "            if each not in lunchList:                              # Checking if any of the items is not in the lunch list.\n",
    "                allItems = re.findall('(\\(([^)]+)\\))', items)      # Finding all the patterns matching with the name of each item\n",
    "                for i in range(len(allItems)):\n",
    "                    if each not in allItems[i][0]:\n",
    "                        tempList.append(allItems[i][0])            # Creating a new list only based on the items present in the lunch list\n",
    "                seperator = ', ' \n",
    "                dirtyData.at[index, 'order_items'] = '[' + seperator.join(finalOrderItemList(tempList, lunchList, index)) + ']'  # finally putting the values back to its particular index.\n",
    "                orderItemsErrorList.append(index)\n",
    "    # For Dinner            \n",
    "    else:\n",
    "        for each in value:                                         # Iterating through all the items in the extracted list\n",
    "            if each not in dinnerList:                             # Checking if any of the items is not in the dinner list.\n",
    "                allItems = re.findall('(\\(([^)]+)\\))', items)      # Finding all the patterns matching with the name of each item\n",
    "                for i in range(len(allItems)):\n",
    "                    if each not in allItems[i][0]:\n",
    "                        tempList.append(allItems[i][0])            # Creating a new list only based on the items present in the dinner list\n",
    "                seperator = ', '  \n",
    "                dirtyData.at[index, 'order_items'] = '[' + seperator.join(finalOrderItemList(tempList, dinnerList, index)) + ']'  # finally putting the values back to its particular index.\n",
    "                orderItemsErrorList.append(index)\n",
    "    index += 1   \n",
    "\n",
    "# Sorting the error list\n",
    "orderItemsErrorList.sort()\n",
    "\n",
    "# Printing total number of wrong entries for order items\n",
    "print('The overall entries affected based on order items : ', len(orderItemsErrorList))"
   ]
  },
  {
   "cell_type": "markdown",
   "metadata": {},
   "source": [
    "In the above segment, we are first extracting out all the items along with its quantity values from the 'order_items' column and then checking if the ordered items are actually a part of their respective order types or not. If the item is not a part of its respective order type then that item along with its quantity is removed from that index.\n",
    "\n",
    "Note: We are removing the invalid items from 'order_items' because it is not a part of that particular 'order_type'."
   ]
  },
  {
   "cell_type": "code",
   "execution_count": 69,
   "metadata": {},
   "outputs": [
    {
     "name": "stdout",
     "output_type": "stream",
     "text": [
      "The overall entries affected based on order price :  37\n"
     ]
    }
   ],
   "source": [
    "# Setting the index \n",
    "index = 0\n",
    "\n",
    "# Initializing empty list to store the indexes where we get an error in order items\n",
    "dirtyOrderPriceErrorList = []\n",
    "\n",
    "# Iterate through each field of order items from outlier data\n",
    "for items in dirtyData['order_items']:\n",
    "    allItems = eval(items)                                      # Converting the row into a list of tuples having the name of the item and its ordered quantity.\n",
    "    sumValue = 0                                                # Setting it to '0' as we will be recalculating for all the rows.\n",
    "\n",
    "    for each in allItems:                                       # Iterating through all the extracted items\n",
    "        productValue = 0\n",
    "        productValue = itemPriceDict.get(each[0]) * int(each[1])     # Multiplying the item quantity with its unit price.\n",
    "        sumValue += productValue                                     # Adding up all the values to get the total order price.\n",
    "        \n",
    "    if round(sumValue, 2) != round(dirtyData['order_price'][index], 2):     # If the order values is not equal to the calculated value then we are correcting the prder price value\n",
    "        dirtyData.at[index, 'order_price'] = sumValue\n",
    "        dirtyOrderPriceErrorList.append(index)   \n",
    "    index += 1\n",
    "\n",
    "# Sorting the error list\n",
    "dirtyOrderPriceErrorList.sort()   \n",
    "    \n",
    "# Printing total number of wrong entries for order price\n",
    "print('The overall entries affected based on order price : ', len(dirtyOrderPriceErrorList))    "
   ]
  },
  {
   "cell_type": "markdown",
   "metadata": {},
   "source": [
    "In the above segment we are simply multiplying the quantity of the items with its unit price, summing them all up and comparing the total value with the 'order_price' value at that particular index. We are rectifying the 'order_price' value based on that."
   ]
  },
  {
   "cell_type": "markdown",
   "metadata": {},
   "source": [
    "### customer_lat and customer_lon\n",
    "\n",
    "customer_lat and customer_lon are fields which represent the latitude and longitude of the customer coming from 'nodes.csv'. We have to make sure that the entries in the dirty data csv file are in synch with the data in nodes file."
   ]
  },
  {
   "cell_type": "code",
   "execution_count": 70,
   "metadata": {},
   "outputs": [
    {
     "data": {
      "text/html": [
       "<div>\n",
       "<style scoped>\n",
       "    .dataframe tbody tr th:only-of-type {\n",
       "        vertical-align: middle;\n",
       "    }\n",
       "\n",
       "    .dataframe tbody tr th {\n",
       "        vertical-align: top;\n",
       "    }\n",
       "\n",
       "    .dataframe thead th {\n",
       "        text-align: right;\n",
       "    }\n",
       "</style>\n",
       "<table border=\"1\" class=\"dataframe\">\n",
       "  <thead>\n",
       "    <tr style=\"text-align: right;\">\n",
       "      <th></th>\n",
       "      <th>node</th>\n",
       "      <th>lat</th>\n",
       "      <th>lon</th>\n",
       "    </tr>\n",
       "  </thead>\n",
       "  <tbody>\n",
       "    <tr>\n",
       "      <th>0</th>\n",
       "      <td>711327755</td>\n",
       "      <td>-37.807675</td>\n",
       "      <td>144.955873</td>\n",
       "    </tr>\n",
       "    <tr>\n",
       "      <th>1</th>\n",
       "      <td>711327756</td>\n",
       "      <td>-37.807094</td>\n",
       "      <td>144.955978</td>\n",
       "    </tr>\n",
       "    <tr>\n",
       "      <th>2</th>\n",
       "      <td>711327759</td>\n",
       "      <td>-37.807301</td>\n",
       "      <td>144.957817</td>\n",
       "    </tr>\n",
       "    <tr>\n",
       "      <th>3</th>\n",
       "      <td>711327760</td>\n",
       "      <td>-37.807885</td>\n",
       "      <td>144.957719</td>\n",
       "    </tr>\n",
       "    <tr>\n",
       "      <th>4</th>\n",
       "      <td>777781264</td>\n",
       "      <td>-37.805221</td>\n",
       "      <td>144.952173</td>\n",
       "    </tr>\n",
       "  </tbody>\n",
       "</table>\n",
       "</div>"
      ],
      "text/plain": [
       "        node        lat         lon\n",
       "0  711327755 -37.807675  144.955873\n",
       "1  711327756 -37.807094  144.955978\n",
       "2  711327759 -37.807301  144.957817\n",
       "3  711327760 -37.807885  144.957719\n",
       "4  777781264 -37.805221  144.952173"
      ]
     },
     "execution_count": 70,
     "metadata": {},
     "output_type": "execute_result"
    }
   ],
   "source": [
    "# Displaying first few rows of nodes dataframe\n",
    "nodes.head()"
   ]
  },
  {
   "cell_type": "code",
   "execution_count": 71,
   "metadata": {},
   "outputs": [
    {
     "data": {
      "text/plain": [
       "lat    -38.110916\n",
       "lon    144.654173\n",
       "dtype: float64"
      ]
     },
     "execution_count": 71,
     "metadata": {},
     "output_type": "execute_result"
    }
   ],
   "source": [
    "# Displaying the minimum values of both latitude and longitude\n",
    "nodes[['lat','lon']].min()"
   ]
  },
  {
   "cell_type": "code",
   "execution_count": 72,
   "metadata": {},
   "outputs": [
    {
     "data": {
      "text/plain": [
       "lat    -37.739636\n",
       "lon    145.046450\n",
       "dtype: float64"
      ]
     },
     "execution_count": 72,
     "metadata": {},
     "output_type": "execute_result"
    }
   ],
   "source": [
    "# Displaying the minimum values of both latitude and longitude\n",
    "nodes[['lat','lon']].max()"
   ]
  },
  {
   "cell_type": "markdown",
   "metadata": {},
   "source": [
    "It seems that the latitude values are close to -37 whereas longitude values are close to 144. The same can be verified by checking the dirty data csv file provided. The below code checks the above mentioned assumption programatically."
   ]
  },
  {
   "cell_type": "code",
   "execution_count": 73,
   "metadata": {},
   "outputs": [
    {
     "name": "stdout",
     "output_type": "stream",
     "text": [
      "The value for latitudes is in negative(close to -37) while the value for longitudes is in positive(above 144).\n"
     ]
    }
   ],
   "source": [
    "# Setting latitude count to 0 \n",
    "latitudeCount = 0\n",
    "\n",
    "for eachLatitude in nodes['lat']:\n",
    "    if eachLatitude < -37:\n",
    "        latitudeCount += 1                # To check as for how many values are less than -37\n",
    "\n",
    "# Setting longitude count to 0        \n",
    "longitudeCount = 0\n",
    "\n",
    "for eachLatitude in nodes['lon']:\n",
    "    if eachLatitude > 144:\n",
    "        longitudeCount += 1               # To check as for how many values are greater than 144\n",
    "\n",
    "# To check if above values match total number of rows in the nodes file\n",
    "if latitudeCount == longitudeCount == len(nodes):\n",
    "    print('The value for latitudes is in negative(close to -37) while the value for longitudes is in positive(above 144).')\n",
    "else:\n",
    "    print('The values for latitudes and longitudes in nodes.csv file are varying!')"
   ]
  },
  {
   "cell_type": "markdown",
   "metadata": {},
   "source": [
    "After having it verified programitically, it seems that the latitude values are close to -37 whereas longitude values are close to 144 throughout the nodes.csv file. Now, let's check for errors in the data entry in the 'customer_lat' and 'customer_lon' columns of dirty data csv file."
   ]
  },
  {
   "cell_type": "code",
   "execution_count": 74,
   "metadata": {},
   "outputs": [
    {
     "name": "stdout",
     "output_type": "stream",
     "text": [
      "Error in latitudes count before fixing customer_lat column :  41\n",
      "Error in longitudes count before fixing customer_lon column :  4\n"
     ]
    }
   ],
   "source": [
    "# Setting latitude count to 0 \n",
    "latitudeCount = 0\n",
    "\n",
    "for eachLatitude in dirtyData['customer_lat']:\n",
    "    if eachLatitude < -37:\n",
    "        latitudeCount += 1                # To check as for how many values are less than -37\n",
    "\n",
    "# Setting longitude count to 0        \n",
    "longitudeCount = 0\n",
    "\n",
    "for eachLatitude in dirtyData['customer_lon']:\n",
    "    if eachLatitude > 144:\n",
    "        longitudeCount += 1               # To check as for how many values are greater than 144\n",
    "\n",
    "# To check the number of wrong entries\n",
    "print('Error in latitudes count before fixing customer_lat column : ', len(dirtyData['customer_lat']) - latitudeCount)\n",
    "print('Error in longitudes count before fixing customer_lon column : ', len(dirtyData['customer_lon']) - longitudeCount)"
   ]
  },
  {
   "cell_type": "markdown",
   "metadata": {},
   "source": [
    "It is evident that there are 41 errors in 'customer_lat' column and 4 errors in 'customer_lon'. We have to fix these before moving onto next step. Below is the code to fix the entries."
   ]
  },
  {
   "cell_type": "code",
   "execution_count": 75,
   "metadata": {},
   "outputs": [
    {
     "name": "stdout",
     "output_type": "stream",
     "text": [
      "The overall entries affected based on customer_lat and customer_lon :  41\n"
     ]
    }
   ],
   "source": [
    "# Storing latitudes and longitudes data into list \n",
    "nodesLatitudes = nodes['lat'].tolist()\n",
    "nodesLongitudes = nodes['lon'].tolist()\n",
    "errorLatLonList = []\n",
    "\n",
    "# Iterate through each latitude and longitude data\n",
    "for i in range(0, len(dirtyData)):\n",
    "    # Check if customer_lat present in nodes latitude list\n",
    "    if dirtyData.at[i, 'customer_lat'] not in nodesLatitudes:\n",
    "        # To check if lat>144 and lon<-37. If true, swap lat and lon values\n",
    "        if float(dirtyData.at[i, 'customer_lat']) > 144 and float(dirtyData.at[i, 'customer_lon']) < -37:\n",
    "            errorLatLonList.append(i)\n",
    "            temp = float(dirtyData.at[i, 'customer_lat'])\n",
    "            dirtyData.at[i, 'customer_lat'] = float(dirtyData.at[i, 'customer_lon'])\n",
    "            dirtyData.at[i, 'customer_lon'] = temp\n",
    "        \n",
    "        # To check if lat>37 and lon>144. If true, lat=-lat\n",
    "        elif float(dirtyData.at[i, 'customer_lat']) > 37 and float(dirtyData.at[i, 'customer_lon']) > 144:\n",
    "            errorLatLonList.append(i)\n",
    "            (dirtyData.at[i, 'customer_lat']) = float(-dirtyData.at[i, 'customer_lat'])\n",
    "\n",
    "# Sorting the error list\n",
    "errorLatLonList.sort()\n",
    "\n",
    "# Printing total number of wrong entries for customer lat and customer lon\n",
    "print('The overall entries affected based on customer_lat and customer_lon : ', len(errorLatLonList)) "
   ]
  },
  {
   "cell_type": "markdown",
   "metadata": {},
   "source": [
    "Now that the fixes are applied, let's check for errors again to make sure no rows are left out."
   ]
  },
  {
   "cell_type": "code",
   "execution_count": 76,
   "metadata": {},
   "outputs": [
    {
     "name": "stdout",
     "output_type": "stream",
     "text": [
      "Error in latitudes count after fixing customer_lat column :  0\n",
      "Error in longitudes count after fixing customer_lon column :  0\n"
     ]
    }
   ],
   "source": [
    "# Setting latitude count to 0 \n",
    "latitudeCount = 0\n",
    "\n",
    "for eachLatitude in dirtyData['customer_lat']:\n",
    "    if eachLatitude < -37:\n",
    "        latitudeCount += 1                # To check as for how many values are less than -37\n",
    "\n",
    "# Setting longitude count to 0        \n",
    "longitudeCount = 0\n",
    "\n",
    "for eachLatitude in dirtyData['customer_lon']:\n",
    "    if eachLatitude > 144:\n",
    "        longitudeCount += 1               # To check as for how many values are greater than 144\n",
    "\n",
    "# To check the number of wrong entries\n",
    "print('Error in latitudes count after fixing customer_lat column : ', len(dirtyData['customer_lat']) - latitudeCount)\n",
    "print('Error in longitudes count after fixing customer_lon column : ', len(dirtyData['customer_lon']) - longitudeCount)"
   ]
  },
  {
   "cell_type": "markdown",
   "metadata": {},
   "source": [
    "### distance_to_customer_KM\n",
    "\n",
    "This field, as done for missing data, represents the shortest distance in KM between the branch and the customer nodes with respect to the nodes and edges input files provided. In order to find the shortest distance, we have used Dijkstra algorithm.\n",
    "\n",
    "To find out the shortest distance, we have to refer to all the datasets (branches, nodes, edges and missing dataset). \n",
    "\n",
    "Since we have already loaded the data into dataframes, we simply apply algorithm to the dataset by manipulating the data we have. Firstly, we create a graph based on the edges data."
   ]
  },
  {
   "cell_type": "code",
   "execution_count": 77,
   "metadata": {},
   "outputs": [],
   "source": [
    "# Merging dirty data and nodes based on latitudes and longtitudes\n",
    "dirtyDataNodes = pd.merge(dirtyData, nodes, how = \"left\", left_on=[\"customer_lat\", \"customer_lon\"], right_on=[\"lat\", \"lon\"])"
   ]
  },
  {
   "cell_type": "code",
   "execution_count": 78,
   "metadata": {},
   "outputs": [
    {
     "data": {
      "text/html": [
       "<div>\n",
       "<style scoped>\n",
       "    .dataframe tbody tr th:only-of-type {\n",
       "        vertical-align: middle;\n",
       "    }\n",
       "\n",
       "    .dataframe tbody tr th {\n",
       "        vertical-align: top;\n",
       "    }\n",
       "\n",
       "    .dataframe thead th {\n",
       "        text-align: right;\n",
       "    }\n",
       "</style>\n",
       "<table border=\"1\" class=\"dataframe\">\n",
       "  <thead>\n",
       "    <tr style=\"text-align: right;\">\n",
       "      <th></th>\n",
       "      <th>order_id</th>\n",
       "      <th>date</th>\n",
       "      <th>time</th>\n",
       "      <th>order_type</th>\n",
       "      <th>branch_code</th>\n",
       "      <th>order_items</th>\n",
       "      <th>order_price</th>\n",
       "      <th>customer_lat</th>\n",
       "      <th>customer_lon</th>\n",
       "      <th>customerHasloyalty?</th>\n",
       "      <th>distance_to_customer_KM</th>\n",
       "      <th>delivery_fee</th>\n",
       "      <th>customer_node</th>\n",
       "    </tr>\n",
       "  </thead>\n",
       "  <tbody>\n",
       "    <tr>\n",
       "      <th>0</th>\n",
       "      <td>ORDB10347</td>\n",
       "      <td>2018-03-28</td>\n",
       "      <td>10:42:15</td>\n",
       "      <td>Breakfast</td>\n",
       "      <td>TP</td>\n",
       "      <td>[('Coffee', 10), ('Pancake', 8)]</td>\n",
       "      <td>269.0</td>\n",
       "      <td>-37.806850</td>\n",
       "      <td>144.959524</td>\n",
       "      <td>0</td>\n",
       "      <td>9.058</td>\n",
       "      <td>11.688684</td>\n",
       "      <td>711357396</td>\n",
       "    </tr>\n",
       "    <tr>\n",
       "      <th>1</th>\n",
       "      <td>ORDC05549</td>\n",
       "      <td>2018-03-21</td>\n",
       "      <td>10:32:06</td>\n",
       "      <td>Breakfast</td>\n",
       "      <td>NS</td>\n",
       "      <td>[('Cereal', 9), ('Pancake', 6)]</td>\n",
       "      <td>334.5</td>\n",
       "      <td>-37.816821</td>\n",
       "      <td>144.961706</td>\n",
       "      <td>0</td>\n",
       "      <td>8.487</td>\n",
       "      <td>14.016510</td>\n",
       "      <td>6167489478</td>\n",
       "    </tr>\n",
       "    <tr>\n",
       "      <th>2</th>\n",
       "      <td>ORDB03896</td>\n",
       "      <td>2018-09-25</td>\n",
       "      <td>16:47:19</td>\n",
       "      <td>Dinner</td>\n",
       "      <td>TP</td>\n",
       "      <td>[('Fish&amp;Chips', 9), ('Shrimp', 7)]</td>\n",
       "      <td>693.0</td>\n",
       "      <td>-37.811080</td>\n",
       "      <td>144.972260</td>\n",
       "      <td>1</td>\n",
       "      <td>8.933</td>\n",
       "      <td>12.970404</td>\n",
       "      <td>589133757</td>\n",
       "    </tr>\n",
       "    <tr>\n",
       "      <th>3</th>\n",
       "      <td>ORDK04115</td>\n",
       "      <td>2018-10-04</td>\n",
       "      <td>17:07:36</td>\n",
       "      <td>Dinner</td>\n",
       "      <td>BK</td>\n",
       "      <td>[('Salmon', 6), ('Fish&amp;Chips', 7)]</td>\n",
       "      <td>491.0</td>\n",
       "      <td>-37.808742</td>\n",
       "      <td>144.942261</td>\n",
       "      <td>0</td>\n",
       "      <td>9.779</td>\n",
       "      <td>16.577056</td>\n",
       "      <td>5301568584</td>\n",
       "    </tr>\n",
       "    <tr>\n",
       "      <th>4</th>\n",
       "      <td>ORDY01721</td>\n",
       "      <td>2018-10-17</td>\n",
       "      <td>17:38:01</td>\n",
       "      <td>Dinner</td>\n",
       "      <td>TP</td>\n",
       "      <td>[('Shrimp', 2), ('Pasta', 10)]</td>\n",
       "      <td>383.0</td>\n",
       "      <td>-37.802861</td>\n",
       "      <td>144.952201</td>\n",
       "      <td>0</td>\n",
       "      <td>9.851</td>\n",
       "      <td>13.576425</td>\n",
       "      <td>282825767</td>\n",
       "    </tr>\n",
       "  </tbody>\n",
       "</table>\n",
       "</div>"
      ],
      "text/plain": [
       "    order_id       date      time order_type branch_code  \\\n",
       "0  ORDB10347 2018-03-28  10:42:15  Breakfast          TP   \n",
       "1  ORDC05549 2018-03-21  10:32:06  Breakfast          NS   \n",
       "2  ORDB03896 2018-09-25  16:47:19     Dinner          TP   \n",
       "3  ORDK04115 2018-10-04  17:07:36     Dinner          BK   \n",
       "4  ORDY01721 2018-10-17  17:38:01     Dinner          TP   \n",
       "\n",
       "                          order_items  order_price  customer_lat  \\\n",
       "0    [('Coffee', 10), ('Pancake', 8)]        269.0    -37.806850   \n",
       "1     [('Cereal', 9), ('Pancake', 6)]        334.5    -37.816821   \n",
       "2  [('Fish&Chips', 9), ('Shrimp', 7)]        693.0    -37.811080   \n",
       "3  [('Salmon', 6), ('Fish&Chips', 7)]        491.0    -37.808742   \n",
       "4      [('Shrimp', 2), ('Pasta', 10)]        383.0    -37.802861   \n",
       "\n",
       "   customer_lon  customerHasloyalty?  distance_to_customer_KM  delivery_fee  \\\n",
       "0    144.959524                    0                    9.058     11.688684   \n",
       "1    144.961706                    0                    8.487     14.016510   \n",
       "2    144.972260                    1                    8.933     12.970404   \n",
       "3    144.942261                    0                    9.779     16.577056   \n",
       "4    144.952201                    0                    9.851     13.576425   \n",
       "\n",
       "   customer_node  \n",
       "0      711357396  \n",
       "1     6167489478  \n",
       "2      589133757  \n",
       "3     5301568584  \n",
       "4      282825767  "
      ]
     },
     "execution_count": 78,
     "metadata": {},
     "output_type": "execute_result"
    }
   ],
   "source": [
    "# Renaming 'node' column to 'customer_node' and dropping undesired columns ('lat' and 'lon')\n",
    "dirtyDataNodes = dirtyDataNodes.rename(columns={'node': 'customer_node'})\n",
    "dirtyDataNodes = dirtyDataNodes.drop([\"lat\", \"lon\"], axis = 1)\n",
    "\n",
    "# Displaying the dataframe\n",
    "dirtyDataNodes.head()"
   ]
  },
  {
   "cell_type": "code",
   "execution_count": 79,
   "metadata": {},
   "outputs": [
    {
     "data": {
      "text/html": [
       "<div>\n",
       "<style scoped>\n",
       "    .dataframe tbody tr th:only-of-type {\n",
       "        vertical-align: middle;\n",
       "    }\n",
       "\n",
       "    .dataframe tbody tr th {\n",
       "        vertical-align: top;\n",
       "    }\n",
       "\n",
       "    .dataframe thead th {\n",
       "        text-align: right;\n",
       "    }\n",
       "</style>\n",
       "<table border=\"1\" class=\"dataframe\">\n",
       "  <thead>\n",
       "    <tr style=\"text-align: right;\">\n",
       "      <th></th>\n",
       "      <th>order_id</th>\n",
       "      <th>date</th>\n",
       "      <th>time</th>\n",
       "      <th>order_type</th>\n",
       "      <th>branch_code</th>\n",
       "      <th>order_items</th>\n",
       "      <th>order_price</th>\n",
       "      <th>customer_lat</th>\n",
       "      <th>customer_lon</th>\n",
       "      <th>customerHasloyalty?</th>\n",
       "      <th>distance_to_customer_KM</th>\n",
       "      <th>delivery_fee</th>\n",
       "      <th>customer_node</th>\n",
       "      <th>branch_node</th>\n",
       "    </tr>\n",
       "  </thead>\n",
       "  <tbody>\n",
       "    <tr>\n",
       "      <th>0</th>\n",
       "      <td>ORDB10347</td>\n",
       "      <td>2018-03-28</td>\n",
       "      <td>10:42:15</td>\n",
       "      <td>Breakfast</td>\n",
       "      <td>TP</td>\n",
       "      <td>[('Coffee', 10), ('Pancake', 8)]</td>\n",
       "      <td>269.0</td>\n",
       "      <td>-37.806850</td>\n",
       "      <td>144.959524</td>\n",
       "      <td>0</td>\n",
       "      <td>9.058</td>\n",
       "      <td>11.688684</td>\n",
       "      <td>711357396</td>\n",
       "      <td>1390575046</td>\n",
       "    </tr>\n",
       "    <tr>\n",
       "      <th>1</th>\n",
       "      <td>ORDC05549</td>\n",
       "      <td>2018-03-21</td>\n",
       "      <td>10:32:06</td>\n",
       "      <td>Breakfast</td>\n",
       "      <td>NS</td>\n",
       "      <td>[('Cereal', 9), ('Pancake', 6)]</td>\n",
       "      <td>334.5</td>\n",
       "      <td>-37.816821</td>\n",
       "      <td>144.961706</td>\n",
       "      <td>0</td>\n",
       "      <td>8.487</td>\n",
       "      <td>14.016510</td>\n",
       "      <td>6167489478</td>\n",
       "      <td>2455254505</td>\n",
       "    </tr>\n",
       "    <tr>\n",
       "      <th>2</th>\n",
       "      <td>ORDB03896</td>\n",
       "      <td>2018-09-25</td>\n",
       "      <td>16:47:19</td>\n",
       "      <td>Dinner</td>\n",
       "      <td>TP</td>\n",
       "      <td>[('Fish&amp;Chips', 9), ('Shrimp', 7)]</td>\n",
       "      <td>693.0</td>\n",
       "      <td>-37.811080</td>\n",
       "      <td>144.972260</td>\n",
       "      <td>1</td>\n",
       "      <td>8.933</td>\n",
       "      <td>12.970404</td>\n",
       "      <td>589133757</td>\n",
       "      <td>1390575046</td>\n",
       "    </tr>\n",
       "    <tr>\n",
       "      <th>3</th>\n",
       "      <td>ORDK04115</td>\n",
       "      <td>2018-10-04</td>\n",
       "      <td>17:07:36</td>\n",
       "      <td>Dinner</td>\n",
       "      <td>BK</td>\n",
       "      <td>[('Salmon', 6), ('Fish&amp;Chips', 7)]</td>\n",
       "      <td>491.0</td>\n",
       "      <td>-37.808742</td>\n",
       "      <td>144.942261</td>\n",
       "      <td>0</td>\n",
       "      <td>9.779</td>\n",
       "      <td>16.577056</td>\n",
       "      <td>5301568584</td>\n",
       "      <td>1889485053</td>\n",
       "    </tr>\n",
       "    <tr>\n",
       "      <th>4</th>\n",
       "      <td>ORDY01721</td>\n",
       "      <td>2018-10-17</td>\n",
       "      <td>17:38:01</td>\n",
       "      <td>Dinner</td>\n",
       "      <td>TP</td>\n",
       "      <td>[('Shrimp', 2), ('Pasta', 10)]</td>\n",
       "      <td>383.0</td>\n",
       "      <td>-37.802861</td>\n",
       "      <td>144.952201</td>\n",
       "      <td>0</td>\n",
       "      <td>9.851</td>\n",
       "      <td>13.576425</td>\n",
       "      <td>282825767</td>\n",
       "      <td>1390575046</td>\n",
       "    </tr>\n",
       "  </tbody>\n",
       "</table>\n",
       "</div>"
      ],
      "text/plain": [
       "    order_id       date      time order_type branch_code  \\\n",
       "0  ORDB10347 2018-03-28  10:42:15  Breakfast          TP   \n",
       "1  ORDC05549 2018-03-21  10:32:06  Breakfast          NS   \n",
       "2  ORDB03896 2018-09-25  16:47:19     Dinner          TP   \n",
       "3  ORDK04115 2018-10-04  17:07:36     Dinner          BK   \n",
       "4  ORDY01721 2018-10-17  17:38:01     Dinner          TP   \n",
       "\n",
       "                          order_items  order_price  customer_lat  \\\n",
       "0    [('Coffee', 10), ('Pancake', 8)]        269.0    -37.806850   \n",
       "1     [('Cereal', 9), ('Pancake', 6)]        334.5    -37.816821   \n",
       "2  [('Fish&Chips', 9), ('Shrimp', 7)]        693.0    -37.811080   \n",
       "3  [('Salmon', 6), ('Fish&Chips', 7)]        491.0    -37.808742   \n",
       "4      [('Shrimp', 2), ('Pasta', 10)]        383.0    -37.802861   \n",
       "\n",
       "   customer_lon  customerHasloyalty?  distance_to_customer_KM  delivery_fee  \\\n",
       "0    144.959524                    0                    9.058     11.688684   \n",
       "1    144.961706                    0                    8.487     14.016510   \n",
       "2    144.972260                    1                    8.933     12.970404   \n",
       "3    144.942261                    0                    9.779     16.577056   \n",
       "4    144.952201                    0                    9.851     13.576425   \n",
       "\n",
       "   customer_node  branch_node  \n",
       "0      711357396   1390575046  \n",
       "1     6167489478   2455254505  \n",
       "2      589133757   1390575046  \n",
       "3     5301568584   1889485053  \n",
       "4      282825767   1390575046  "
      ]
     },
     "execution_count": 79,
     "metadata": {},
     "output_type": "execute_result"
    }
   ],
   "source": [
    "# Merging dirty data with nodes and branches with nodes based on branch code\n",
    "mergedData = pd.merge(dirtyDataNodes, branchesNodes, how = \"left\", on=[\"branch_code\"])\n",
    "\n",
    "# Displaying the dataframe\n",
    "mergedData.head()"
   ]
  },
  {
   "cell_type": "markdown",
   "metadata": {},
   "source": [
    "We use the same method as used before, in missing data, to calculate the 'distance_to_customer_KM' value.\n",
    "\n",
    "We also check for the number of wrong entries in the distance column and make sure that the wrong entries and corrected using the shortest distance algorithm. Below is the code for the same."
   ]
  },
  {
   "cell_type": "code",
   "execution_count": 80,
   "metadata": {},
   "outputs": [
    {
     "name": "stdout",
     "output_type": "stream",
     "text": [
      "The number of entries corrected in distance column :  37\n"
     ]
    }
   ],
   "source": [
    "# To check the number of wrong entries in distance column\n",
    "errorDistanceList = []\n",
    "\n",
    "# Iterate through each field in mergedData dataframe\n",
    "for index, row in mergedData.iterrows():\n",
    "    distance = nx.shortest_path_length(graph,source = row['branch_node'],target = row['customer_node'], weight='distance(m)')\n",
    "    distance = distance/1000\n",
    "    # Increasing the eror count and correcting the distance\n",
    "    if round(distance,3) != round(row['distance_to_customer_KM'],3):\n",
    "        errorDistanceList.append(index)\n",
    "        mergedData.loc[index,'distance_to_customer_KM'] = distance\n",
    "\n",
    "# Sorting the error list\n",
    "errorDistanceList.sort()\n",
    "\n",
    "# Printing the number of corrected entries in distance column\n",
    "print('The number of entries corrected in distance column : ', len(errorDistanceList))    "
   ]
  },
  {
   "cell_type": "markdown",
   "metadata": {},
   "source": [
    "It can be seen from the above result that there were 37 rows with wrong distance information."
   ]
  },
  {
   "cell_type": "code",
   "execution_count": 81,
   "metadata": {},
   "outputs": [
    {
     "data": {
      "text/html": [
       "<div>\n",
       "<style scoped>\n",
       "    .dataframe tbody tr th:only-of-type {\n",
       "        vertical-align: middle;\n",
       "    }\n",
       "\n",
       "    .dataframe tbody tr th {\n",
       "        vertical-align: top;\n",
       "    }\n",
       "\n",
       "    .dataframe thead th {\n",
       "        text-align: right;\n",
       "    }\n",
       "</style>\n",
       "<table border=\"1\" class=\"dataframe\">\n",
       "  <thead>\n",
       "    <tr style=\"text-align: right;\">\n",
       "      <th></th>\n",
       "      <th>order_id</th>\n",
       "      <th>date</th>\n",
       "      <th>time</th>\n",
       "      <th>order_type</th>\n",
       "      <th>branch_code</th>\n",
       "      <th>order_items</th>\n",
       "      <th>order_price</th>\n",
       "      <th>customer_lat</th>\n",
       "      <th>customer_lon</th>\n",
       "      <th>customerHasloyalty?</th>\n",
       "      <th>distance_to_customer_KM</th>\n",
       "      <th>delivery_fee</th>\n",
       "    </tr>\n",
       "  </thead>\n",
       "  <tbody>\n",
       "    <tr>\n",
       "      <th>0</th>\n",
       "      <td>ORDB10347</td>\n",
       "      <td>2018-03-28</td>\n",
       "      <td>10:42:15</td>\n",
       "      <td>Breakfast</td>\n",
       "      <td>TP</td>\n",
       "      <td>[('Coffee', 10), ('Pancake', 8)]</td>\n",
       "      <td>269.0</td>\n",
       "      <td>-37.806850</td>\n",
       "      <td>144.959524</td>\n",
       "      <td>0</td>\n",
       "      <td>9.058</td>\n",
       "      <td>11.688684</td>\n",
       "    </tr>\n",
       "    <tr>\n",
       "      <th>1</th>\n",
       "      <td>ORDC05549</td>\n",
       "      <td>2018-03-21</td>\n",
       "      <td>10:32:06</td>\n",
       "      <td>Breakfast</td>\n",
       "      <td>NS</td>\n",
       "      <td>[('Cereal', 9), ('Pancake', 6)]</td>\n",
       "      <td>334.5</td>\n",
       "      <td>-37.816821</td>\n",
       "      <td>144.961706</td>\n",
       "      <td>0</td>\n",
       "      <td>8.487</td>\n",
       "      <td>14.016510</td>\n",
       "    </tr>\n",
       "    <tr>\n",
       "      <th>2</th>\n",
       "      <td>ORDB03896</td>\n",
       "      <td>2018-09-25</td>\n",
       "      <td>16:47:19</td>\n",
       "      <td>Dinner</td>\n",
       "      <td>TP</td>\n",
       "      <td>[('Fish&amp;Chips', 9), ('Shrimp', 7)]</td>\n",
       "      <td>693.0</td>\n",
       "      <td>-37.811080</td>\n",
       "      <td>144.972260</td>\n",
       "      <td>1</td>\n",
       "      <td>8.933</td>\n",
       "      <td>12.970404</td>\n",
       "    </tr>\n",
       "    <tr>\n",
       "      <th>3</th>\n",
       "      <td>ORDK04115</td>\n",
       "      <td>2018-10-04</td>\n",
       "      <td>17:07:36</td>\n",
       "      <td>Dinner</td>\n",
       "      <td>BK</td>\n",
       "      <td>[('Salmon', 6), ('Fish&amp;Chips', 7)]</td>\n",
       "      <td>491.0</td>\n",
       "      <td>-37.808742</td>\n",
       "      <td>144.942261</td>\n",
       "      <td>0</td>\n",
       "      <td>9.779</td>\n",
       "      <td>16.577056</td>\n",
       "    </tr>\n",
       "    <tr>\n",
       "      <th>4</th>\n",
       "      <td>ORDY01721</td>\n",
       "      <td>2018-10-17</td>\n",
       "      <td>17:38:01</td>\n",
       "      <td>Dinner</td>\n",
       "      <td>TP</td>\n",
       "      <td>[('Shrimp', 2), ('Pasta', 10)]</td>\n",
       "      <td>383.0</td>\n",
       "      <td>-37.802861</td>\n",
       "      <td>144.952201</td>\n",
       "      <td>0</td>\n",
       "      <td>9.851</td>\n",
       "      <td>13.576425</td>\n",
       "    </tr>\n",
       "  </tbody>\n",
       "</table>\n",
       "</div>"
      ],
      "text/plain": [
       "    order_id       date      time order_type branch_code  \\\n",
       "0  ORDB10347 2018-03-28  10:42:15  Breakfast          TP   \n",
       "1  ORDC05549 2018-03-21  10:32:06  Breakfast          NS   \n",
       "2  ORDB03896 2018-09-25  16:47:19     Dinner          TP   \n",
       "3  ORDK04115 2018-10-04  17:07:36     Dinner          BK   \n",
       "4  ORDY01721 2018-10-17  17:38:01     Dinner          TP   \n",
       "\n",
       "                          order_items  order_price  customer_lat  \\\n",
       "0    [('Coffee', 10), ('Pancake', 8)]        269.0    -37.806850   \n",
       "1     [('Cereal', 9), ('Pancake', 6)]        334.5    -37.816821   \n",
       "2  [('Fish&Chips', 9), ('Shrimp', 7)]        693.0    -37.811080   \n",
       "3  [('Salmon', 6), ('Fish&Chips', 7)]        491.0    -37.808742   \n",
       "4      [('Shrimp', 2), ('Pasta', 10)]        383.0    -37.802861   \n",
       "\n",
       "   customer_lon  customerHasloyalty?  distance_to_customer_KM  delivery_fee  \n",
       "0    144.959524                    0                    9.058     11.688684  \n",
       "1    144.961706                    0                    8.487     14.016510  \n",
       "2    144.972260                    1                    8.933     12.970404  \n",
       "3    144.942261                    0                    9.779     16.577056  \n",
       "4    144.952201                    0                    9.851     13.576425  "
      ]
     },
     "execution_count": 81,
     "metadata": {},
     "output_type": "execute_result"
    }
   ],
   "source": [
    "# Restoring the dataframe to original columns with correct data\n",
    "dirtyDataSolution = mergedData\n",
    "dirtyDataSolution = dirtyDataSolution.drop([\"customer_node\", \"branch_node\"], axis =1)\n",
    "\n",
    "# Displaying the dataframe\n",
    "dirtyDataSolution.head()"
   ]
  },
  {
   "cell_type": "code",
   "execution_count": 82,
   "metadata": {},
   "outputs": [
    {
     "name": "stdout",
     "output_type": "stream",
     "text": [
      "Total Index Error List :  [0, 1, 4, 5, 8, 13, 14, 19, 22, 27, 29, 31, 32, 33, 36, 38, 40, 43, 46, 48, 50, 51, 52, 53, 54, 57, 58, 60, 63, 65, 66, 67, 69, 71, 75, 77, 78, 80, 81, 82, 83, 85, 87, 89, 90, 93, 95, 97, 98, 99, 101, 102, 103, 104, 106, 109, 110, 111, 113, 115, 117, 120, 121, 128, 129, 130, 132, 134, 135, 137, 139, 142, 144, 146, 148, 149, 152, 154, 155, 157, 158, 160, 162, 163, 166, 170, 171, 173, 174, 175, 177, 178, 179, 183, 184, 186, 187, 191, 193, 197, 198, 199, 200, 202, 204, 205, 206, 207, 208, 209, 210, 211, 213, 214, 217, 221, 222, 223, 224, 225, 229, 233, 234, 236, 237, 238, 244, 245, 246, 247, 249, 250, 253, 255, 256, 258, 259, 260, 262, 263, 264, 265, 266, 267, 269, 270, 272, 276, 277, 278, 279, 280, 281, 282, 283, 285, 286, 287, 288, 290, 293, 299, 301, 302, 305, 306, 307, 310, 313, 316, 318, 319, 322, 323, 327, 328, 329, 330, 332, 333, 338, 339, 340, 341, 345, 347, 348, 350, 351, 352, 353, 357, 358, 359, 362, 365, 366, 367, 368, 369, 372, 373, 376, 377, 378, 379, 381, 383, 385, 386, 388, 389, 390, 391, 392, 395, 396, 398, 403, 408, 409, 410, 411, 412, 413, 414, 416, 418, 419, 422, 423, 426, 428, 431, 435, 436, 437, 441, 442, 444, 448, 449, 450, 454, 455, 457, 459, 460, 467, 468, 472, 474, 478, 479, 480, 481, 482, 486, 487, 491, 496, 497, 498]\n",
      "\n",
      "Total Index Error List Length :  263\n"
     ]
    }
   ],
   "source": [
    "# Initializing empty list to store values from all error lists\n",
    "totalIndexList = []\n",
    "\n",
    "# Extending the total index list\n",
    "totalIndexList.extend(dateErrorList)\n",
    "totalIndexList.extend(orderTypeErrorList)\n",
    "totalIndexList.extend(branchErrorList)\n",
    "totalIndexList.extend(orderItemsErrorList)\n",
    "totalIndexList.extend(dirtyOrderPriceErrorList)\n",
    "totalIndexList.extend(errorLatLonList)\n",
    "totalIndexList.extend(errorDistanceList)\n",
    "\n",
    "# Sorting the list\n",
    "totalIndexList.sort()\n",
    "\n",
    "# Printing the total index list\n",
    "print('Total Index Error List : ', totalIndexList)\n",
    "\n",
    "print()\n",
    "\n",
    "# Printing the length of total index list\n",
    "print('Total Index Error List Length : ', len(totalIndexList))"
   ]
  },
  {
   "cell_type": "markdown",
   "metadata": {},
   "source": [
    "### customerHasloyalty?\n",
    "\n",
    "This field, has binary values of `0` or `1` which tells us whether a customer has loyalty benifits or not, with `1` being Yes.\n",
    "\n",
    "So, we are trying to predict the value for this field using the concept of Logistic regression, since it can be used to predict the categorical values. And we are predicting only for the rows where no change has occurred before with respect to any of the other columns."
   ]
  },
  {
   "cell_type": "code",
   "execution_count": 83,
   "metadata": {},
   "outputs": [],
   "source": [
    "# Segregating based on branch code\n",
    "NSDirty = dirtyDataSolution.loc[dirtyDataSolution['branch_code'] == 'NS']\n",
    "BKDirty = dirtyDataSolution.loc[dirtyDataSolution['branch_code'] == 'BK']\n",
    "TPDirty = dirtyDataSolution.loc[dirtyDataSolution['branch_code'] == 'TP']"
   ]
  },
  {
   "cell_type": "code",
   "execution_count": 84,
   "metadata": {},
   "outputs": [],
   "source": [
    "# Creating cleaned dataframe for NS \n",
    "cleanedNS = pd.DataFrame()\n",
    "cleanedNS = pd.DataFrame(columns=NSDirty.columns)\n",
    "\n",
    "# Creating uncleaned dataframe for NS\n",
    "uncleanedNS = pd.DataFrame()\n",
    "uncleanedNS = pd.DataFrame(columns=NSDirty.columns)\n",
    "\n",
    "# Extracting cleaned and uncleaned data into respective df\n",
    "for index, row in NSDirty.iterrows():\n",
    "    if index in totalIndexList:\n",
    "        cleanedNS = cleanedNS.append(row)\n",
    "    else:\n",
    "        uncleanedNS = uncleanedNS.append(row)\n",
    "\n",
    "        \n",
    "        \n",
    "# Creating cleaned dataframe for BK \n",
    "cleanedBK = pd.DataFrame()\n",
    "cleanedBK = pd.DataFrame(columns=BKDirty.columns)\n",
    "\n",
    "# Creating uncleaned dataframe for BK\n",
    "uncleanedBK = pd.DataFrame()\n",
    "uncleanedBK = pd.DataFrame(columns=BKDirty.columns)\n",
    "\n",
    "# Extracting cleaned and uncleaned data into respective df\n",
    "for index, row in BKDirty.iterrows():\n",
    "    if index in totalIndexList:\n",
    "        cleanedBK = cleanedBK.append(row)\n",
    "    else:\n",
    "        uncleanedBK = uncleanedBK.append(row)\n",
    "        \n",
    "        \n",
    "# Creating cleaned dataframe for TP\n",
    "cleanedTP = pd.DataFrame()\n",
    "cleanedTP = pd.DataFrame(columns=TPDirty.columns)\n",
    "\n",
    "# Creating uncleaned dataframe for TP\n",
    "uncleanedTP = pd.DataFrame()\n",
    "uncleanedTP = pd.DataFrame(columns=TPDirty.columns)\n",
    "\n",
    "# Extracting cleaned and uncleaned data into respective df\n",
    "for index, row in TPDirty.iterrows():\n",
    "    if index in totalIndexList:\n",
    "        cleanedTP = cleanedTP.append(row)\n",
    "    else:\n",
    "        uncleanedTP = uncleanedTP.append(row)      "
   ]
  },
  {
   "cell_type": "markdown",
   "metadata": {},
   "source": [
    "We now train the model with the segregated data points. As we know `delivery_fee` is linearly dependent on `customerHasloyalty?` . Hence, we feed `delivery_fee` as features and `customerHasloyalty?` as labels to the logistic model in order to predict its `customerHasloyalty?`. "
   ]
  },
  {
   "cell_type": "code",
   "execution_count": 85,
   "metadata": {},
   "outputs": [],
   "source": [
    "# Creating a model for NS \n",
    "logRegNS = LogisticRegression()\n",
    "\n",
    "# Setting features, labels and test features\n",
    "featuresNS = cleanedNS[['delivery_fee']]\n",
    "labelsNS = cleanedNS[['customerHasloyalty?']].astype('int')\n",
    "testFeaturesNS = uncleanedNS[['delivery_fee']]\n",
    "\n",
    "\n",
    "# Creating a model for BK\n",
    "logRegBK = LogisticRegression()\n",
    "\n",
    "# Setting features, labels and test features\n",
    "featuresBK = cleanedBK[['delivery_fee']]\n",
    "labelsBK = cleanedBK[['customerHasloyalty?']].astype('int')\n",
    "testFeaturesBK = uncleanedBK[['delivery_fee']]\n",
    "\n",
    "\n",
    "# Creating a model for NS \n",
    "logRegTP = LogisticRegression()\n",
    "\n",
    "# Setting features, labels and test features\n",
    "featuresTP = cleanedTP[['delivery_fee']]\n",
    "labelsTP = cleanedTP[['customerHasloyalty?']].astype('int')\n",
    "testFeaturesTP = uncleanedTP[['delivery_fee']]"
   ]
  },
  {
   "cell_type": "markdown",
   "metadata": {},
   "source": [
    "Before predicting the data directly, we have to fit the model with the relevant data and then check for the score (r squared value). This score represents how well the data is fit to the model used - higher the value, better the fit. However, high value doesn't always mean that the fit is prefect. If we see high r squared value, it may also mean that the prediction is in line with the current datapoints but we might see variance for a new data points taken from the same sample which have different range from that of the previous datapoints used. Hence, too low or too high r-squared values are also not good for the model."
   ]
  },
  {
   "cell_type": "code",
   "execution_count": 86,
   "metadata": {},
   "outputs": [
    {
     "name": "stdout",
     "output_type": "stream",
     "text": [
      "R squared value for data with branch code NS =  0.9651162790697675\n",
      "R squared value for data with branch code BK =  0.9111111111111111\n",
      "R squared value for data with branch code TP =  0.9195402298850575\n"
     ]
    },
    {
     "name": "stderr",
     "output_type": "stream",
     "text": [
      "C:\\Users\\Admin\\Anaconda3\\lib\\site-packages\\sklearn\\linear_model\\logistic.py:433: FutureWarning: Default solver will be changed to 'lbfgs' in 0.22. Specify a solver to silence this warning.\n",
      "  FutureWarning)\n",
      "C:\\Users\\Admin\\Anaconda3\\lib\\site-packages\\sklearn\\utils\\validation.py:761: DataConversionWarning: A column-vector y was passed when a 1d array was expected. Please change the shape of y to (n_samples, ), for example using ravel().\n",
      "  y = column_or_1d(y, warn=True)\n",
      "C:\\Users\\Admin\\Anaconda3\\lib\\site-packages\\sklearn\\linear_model\\logistic.py:433: FutureWarning: Default solver will be changed to 'lbfgs' in 0.22. Specify a solver to silence this warning.\n",
      "  FutureWarning)\n",
      "C:\\Users\\Admin\\Anaconda3\\lib\\site-packages\\sklearn\\utils\\validation.py:761: DataConversionWarning: A column-vector y was passed when a 1d array was expected. Please change the shape of y to (n_samples, ), for example using ravel().\n",
      "  y = column_or_1d(y, warn=True)\n",
      "C:\\Users\\Admin\\Anaconda3\\lib\\site-packages\\sklearn\\linear_model\\logistic.py:433: FutureWarning: Default solver will be changed to 'lbfgs' in 0.22. Specify a solver to silence this warning.\n",
      "  FutureWarning)\n",
      "C:\\Users\\Admin\\Anaconda3\\lib\\site-packages\\sklearn\\utils\\validation.py:761: DataConversionWarning: A column-vector y was passed when a 1d array was expected. Please change the shape of y to (n_samples, ), for example using ravel().\n",
      "  y = column_or_1d(y, warn=True)\n"
     ]
    }
   ],
   "source": [
    "# Training the model for NS \n",
    "logRegNS = logRegNS.fit(featuresNS, labelsNS)\n",
    "print('R squared value for data with branch code NS = ', logRegNS.score(featuresNS, labelsNS))\n",
    "\n",
    "# Training the model for BK\n",
    "logRegBK = logRegBK.fit(featuresBK, labelsBK)\n",
    "print('R squared value for data with branch code BK = ', logRegBK.score(featuresBK, labelsBK))\n",
    "\n",
    "# Training the model for NS \n",
    "logRegTP = logRegTP.fit(featuresTP, labelsTP)\n",
    "print('R squared value for data with branch code TP = ', logRegTP.score(featuresTP, labelsTP))"
   ]
  },
  {
   "cell_type": "markdown",
   "metadata": {},
   "source": [
    "As we see that the r squared values are pretty high enough to consider for this model, we proceed with the prediction and impute the dirty values."
   ]
  },
  {
   "cell_type": "code",
   "execution_count": 87,
   "metadata": {},
   "outputs": [],
   "source": [
    "# Predicting customerHasloyalty values for NS\n",
    "uncleanedNS['predicted'] = logRegNS.predict(testFeaturesNS)\n",
    "\n",
    "# Predicting customerHasloyalty values for BK\n",
    "uncleanedBK['predicted'] = logRegBK.predict(testFeaturesBK)\n",
    "\n",
    "# Predicting customerHasloyalty values for TP\n",
    "uncleanedTP['predicted'] = logRegTP.predict(testFeaturesTP)\n",
    "\n",
    "# Setting actual values as predicted values for NS\n",
    "cleanedNS['predicted'] = cleanedNS['customerHasloyalty?']\n",
    "\n",
    "# Setting actual values as predicted values for BK\n",
    "cleanedBK['predicted'] = cleanedBK['customerHasloyalty?']\n",
    "\n",
    "# Setting actual values as predicted values for TP\n",
    "cleanedTP['predicted'] = cleanedTP['customerHasloyalty?']"
   ]
  },
  {
   "cell_type": "code",
   "execution_count": 88,
   "metadata": {},
   "outputs": [],
   "source": [
    "# Combining the data based on each branch\n",
    "dataNS = cleanedNS.append(uncleanedNS, ignore_index=False)\n",
    "dataBK = cleanedBK.append(uncleanedBK, ignore_index=False)\n",
    "dataTP = cleanedTP.append(uncleanedTP, ignore_index=False)\n",
    "\n",
    "# Combining the data points for all the branches and creating one dataframe\n",
    "dataNSBK = dataNS.append(dataBK, ignore_index=False)\n",
    "dirtyDataSolution = dataNSBK.append(dataTP, ignore_index=False)\n",
    "\n",
    "# Sorting the index\n",
    "dirtyDataSolution = dirtyDataSolution.sort_index()"
   ]
  },
  {
   "cell_type": "markdown",
   "metadata": {},
   "source": [
    "Finally we are setting the values back to its orginal index."
   ]
  },
  {
   "cell_type": "code",
   "execution_count": 89,
   "metadata": {},
   "outputs": [],
   "source": [
    "# Creating error list \n",
    "custLoyaltyErrorList = []\n",
    "\n",
    "# To store indices of incorrect data\n",
    "for index, row in dirtyDataSolution.iterrows():\n",
    "    if row['customerHasloyalty?'] != row['predicted']:\n",
    "        custLoyaltyErrorList.append(index)"
   ]
  },
  {
   "cell_type": "code",
   "execution_count": 90,
   "metadata": {},
   "outputs": [],
   "source": [
    "# Dropping the unrequired data columns\n",
    "dirtyDataSolution = dirtyDataSolution.drop(columns=['predicted'])"
   ]
  },
  {
   "cell_type": "code",
   "execution_count": 91,
   "metadata": {},
   "outputs": [
    {
     "data": {
      "text/html": [
       "<div>\n",
       "<style scoped>\n",
       "    .dataframe tbody tr th:only-of-type {\n",
       "        vertical-align: middle;\n",
       "    }\n",
       "\n",
       "    .dataframe tbody tr th {\n",
       "        vertical-align: top;\n",
       "    }\n",
       "\n",
       "    .dataframe thead th {\n",
       "        text-align: right;\n",
       "    }\n",
       "</style>\n",
       "<table border=\"1\" class=\"dataframe\">\n",
       "  <thead>\n",
       "    <tr style=\"text-align: right;\">\n",
       "      <th></th>\n",
       "      <th>order_id</th>\n",
       "      <th>date</th>\n",
       "      <th>time</th>\n",
       "      <th>order_type</th>\n",
       "      <th>branch_code</th>\n",
       "      <th>order_items</th>\n",
       "      <th>order_price</th>\n",
       "      <th>customer_lat</th>\n",
       "      <th>customer_lon</th>\n",
       "      <th>customerHasloyalty?</th>\n",
       "      <th>distance_to_customer_KM</th>\n",
       "      <th>delivery_fee</th>\n",
       "    </tr>\n",
       "  </thead>\n",
       "  <tbody>\n",
       "    <tr>\n",
       "      <th>0</th>\n",
       "      <td>ORDB10347</td>\n",
       "      <td>2018-03-28</td>\n",
       "      <td>10:42:15</td>\n",
       "      <td>Breakfast</td>\n",
       "      <td>TP</td>\n",
       "      <td>[('Coffee', 10), ('Pancake', 8)]</td>\n",
       "      <td>269.0</td>\n",
       "      <td>-37.806850</td>\n",
       "      <td>144.959524</td>\n",
       "      <td>0</td>\n",
       "      <td>9.058</td>\n",
       "      <td>11.688684</td>\n",
       "    </tr>\n",
       "    <tr>\n",
       "      <th>1</th>\n",
       "      <td>ORDC05549</td>\n",
       "      <td>2018-03-21</td>\n",
       "      <td>10:32:06</td>\n",
       "      <td>Breakfast</td>\n",
       "      <td>NS</td>\n",
       "      <td>[('Cereal', 9), ('Pancake', 6)]</td>\n",
       "      <td>334.5</td>\n",
       "      <td>-37.816821</td>\n",
       "      <td>144.961706</td>\n",
       "      <td>0</td>\n",
       "      <td>8.487</td>\n",
       "      <td>14.016510</td>\n",
       "    </tr>\n",
       "    <tr>\n",
       "      <th>2</th>\n",
       "      <td>ORDB03896</td>\n",
       "      <td>2018-09-25</td>\n",
       "      <td>16:47:19</td>\n",
       "      <td>Dinner</td>\n",
       "      <td>TP</td>\n",
       "      <td>[('Fish&amp;Chips', 9), ('Shrimp', 7)]</td>\n",
       "      <td>693.0</td>\n",
       "      <td>-37.811080</td>\n",
       "      <td>144.972260</td>\n",
       "      <td>1</td>\n",
       "      <td>8.933</td>\n",
       "      <td>12.970404</td>\n",
       "    </tr>\n",
       "    <tr>\n",
       "      <th>3</th>\n",
       "      <td>ORDK04115</td>\n",
       "      <td>2018-10-04</td>\n",
       "      <td>17:07:36</td>\n",
       "      <td>Dinner</td>\n",
       "      <td>BK</td>\n",
       "      <td>[('Salmon', 6), ('Fish&amp;Chips', 7)]</td>\n",
       "      <td>491.0</td>\n",
       "      <td>-37.808742</td>\n",
       "      <td>144.942261</td>\n",
       "      <td>0</td>\n",
       "      <td>9.779</td>\n",
       "      <td>16.577056</td>\n",
       "    </tr>\n",
       "    <tr>\n",
       "      <th>4</th>\n",
       "      <td>ORDY01721</td>\n",
       "      <td>2018-10-17</td>\n",
       "      <td>17:38:01</td>\n",
       "      <td>Dinner</td>\n",
       "      <td>TP</td>\n",
       "      <td>[('Shrimp', 2), ('Pasta', 10)]</td>\n",
       "      <td>383.0</td>\n",
       "      <td>-37.802861</td>\n",
       "      <td>144.952201</td>\n",
       "      <td>0</td>\n",
       "      <td>9.851</td>\n",
       "      <td>13.576425</td>\n",
       "    </tr>\n",
       "  </tbody>\n",
       "</table>\n",
       "</div>"
      ],
      "text/plain": [
       "    order_id       date      time order_type branch_code  \\\n",
       "0  ORDB10347 2018-03-28  10:42:15  Breakfast          TP   \n",
       "1  ORDC05549 2018-03-21  10:32:06  Breakfast          NS   \n",
       "2  ORDB03896 2018-09-25  16:47:19     Dinner          TP   \n",
       "3  ORDK04115 2018-10-04  17:07:36     Dinner          BK   \n",
       "4  ORDY01721 2018-10-17  17:38:01     Dinner          TP   \n",
       "\n",
       "                          order_items  order_price  customer_lat  \\\n",
       "0    [('Coffee', 10), ('Pancake', 8)]        269.0    -37.806850   \n",
       "1     [('Cereal', 9), ('Pancake', 6)]        334.5    -37.816821   \n",
       "2  [('Fish&Chips', 9), ('Shrimp', 7)]        693.0    -37.811080   \n",
       "3  [('Salmon', 6), ('Fish&Chips', 7)]        491.0    -37.808742   \n",
       "4      [('Shrimp', 2), ('Pasta', 10)]        383.0    -37.802861   \n",
       "\n",
       "   customer_lon customerHasloyalty?  distance_to_customer_KM  delivery_fee  \n",
       "0    144.959524                   0                    9.058     11.688684  \n",
       "1    144.961706                   0                    8.487     14.016510  \n",
       "2    144.972260                   1                    8.933     12.970404  \n",
       "3    144.942261                   0                    9.779     16.577056  \n",
       "4    144.952201                   0                    9.851     13.576425  "
      ]
     },
     "execution_count": 91,
     "metadata": {},
     "output_type": "execute_result"
    }
   ],
   "source": [
    "dirtyDataSolution.head()"
   ]
  },
  {
   "cell_type": "markdown",
   "metadata": {},
   "source": [
    "The dirtyDataSolution dataframe is our cleaned version of dirty data. We are also assuming that the `delivery_fee` column is error free, that is because if we try to fix that in the same way we have filled in the missing values for the same column, then we might not have the exact same values for the entire column."
   ]
  },
  {
   "cell_type": "code",
   "execution_count": 92,
   "metadata": {},
   "outputs": [],
   "source": [
    "dirtyDataSolution.to_csv('Group010_dirty_data_solution.csv', index = False)"
   ]
  },
  {
   "cell_type": "markdown",
   "metadata": {},
   "source": [
    "### Error Indices for different columns of dirty data"
   ]
  },
  {
   "cell_type": "code",
   "execution_count": 93,
   "metadata": {
    "scrolled": true
   },
   "outputs": [
    {
     "name": "stdout",
     "output_type": "stream",
     "text": [
      "Date Error List:  [1, 8, 14, 31, 33, 66, 85, 93, 149, 160, 171, 175, 236, 238, 249, 259, 267, 278, 279, 286, 287, 318, 322, 329, 339, 341, 347, 353, 362, 373, 410, 412, 423, 436, 442, 454, 479]\n",
      "\n",
      "Date Error List Length:  37\n"
     ]
    }
   ],
   "source": [
    "# Printing the date error list\n",
    "print('Date Error List: ', dateErrorList)\n",
    "\n",
    "print()\n",
    "\n",
    "# Printing the length of the date error list\n",
    "print('Date Error List Length: ', len(dateErrorList))"
   ]
  },
  {
   "cell_type": "code",
   "execution_count": 94,
   "metadata": {},
   "outputs": [
    {
     "name": "stdout",
     "output_type": "stream",
     "text": [
      "Order Type Error List :  [4, 60, 65, 75, 83, 87, 89, 99, 113, 177, 186, 187, 193, 197, 198, 200, 202, 207, 213, 222, 223, 245, 246, 256, 282, 301, 323, 357, 359, 372, 376, 381, 385, 426, 428, 459, 478]\n",
      "\n",
      "Order Type Error List Length:  37\n"
     ]
    }
   ],
   "source": [
    "# Printing the order type error list\n",
    "print('Order Type Error List : ', orderTypeErrorList)\n",
    "\n",
    "print()\n",
    "\n",
    "# Printing the length of the order type error list\n",
    "print('Order Type Error List Length: ', len(orderTypeErrorList))"
   ]
  },
  {
   "cell_type": "code",
   "execution_count": 95,
   "metadata": {},
   "outputs": [
    {
     "name": "stdout",
     "output_type": "stream",
     "text": [
      "Branch Code Error List:  [0, 19, 27, 50, 53, 58, 109, 111, 152, 162, 166, 199, 205, 211, 217, 247, 262, 264, 269, 285, 306, 327, 338, 340, 366, 367, 369, 377, 378, 386, 390, 395, 396, 419, 444, 448, 497]\n",
      "\n",
      "Branch Code Error List Length:  37\n"
     ]
    }
   ],
   "source": [
    "# Printing the branch code error list\n",
    "print('Branch Code Error List: ', branchErrorList)\n",
    "\n",
    "print()\n",
    "\n",
    "# Printing the length of the branch code error list\n",
    "print('Branch Code Error List Length: ', len(branchErrorList))"
   ]
  },
  {
   "cell_type": "code",
   "execution_count": 96,
   "metadata": {},
   "outputs": [
    {
     "name": "stdout",
     "output_type": "stream",
     "text": [
      "Order Items Error List:  [5, 13, 32, 46, 54, 80, 98, 110, 117, 120, 129, 130, 134, 155, 158, 173, 179, 208, 221, 225, 244, 253, 258, 288, 299, 302, 307, 330, 351, 358, 413, 416, 468, 482, 486, 496, 498]\n",
      "\n",
      "Order Items Error List Length:  37\n"
     ]
    }
   ],
   "source": [
    "# Printing the order items error list\n",
    "print('Order Items Error List: ', orderItemsErrorList)\n",
    "\n",
    "print()\n",
    "\n",
    "# Printing the length of the order items error list\n",
    "print('Order Items Error List Length: ', len(orderItemsErrorList))"
   ]
  },
  {
   "cell_type": "code",
   "execution_count": 97,
   "metadata": {},
   "outputs": [
    {
     "name": "stdout",
     "output_type": "stream",
     "text": [
      "Order Price Error List:  [38, 43, 52, 67, 71, 77, 78, 97, 102, 103, 135, 144, 148, 170, 178, 183, 191, 210, 214, 224, 250, 265, 266, 290, 305, 310, 350, 365, 388, 389, 391, 431, 457, 460, 467, 472, 474]\n",
      "\n",
      "Order Price Error List Length:  37\n"
     ]
    }
   ],
   "source": [
    "# Printing the order price error list\n",
    "print('Order Price Error List: ', dirtyOrderPriceErrorList)\n",
    "\n",
    "print()\n",
    "\n",
    "# Printing the length of the order price error list\n",
    "print('Order Price Error List Length: ', len(dirtyOrderPriceErrorList))"
   ]
  },
  {
   "cell_type": "code",
   "execution_count": 98,
   "metadata": {},
   "outputs": [
    {
     "name": "stdout",
     "output_type": "stream",
     "text": [
      "Customer Latitude and Longitude Error List:  [29, 51, 57, 63, 69, 95, 101, 121, 128, 132, 142, 146, 154, 163, 206, 229, 237, 260, 263, 270, 276, 277, 280, 281, 332, 333, 345, 348, 352, 368, 383, 392, 408, 409, 414, 422, 435, 450, 481, 487, 491]\n",
      "\n",
      "Customer Latitude and Longitude Error List Length:  41\n"
     ]
    }
   ],
   "source": [
    "# Printing the customer latitude and longitude error list\n",
    "print('Customer Latitude and Longitude Error List: ', errorLatLonList)\n",
    "\n",
    "print()\n",
    "\n",
    "# Printing the length of the customer latitude and longitude error list\n",
    "print('Customer Latitude and Longitude Error List Length: ', len(errorLatLonList))"
   ]
  },
  {
   "cell_type": "code",
   "execution_count": 99,
   "metadata": {},
   "outputs": [
    {
     "name": "stdout",
     "output_type": "stream",
     "text": [
      "Distance Error List:  [22, 36, 40, 48, 81, 82, 90, 104, 106, 115, 137, 139, 157, 174, 184, 204, 209, 233, 234, 255, 272, 283, 293, 313, 316, 319, 328, 379, 398, 403, 411, 418, 437, 441, 449, 455, 480]\n",
      "\n",
      "Distance Error List Length:  37\n"
     ]
    }
   ],
   "source": [
    "# Printing the distance error list\n",
    "print('Distance Error List: ', errorDistanceList)\n",
    "\n",
    "print()\n",
    "\n",
    "# Printing the length of the distance error list\n",
    "print('Distance Error List Length: ', len(errorDistanceList))"
   ]
  },
  {
   "cell_type": "code",
   "execution_count": 100,
   "metadata": {},
   "outputs": [
    {
     "name": "stdout",
     "output_type": "stream",
     "text": [
      "Customer Has Loyalty Error List:  [2, 7, 15, 17, 20, 25, 37, 62, 73, 76, 79, 84, 96, 108, 112, 116, 143, 153, 196, 201, 203, 218, 232, 235, 240, 275, 292, 303, 320, 324, 355, 356, 360, 364, 404, 407, 415, 429, 434, 443, 445, 456, 466, 470, 476, 493]\n",
      "\n",
      "Customer Has Loyalty Error List Length:  46\n"
     ]
    }
   ],
   "source": [
    "# Printing the customerHasloyalty? error list\n",
    "print('Customer Has Loyalty Error List: ', custLoyaltyErrorList)\n",
    "\n",
    "print()\n",
    "\n",
    "# Printing the length of the customerHasloyalty? error list\n",
    "print('Customer Has Loyalty Error List Length: ', len(custLoyaltyErrorList))"
   ]
  },
  {
   "cell_type": "code",
   "execution_count": 101,
   "metadata": {},
   "outputs": [
    {
     "name": "stdout",
     "output_type": "stream",
     "text": [
      "Total Index Error List :  [0, 1, 2, 4, 5, 7, 8, 13, 14, 15, 17, 19, 20, 22, 25, 27, 29, 31, 32, 33, 36, 37, 38, 40, 43, 46, 48, 50, 51, 52, 53, 54, 57, 58, 60, 62, 63, 65, 66, 67, 69, 71, 73, 75, 76, 77, 78, 79, 80, 81, 82, 83, 84, 85, 87, 89, 90, 93, 95, 96, 97, 98, 99, 101, 102, 103, 104, 106, 108, 109, 110, 111, 112, 113, 115, 116, 117, 120, 121, 128, 129, 130, 132, 134, 135, 137, 139, 142, 143, 144, 146, 148, 149, 152, 153, 154, 155, 157, 158, 160, 162, 163, 166, 170, 171, 173, 174, 175, 177, 178, 179, 183, 184, 186, 187, 191, 193, 196, 197, 198, 199, 200, 201, 202, 203, 204, 205, 206, 207, 208, 209, 210, 211, 213, 214, 217, 218, 221, 222, 223, 224, 225, 229, 232, 233, 234, 235, 236, 237, 238, 240, 244, 245, 246, 247, 249, 250, 253, 255, 256, 258, 259, 260, 262, 263, 264, 265, 266, 267, 269, 270, 272, 275, 276, 277, 278, 279, 280, 281, 282, 283, 285, 286, 287, 288, 290, 292, 293, 299, 301, 302, 303, 305, 306, 307, 310, 313, 316, 318, 319, 320, 322, 323, 324, 327, 328, 329, 330, 332, 333, 338, 339, 340, 341, 345, 347, 348, 350, 351, 352, 353, 355, 356, 357, 358, 359, 360, 362, 364, 365, 366, 367, 368, 369, 372, 373, 376, 377, 378, 379, 381, 383, 385, 386, 388, 389, 390, 391, 392, 395, 396, 398, 403, 404, 407, 408, 409, 410, 411, 412, 413, 414, 415, 416, 418, 419, 422, 423, 426, 428, 429, 431, 434, 435, 436, 437, 441, 442, 443, 444, 445, 448, 449, 450, 454, 455, 456, 457, 459, 460, 466, 467, 468, 470, 472, 474, 476, 478, 479, 480, 481, 482, 486, 487, 491, 493, 496, 497, 498]\n",
      "\n",
      "Total Index Error List Length :  309\n"
     ]
    }
   ],
   "source": [
    "totalIndexList.extend(custLoyaltyErrorList)\n",
    "\n",
    "# Sorting the list\n",
    "totalIndexList.sort()\n",
    "\n",
    "# Printing the total index list\n",
    "print('Total Index Error List : ', totalIndexList)\n",
    "\n",
    "print()\n",
    "\n",
    "# Printing the length of total index list\n",
    "print('Total Index Error List Length : ', len(totalIndexList))"
   ]
  },
  {
   "cell_type": "code",
   "execution_count": 102,
   "metadata": {},
   "outputs": [
    {
     "data": {
      "text/html": [
       "<div>\n",
       "<style scoped>\n",
       "    .dataframe tbody tr th:only-of-type {\n",
       "        vertical-align: middle;\n",
       "    }\n",
       "\n",
       "    .dataframe tbody tr th {\n",
       "        vertical-align: top;\n",
       "    }\n",
       "\n",
       "    .dataframe thead th {\n",
       "        text-align: right;\n",
       "    }\n",
       "</style>\n",
       "<table border=\"1\" class=\"dataframe\">\n",
       "  <thead>\n",
       "    <tr style=\"text-align: right;\">\n",
       "      <th></th>\n",
       "      <th>order_id</th>\n",
       "      <th>date</th>\n",
       "      <th>time</th>\n",
       "      <th>order_type</th>\n",
       "      <th>branch_code</th>\n",
       "      <th>order_items</th>\n",
       "      <th>order_price</th>\n",
       "      <th>customer_lat</th>\n",
       "      <th>customer_lon</th>\n",
       "      <th>customerHasloyalty?</th>\n",
       "      <th>distance_to_customer_KM</th>\n",
       "      <th>delivery_fee</th>\n",
       "    </tr>\n",
       "  </thead>\n",
       "  <tbody>\n",
       "    <tr>\n",
       "      <th>0</th>\n",
       "      <td>ORDB10347</td>\n",
       "      <td>2018-03-28</td>\n",
       "      <td>10:42:15</td>\n",
       "      <td>Breakfast</td>\n",
       "      <td>TP</td>\n",
       "      <td>[('Coffee', 10), ('Pancake', 8)]</td>\n",
       "      <td>269.0</td>\n",
       "      <td>-37.806850</td>\n",
       "      <td>144.959524</td>\n",
       "      <td>0</td>\n",
       "      <td>9.058</td>\n",
       "      <td>11.688684</td>\n",
       "    </tr>\n",
       "    <tr>\n",
       "      <th>1</th>\n",
       "      <td>ORDC05549</td>\n",
       "      <td>2018-03-21</td>\n",
       "      <td>10:32:06</td>\n",
       "      <td>Breakfast</td>\n",
       "      <td>NS</td>\n",
       "      <td>[('Cereal', 9), ('Pancake', 6)]</td>\n",
       "      <td>334.5</td>\n",
       "      <td>-37.816821</td>\n",
       "      <td>144.961706</td>\n",
       "      <td>0</td>\n",
       "      <td>8.487</td>\n",
       "      <td>14.016510</td>\n",
       "    </tr>\n",
       "    <tr>\n",
       "      <th>2</th>\n",
       "      <td>ORDB03896</td>\n",
       "      <td>2018-09-25</td>\n",
       "      <td>16:47:19</td>\n",
       "      <td>Dinner</td>\n",
       "      <td>TP</td>\n",
       "      <td>[('Fish&amp;Chips', 9), ('Shrimp', 7)]</td>\n",
       "      <td>693.0</td>\n",
       "      <td>-37.811080</td>\n",
       "      <td>144.972260</td>\n",
       "      <td>1</td>\n",
       "      <td>8.933</td>\n",
       "      <td>12.970404</td>\n",
       "    </tr>\n",
       "    <tr>\n",
       "      <th>3</th>\n",
       "      <td>ORDK04115</td>\n",
       "      <td>2018-10-04</td>\n",
       "      <td>17:07:36</td>\n",
       "      <td>Dinner</td>\n",
       "      <td>BK</td>\n",
       "      <td>[('Salmon', 6), ('Fish&amp;Chips', 7)]</td>\n",
       "      <td>491.0</td>\n",
       "      <td>-37.808742</td>\n",
       "      <td>144.942261</td>\n",
       "      <td>0</td>\n",
       "      <td>9.779</td>\n",
       "      <td>16.577056</td>\n",
       "    </tr>\n",
       "    <tr>\n",
       "      <th>4</th>\n",
       "      <td>ORDY01721</td>\n",
       "      <td>2018-10-17</td>\n",
       "      <td>17:38:01</td>\n",
       "      <td>Dinner</td>\n",
       "      <td>TP</td>\n",
       "      <td>[('Shrimp', 2), ('Pasta', 10)]</td>\n",
       "      <td>383.0</td>\n",
       "      <td>-37.802861</td>\n",
       "      <td>144.952201</td>\n",
       "      <td>0</td>\n",
       "      <td>9.851</td>\n",
       "      <td>13.576425</td>\n",
       "    </tr>\n",
       "  </tbody>\n",
       "</table>\n",
       "</div>"
      ],
      "text/plain": [
       "    order_id       date      time order_type branch_code  \\\n",
       "0  ORDB10347 2018-03-28  10:42:15  Breakfast          TP   \n",
       "1  ORDC05549 2018-03-21  10:32:06  Breakfast          NS   \n",
       "2  ORDB03896 2018-09-25  16:47:19     Dinner          TP   \n",
       "3  ORDK04115 2018-10-04  17:07:36     Dinner          BK   \n",
       "4  ORDY01721 2018-10-17  17:38:01     Dinner          TP   \n",
       "\n",
       "                          order_items  order_price  customer_lat  \\\n",
       "0    [('Coffee', 10), ('Pancake', 8)]        269.0    -37.806850   \n",
       "1     [('Cereal', 9), ('Pancake', 6)]        334.5    -37.816821   \n",
       "2  [('Fish&Chips', 9), ('Shrimp', 7)]        693.0    -37.811080   \n",
       "3  [('Salmon', 6), ('Fish&Chips', 7)]        491.0    -37.808742   \n",
       "4      [('Shrimp', 2), ('Pasta', 10)]        383.0    -37.802861   \n",
       "\n",
       "   customer_lon customerHasloyalty?  distance_to_customer_KM  delivery_fee  \n",
       "0    144.959524                   0                    9.058     11.688684  \n",
       "1    144.961706                   0                    8.487     14.016510  \n",
       "2    144.972260                   1                    8.933     12.970404  \n",
       "3    144.942261                   0                    9.779     16.577056  \n",
       "4    144.952201                   0                    9.851     13.576425  "
      ]
     },
     "execution_count": 102,
     "metadata": {},
     "output_type": "execute_result"
    }
   ],
   "source": [
    "dirtyDataSolution.head()"
   ]
  },
  {
   "cell_type": "markdown",
   "metadata": {},
   "source": [
    "# Conclusion\n",
    "\n",
    "We have learnt various methods and techniques from this assignment:\n",
    "- The use of regex library including the different ways of creating and using patterns to manipulate and extract required data. \n",
    "- Use of dataframes using pandas library and exporting data in the form of csv file. \n",
    "- Use of numpy linalg lstsq function to solve linear system of equation.\n",
    "- Applying Dijkstra algorithm on dataset to find out shortest path (use of shortest_path_length function).\n",
    "- Handling data in the form of list and dictionary.\n",
    "- Applying concepts of outliers and linear regression to the dataset."
   ]
  },
  {
   "cell_type": "markdown",
   "metadata": {},
   "source": [
    "# References\n",
    "\n",
    "- Monash tutorial and lecture files\n",
    "- https://networkx.github.io/documentation/stable/reference/algorithms/generated/networkx.algorithms.shortest_paths.generic.shortest_path_length.html#networkx.algorithms.shortest_paths.generic.shortest_path_length\n",
    "- https://networkx.github.io/documentation/networkx-1.10/tutorial/tutorial.html\n",
    "- https://scikit-learn.org/stable/modules/generated/sklearn.linear_model.LinearRegression.html\n",
    "- https://stackoverflow.com/questions/1894269/convert-string-representation-of-list-to-list\n",
    "- https://pandas.pydata.org/pandas-docs/stable/reference/api/pandas.DataFrame.boxplot.html"
   ]
  }
 ],
 "metadata": {
  "kernelspec": {
   "display_name": "Python 3",
   "language": "python",
   "name": "python3"
  },
  "language_info": {
   "codemirror_mode": {
    "name": "ipython",
    "version": 3
   },
   "file_extension": ".py",
   "mimetype": "text/x-python",
   "name": "python",
   "nbconvert_exporter": "python",
   "pygments_lexer": "ipython3",
   "version": "3.7.6"
  }
 },
 "nbformat": 4,
 "nbformat_minor": 2
}
