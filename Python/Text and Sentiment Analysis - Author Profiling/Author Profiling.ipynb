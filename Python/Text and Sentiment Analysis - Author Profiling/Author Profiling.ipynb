{
 "cells": [
  {
   "cell_type": "markdown",
   "metadata": {},
   "source": [
    "### Packages to be installed"
   ]
  },
  {
   "cell_type": "code",
   "execution_count": 1,
   "metadata": {},
   "outputs": [],
   "source": [
    "# !pip install emoji"
   ]
  },
  {
   "cell_type": "markdown",
   "metadata": {},
   "source": [
    "### Importing Packages"
   ]
  },
  {
   "cell_type": "code",
   "execution_count": 2,
   "metadata": {},
   "outputs": [],
   "source": [
    "# https://www.kaggle.com/crowdflower/twitter-user-gender-classification/kernels\n",
    "\n",
    "# To access directories and files\n",
    "import os\n",
    "\n",
    "# To read XML file content\n",
    "from xml.dom import minidom\n",
    "\n",
    "# To store id, gender and content\n",
    "import pandas as pd\n",
    "\n",
    "# import regex library\n",
    "import re\n",
    "\n",
    "import emoji # importing the emoji package to check for emoji characters\n",
    "\n",
    "# importing spacy package\n",
    "import spacy\n",
    "import time # using this to keep a track of our runtime\n",
    "\n",
    "# importing numpy package\n",
    "import numpy as np\n",
    "\n",
    "# importing probability functions from nltk package to calculate frequncy distributions\n",
    "from nltk.probability import *\n",
    "# importing the list of stopwords from nltk corpus\n",
    "from nltk.corpus import stopwords\n",
    "\n",
    "import string\n",
    "\n",
    "# import the metrics class\n",
    "from sklearn import metrics\n",
    "\n",
    "# the Naive Bayes model\n",
    "from sklearn.naive_bayes import MultinomialNB\n",
    "# function to split the data for cross-validation\n",
    "from sklearn.model_selection import train_test_split\n",
    "# function for transforming documents into counts\n",
    "from sklearn.feature_extraction.text import CountVectorizer, TfidfVectorizer\n",
    "# function for encoding categories\n",
    "from sklearn.preprocessing import LabelEncoder\n",
    "\n",
    "# importing the different classification model classes from sklearn\n",
    "from sklearn.linear_model import LogisticRegression\n",
    "\n",
    "from sklearn.ensemble import RandomForestClassifier\n",
    "\n",
    "from sklearn.svm import SVC, LinearSVC\n",
    "\n",
    "from sklearn.pipeline import make_pipeline\n",
    "from sklearn.preprocessing import StandardScaler\n",
    "\n",
    "# importing the libraries for plotting graphs\n",
    "import seaborn as sns\n",
    "import matplotlib.pyplot as plt\n",
    "\n",
    "# importing the functions to help us calculte the metrics of individual models\n",
    "from sklearn.model_selection import cross_val_score\n",
    "\n",
    "from sklearn.metrics import precision_score, recall_score, f1_score, accuracy_score, confusion_matrix, matthews_corrcoef"
   ]
  },
  {
   "cell_type": "markdown",
   "metadata": {},
   "source": [
    "### Reading all the given data\n",
    "\n",
    "We are provided with a list of xml files each containing twitter posts from multiple authors belonging to different gender classes. So, firstly using `minidom` to extract the `post content` from the xml files and then adding it along with its respective `document id` to a `dataframe` for easy use. Then reading the `train_labels.csv` file and extracting out the `document id` along with the `gender` class that particular document belongs to. Finally, merging the two newly created dataframes into one containing, `id`, `content` and\t`gender`."
   ]
  },
  {
   "cell_type": "markdown",
   "metadata": {},
   "source": [
    "#### XML"
   ]
  },
  {
   "cell_type": "code",
   "execution_count": 3,
   "metadata": {},
   "outputs": [
    {
     "name": "stdout",
     "output_type": "stream",
     "text": [
      "3600\n"
     ]
    },
    {
     "data": {
      "text/html": [
       "<div>\n",
       "<style scoped>\n",
       "    .dataframe tbody tr th:only-of-type {\n",
       "        vertical-align: middle;\n",
       "    }\n",
       "\n",
       "    .dataframe tbody tr th {\n",
       "        vertical-align: top;\n",
       "    }\n",
       "\n",
       "    .dataframe thead th {\n",
       "        text-align: right;\n",
       "    }\n",
       "</style>\n",
       "<table border=\"1\" class=\"dataframe\">\n",
       "  <thead>\n",
       "    <tr style=\"text-align: right;\">\n",
       "      <th></th>\n",
       "      <th>id</th>\n",
       "      <th>content</th>\n",
       "    </tr>\n",
       "  </thead>\n",
       "  <tbody>\n",
       "    <tr>\n",
       "      <th>0</th>\n",
       "      <td>1003de26f870d27f79887272a1eb3612</td>\n",
       "      <td>One to watch … \\nAvailable on 10th Feb. https:...</td>\n",
       "    </tr>\n",
       "    <tr>\n",
       "      <th>1</th>\n",
       "      <td>102cce280df9f6e0e78bfdd266f1abb5</td>\n",
       "      <td>Are we living in a holographic universe? New s...</td>\n",
       "    </tr>\n",
       "    <tr>\n",
       "      <th>2</th>\n",
       "      <td>10488b3700fa9d2db22961ab064e4d38</td>\n",
       "      <td>Museum focus, but still great pieces of advice...</td>\n",
       "    </tr>\n",
       "    <tr>\n",
       "      <th>3</th>\n",
       "      <td>1064bd0b78f14bea5b851e2a995dd4e5</td>\n",
       "      <td>Best half time show EVER!@jannarden  not the e...</td>\n",
       "    </tr>\n",
       "    <tr>\n",
       "      <th>4</th>\n",
       "      <td>106aa0abb81873d09028b01658c37611</td>\n",
       "      <td>Does this mean @WaitakereUnited are top of the...</td>\n",
       "    </tr>\n",
       "  </tbody>\n",
       "</table>\n",
       "</div>"
      ],
      "text/plain": [
       "                                 id  \\\n",
       "0  1003de26f870d27f79887272a1eb3612   \n",
       "1  102cce280df9f6e0e78bfdd266f1abb5   \n",
       "2  10488b3700fa9d2db22961ab064e4d38   \n",
       "3  1064bd0b78f14bea5b851e2a995dd4e5   \n",
       "4  106aa0abb81873d09028b01658c37611   \n",
       "\n",
       "                                             content  \n",
       "0  One to watch … \\nAvailable on 10th Feb. https:...  \n",
       "1  Are we living in a holographic universe? New s...  \n",
       "2  Museum focus, but still great pieces of advice...  \n",
       "3  Best half time show EVER!@jannarden  not the e...  \n",
       "4  Does this mean @WaitakereUnited are top of the...  "
      ]
     },
     "execution_count": 3,
     "metadata": {},
     "output_type": "execute_result"
    }
   ],
   "source": [
    "# Initialising base path where all XML files are present \n",
    "# basePath = 'Assessment2_data\\\\Assessment2_data\\\\data\\\\data'\n",
    "basePath = 'data\\\\data'\n",
    "\n",
    "# Storing all the XML files present in the directory\n",
    "files = [file for file in os.listdir(basePath) if file.endswith(\".xml\")]\n",
    "\n",
    "# Initialising a list to store content from all the files\n",
    "content = []\n",
    "\n",
    "# Creating a dataframe to store id and content\n",
    "contentDF = pd.DataFrame(columns=[\"id\", \"content\"])\n",
    "\n",
    "# Traverse through all files\n",
    "for file in files:\n",
    "    # Access XML file\n",
    "    xmlDoc = minidom.parse(os.path.join(basePath, file))\n",
    "\n",
    "    # Traverse based on the tag document\n",
    "    documentList = xmlDoc.getElementsByTagName('document')\n",
    "    \n",
    "    # Initialising docLines string to store all document content from a specific file\n",
    "    docLines = \"\"\n",
    "\n",
    "    # Print each line within the tag document\n",
    "    for document in documentList:\n",
    "        docLines = docLines + document.firstChild.data\n",
    "    \n",
    "    # Assigning values of id and content columns to a new row\n",
    "    newRow = {'id':file[:len(file)-4], 'content':docLines}\n",
    "    \n",
    "    # Appending a new row to the dataframe\n",
    "    contentDF = contentDF.append(newRow, ignore_index=True)\n",
    "    \n",
    "# Total documents' content \n",
    "print(len(contentDF))\n",
    "\n",
    "# Displaying the content from all the files \n",
    "contentDF.head()"
   ]
  },
  {
   "cell_type": "markdown",
   "metadata": {},
   "source": [
    "#### CSV"
   ]
  },
  {
   "cell_type": "code",
   "execution_count": 4,
   "metadata": {},
   "outputs": [
    {
     "data": {
      "text/html": [
       "<div>\n",
       "<style scoped>\n",
       "    .dataframe tbody tr th:only-of-type {\n",
       "        vertical-align: middle;\n",
       "    }\n",
       "\n",
       "    .dataframe tbody tr th {\n",
       "        vertical-align: top;\n",
       "    }\n",
       "\n",
       "    .dataframe thead th {\n",
       "        text-align: right;\n",
       "    }\n",
       "</style>\n",
       "<table border=\"1\" class=\"dataframe\">\n",
       "  <thead>\n",
       "    <tr style=\"text-align: right;\">\n",
       "      <th></th>\n",
       "      <th>id</th>\n",
       "      <th>gender</th>\n",
       "    </tr>\n",
       "  </thead>\n",
       "  <tbody>\n",
       "    <tr>\n",
       "      <th>0</th>\n",
       "      <td>d7d392835f50664fc079f0f388e147a0</td>\n",
       "      <td>male</td>\n",
       "    </tr>\n",
       "    <tr>\n",
       "      <th>1</th>\n",
       "      <td>ee40b86368137b86f51806c9f105b34b</td>\n",
       "      <td>female</td>\n",
       "    </tr>\n",
       "    <tr>\n",
       "      <th>2</th>\n",
       "      <td>919bc742d9a22d65eab1f52b11656cab</td>\n",
       "      <td>male</td>\n",
       "    </tr>\n",
       "    <tr>\n",
       "      <th>3</th>\n",
       "      <td>15b97a08d65f22d97ca685686510b6ae</td>\n",
       "      <td>female</td>\n",
       "    </tr>\n",
       "    <tr>\n",
       "      <th>4</th>\n",
       "      <td>affa98421ef5c46ca7c8f246e0a134c1</td>\n",
       "      <td>female</td>\n",
       "    </tr>\n",
       "  </tbody>\n",
       "</table>\n",
       "</div>"
      ],
      "text/plain": [
       "                                 id  gender\n",
       "0  d7d392835f50664fc079f0f388e147a0    male\n",
       "1  ee40b86368137b86f51806c9f105b34b  female\n",
       "2  919bc742d9a22d65eab1f52b11656cab    male\n",
       "3  15b97a08d65f22d97ca685686510b6ae  female\n",
       "4  affa98421ef5c46ca7c8f246e0a134c1  female"
      ]
     },
     "execution_count": 4,
     "metadata": {},
     "output_type": "execute_result"
    }
   ],
   "source": [
    "# Reading the train data \n",
    "trainData = pd.read_csv(\"train_labels.csv\")\n",
    "\n",
    "# Displaying first few rows from train set \n",
    "trainData.head()"
   ]
  },
  {
   "cell_type": "markdown",
   "metadata": {},
   "source": [
    "#### Merging the content into a single dataframe"
   ]
  },
  {
   "cell_type": "code",
   "execution_count": 5,
   "metadata": {},
   "outputs": [
    {
     "name": "stdout",
     "output_type": "stream",
     "text": [
      "3100\n"
     ]
    },
    {
     "data": {
      "text/html": [
       "<div>\n",
       "<style scoped>\n",
       "    .dataframe tbody tr th:only-of-type {\n",
       "        vertical-align: middle;\n",
       "    }\n",
       "\n",
       "    .dataframe tbody tr th {\n",
       "        vertical-align: top;\n",
       "    }\n",
       "\n",
       "    .dataframe thead th {\n",
       "        text-align: right;\n",
       "    }\n",
       "</style>\n",
       "<table border=\"1\" class=\"dataframe\">\n",
       "  <thead>\n",
       "    <tr style=\"text-align: right;\">\n",
       "      <th></th>\n",
       "      <th>id</th>\n",
       "      <th>content</th>\n",
       "      <th>gender</th>\n",
       "    </tr>\n",
       "  </thead>\n",
       "  <tbody>\n",
       "    <tr>\n",
       "      <th>0</th>\n",
       "      <td>1003de26f870d27f79887272a1eb3612</td>\n",
       "      <td>One to watch … \\nAvailable on 10th Feb. https:...</td>\n",
       "      <td>male</td>\n",
       "    </tr>\n",
       "    <tr>\n",
       "      <th>1</th>\n",
       "      <td>102cce280df9f6e0e78bfdd266f1abb5</td>\n",
       "      <td>Are we living in a holographic universe? New s...</td>\n",
       "      <td>female</td>\n",
       "    </tr>\n",
       "    <tr>\n",
       "      <th>2</th>\n",
       "      <td>10488b3700fa9d2db22961ab064e4d38</td>\n",
       "      <td>Museum focus, but still great pieces of advice...</td>\n",
       "      <td>female</td>\n",
       "    </tr>\n",
       "    <tr>\n",
       "      <th>3</th>\n",
       "      <td>106aa0abb81873d09028b01658c37611</td>\n",
       "      <td>Does this mean @WaitakereUnited are top of the...</td>\n",
       "      <td>male</td>\n",
       "    </tr>\n",
       "    <tr>\n",
       "      <th>4</th>\n",
       "      <td>1074ea46e0f2d49b18b4d77b9aa8c9b</td>\n",
       "      <td>in the time of chimpanzees I was a monkeyHow o...</td>\n",
       "      <td>male</td>\n",
       "    </tr>\n",
       "  </tbody>\n",
       "</table>\n",
       "</div>"
      ],
      "text/plain": [
       "                                 id  \\\n",
       "0  1003de26f870d27f79887272a1eb3612   \n",
       "1  102cce280df9f6e0e78bfdd266f1abb5   \n",
       "2  10488b3700fa9d2db22961ab064e4d38   \n",
       "3  106aa0abb81873d09028b01658c37611   \n",
       "4   1074ea46e0f2d49b18b4d77b9aa8c9b   \n",
       "\n",
       "                                             content  gender  \n",
       "0  One to watch … \\nAvailable on 10th Feb. https:...    male  \n",
       "1  Are we living in a holographic universe? New s...  female  \n",
       "2  Museum focus, but still great pieces of advice...  female  \n",
       "3  Does this mean @WaitakereUnited are top of the...    male  \n",
       "4  in the time of chimpanzees I was a monkeyHow o...    male  "
      ]
     },
     "execution_count": 5,
     "metadata": {},
     "output_type": "execute_result"
    }
   ],
   "source": [
    "# Merging the contentDF and trainDataDF into trainContentDF based on id \n",
    "trainContentDF = pd.merge(contentDF, trainData, on='id', how='inner')\n",
    "\n",
    "# Total training documents with gender content \n",
    "print(len(trainContentDF))\n",
    "\n",
    "# Displaying the first few rows from trainContentDF\n",
    "trainContentDF.head()"
   ]
  },
  {
   "cell_type": "markdown",
   "metadata": {},
   "source": [
    "# Preprocessing"
   ]
  },
  {
   "cell_type": "markdown",
   "metadata": {},
   "source": [
    "#### Replacing double or more spaces with a single space"
   ]
  },
  {
   "cell_type": "code",
   "execution_count": 6,
   "metadata": {},
   "outputs": [],
   "source": [
    "for index in range(len(trainContentDF)):\n",
    "    \n",
    "    text = trainContentDF.at[index, 'content']  # extracting the content out from the dataframe at that particular index\n",
    "    \n",
    "    text = re.sub('\\s+', ' ', text)  # using regex to remove extra spaces\n",
    "    \n",
    "    trainContentDF.at[index, 'content'] = text  # placing the formatted content back into that specific index"
   ]
  },
  {
   "cell_type": "markdown",
   "metadata": {},
   "source": [
    "#### Creating a new column\n",
    "\n",
    "We want to keep our `content` intact and make all the changes on the new column `tokencontent`"
   ]
  },
  {
   "cell_type": "code",
   "execution_count": 7,
   "metadata": {
    "scrolled": true
   },
   "outputs": [
    {
     "data": {
      "text/html": [
       "<div>\n",
       "<style scoped>\n",
       "    .dataframe tbody tr th:only-of-type {\n",
       "        vertical-align: middle;\n",
       "    }\n",
       "\n",
       "    .dataframe tbody tr th {\n",
       "        vertical-align: top;\n",
       "    }\n",
       "\n",
       "    .dataframe thead th {\n",
       "        text-align: right;\n",
       "    }\n",
       "</style>\n",
       "<table border=\"1\" class=\"dataframe\">\n",
       "  <thead>\n",
       "    <tr style=\"text-align: right;\">\n",
       "      <th></th>\n",
       "      <th>id</th>\n",
       "      <th>content</th>\n",
       "      <th>gender</th>\n",
       "      <th>tokencontent</th>\n",
       "    </tr>\n",
       "  </thead>\n",
       "  <tbody>\n",
       "    <tr>\n",
       "      <th>0</th>\n",
       "      <td>1003de26f870d27f79887272a1eb3612</td>\n",
       "      <td>One to watch … Available on 10th Feb. https://...</td>\n",
       "      <td>male</td>\n",
       "      <td></td>\n",
       "    </tr>\n",
       "    <tr>\n",
       "      <th>1</th>\n",
       "      <td>102cce280df9f6e0e78bfdd266f1abb5</td>\n",
       "      <td>Are we living in a holographic universe? New s...</td>\n",
       "      <td>female</td>\n",
       "      <td></td>\n",
       "    </tr>\n",
       "    <tr>\n",
       "      <th>2</th>\n",
       "      <td>10488b3700fa9d2db22961ab064e4d38</td>\n",
       "      <td>Museum focus, but still great pieces of advice...</td>\n",
       "      <td>female</td>\n",
       "      <td></td>\n",
       "    </tr>\n",
       "    <tr>\n",
       "      <th>3</th>\n",
       "      <td>106aa0abb81873d09028b01658c37611</td>\n",
       "      <td>Does this mean @WaitakereUnited are top of the...</td>\n",
       "      <td>male</td>\n",
       "      <td></td>\n",
       "    </tr>\n",
       "    <tr>\n",
       "      <th>4</th>\n",
       "      <td>1074ea46e0f2d49b18b4d77b9aa8c9b</td>\n",
       "      <td>in the time of chimpanzees I was a monkeyHow o...</td>\n",
       "      <td>male</td>\n",
       "      <td></td>\n",
       "    </tr>\n",
       "    <tr>\n",
       "      <th>...</th>\n",
       "      <td>...</td>\n",
       "      <td>...</td>\n",
       "      <td>...</td>\n",
       "      <td>...</td>\n",
       "    </tr>\n",
       "    <tr>\n",
       "      <th>3095</th>\n",
       "      <td>ffa27eef9a46f4d6b3e2c0ff3131936f</td>\n",
       "      <td>@Predictive_Hire thanks for following👍@lawrenc...</td>\n",
       "      <td>male</td>\n",
       "      <td></td>\n",
       "    </tr>\n",
       "    <tr>\n",
       "      <th>3096</th>\n",
       "      <td>ffa8289a14683e00a607a2d9bb5d1367</td>\n",
       "      <td>@LauraAnthony7 @UCBerkeley eooks likes lynch m...</td>\n",
       "      <td>female</td>\n",
       "      <td></td>\n",
       "    </tr>\n",
       "    <tr>\n",
       "      <th>3097</th>\n",
       "      <td>ffbd53773c792831d5b6322b775faa3a</td>\n",
       "      <td>@groubes such a classy player! Was awesome to ...</td>\n",
       "      <td>male</td>\n",
       "      <td></td>\n",
       "    </tr>\n",
       "    <tr>\n",
       "      <th>3098</th>\n",
       "      <td>ffc349a1e4c9a3b37fd8798e82d703a2</td>\n",
       "      <td>Great weekend spent with family! Thoroughly en...</td>\n",
       "      <td>male</td>\n",
       "      <td></td>\n",
       "    </tr>\n",
       "    <tr>\n",
       "      <th>3099</th>\n",
       "      <td>fff01fe00dae086650e48f265468e483</td>\n",
       "      <td>@SavageFc602 @TellEmSteveDave he IS the disord...</td>\n",
       "      <td>female</td>\n",
       "      <td></td>\n",
       "    </tr>\n",
       "  </tbody>\n",
       "</table>\n",
       "<p>3100 rows × 4 columns</p>\n",
       "</div>"
      ],
      "text/plain": [
       "                                    id  \\\n",
       "0     1003de26f870d27f79887272a1eb3612   \n",
       "1     102cce280df9f6e0e78bfdd266f1abb5   \n",
       "2     10488b3700fa9d2db22961ab064e4d38   \n",
       "3     106aa0abb81873d09028b01658c37611   \n",
       "4      1074ea46e0f2d49b18b4d77b9aa8c9b   \n",
       "...                                ...   \n",
       "3095  ffa27eef9a46f4d6b3e2c0ff3131936f   \n",
       "3096  ffa8289a14683e00a607a2d9bb5d1367   \n",
       "3097  ffbd53773c792831d5b6322b775faa3a   \n",
       "3098  ffc349a1e4c9a3b37fd8798e82d703a2   \n",
       "3099  fff01fe00dae086650e48f265468e483   \n",
       "\n",
       "                                                content  gender tokencontent  \n",
       "0     One to watch … Available on 10th Feb. https://...    male               \n",
       "1     Are we living in a holographic universe? New s...  female               \n",
       "2     Museum focus, but still great pieces of advice...  female               \n",
       "3     Does this mean @WaitakereUnited are top of the...    male               \n",
       "4     in the time of chimpanzees I was a monkeyHow o...    male               \n",
       "...                                                 ...     ...          ...  \n",
       "3095  @Predictive_Hire thanks for following👍@lawrenc...    male               \n",
       "3096  @LauraAnthony7 @UCBerkeley eooks likes lynch m...  female               \n",
       "3097  @groubes such a classy player! Was awesome to ...    male               \n",
       "3098  Great weekend spent with family! Thoroughly en...    male               \n",
       "3099  @SavageFc602 @TellEmSteveDave he IS the disord...  female               \n",
       "\n",
       "[3100 rows x 4 columns]"
      ]
     },
     "execution_count": 7,
     "metadata": {},
     "output_type": "execute_result"
    }
   ],
   "source": [
    "trainContentDF['tokencontent'] = \"\"\n",
    "trainContentDF"
   ]
  },
  {
   "cell_type": "markdown",
   "metadata": {},
   "source": [
    "#### Adding a space before every @ and emoji to split bunched up multiple emojis and tags\n",
    "\n",
    "We want a record of all the tagged personalities along with any emoji characters used. So, before we move on to any form of preprocessing we are first formatting our data accordingly. We are adding space before and after any `emoji` we get, as we can get the `individual emojis` with its `actual count`. Then also adding a space before `@` characters because while splitting tokens based on spaces, if there are multiple words beginning with `@` then it concatenates all the simultaneous occurences of those words into one token. "
   ]
  },
  {
   "cell_type": "code",
   "execution_count": 8,
   "metadata": {},
   "outputs": [],
   "source": [
    "for index in range(len(trainContentDF)):\n",
    "    \n",
    "    # getting the content out from every index\n",
    "    content = trainContentDF.at[index, 'content']\n",
    "    \n",
    "    filteredContent = \"\"\n",
    "    for each in content:\n",
    "        if each in emoji.UNICODE_EMOJI:\n",
    "            # adding spaces before and after every emoji occurence\n",
    "            filteredContent += ' ' + each + ' '\n",
    "        elif each == '@':\n",
    "            # adding a space before each @ occurence\n",
    "            filteredContent += ' ' + each\n",
    "        else:\n",
    "            # else adding every content\n",
    "            filteredContent += each\n",
    "    \n",
    "    # replacing new line characters with space\n",
    "    filteredContent = re.sub('\\n', ' ', filteredContent).split()\n",
    "    \n",
    "    # adding the formatted data into the newly created column above\n",
    "    trainContentDF.at[index, 'tokencontent'] = filteredContent"
   ]
  },
  {
   "cell_type": "markdown",
   "metadata": {},
   "source": [
    "#### Splitting the training data set into separate datasets with male authors in one and female in the other"
   ]
  },
  {
   "cell_type": "code",
   "execution_count": 9,
   "metadata": {},
   "outputs": [],
   "source": [
    "trainMaleDFsubset = trainContentDF[trainContentDF['gender']=='male']\n",
    "trainFemaleDFsubset = trainContentDF[trainContentDF['gender']=='female']"
   ]
  },
  {
   "cell_type": "markdown",
   "metadata": {},
   "source": [
    "#### Function that checks for an email"
   ]
  },
  {
   "cell_type": "code",
   "execution_count": 10,
   "metadata": {},
   "outputs": [],
   "source": [
    "def is_valid_email(email):\n",
    "    return bool(re.match(\"[A-Z0-9a-z._-]+@[A-Za-z0-9]+\\.[A-Za-z0-9]{2,}\", email))"
   ]
  },
  {
   "cell_type": "markdown",
   "metadata": {},
   "source": [
    "#### Creating a list of lists containing the words used by males"
   ]
  },
  {
   "cell_type": "code",
   "execution_count": 11,
   "metadata": {},
   "outputs": [],
   "source": [
    "maleContent = trainMaleDFsubset['tokencontent'].tolist()"
   ]
  },
  {
   "cell_type": "markdown",
   "metadata": {},
   "source": [
    "#### This is a 2D list"
   ]
  },
  {
   "cell_type": "code",
   "execution_count": 12,
   "metadata": {},
   "outputs": [
    {
     "data": {
      "text/plain": [
       "1552"
      ]
     },
     "execution_count": 12,
     "metadata": {},
     "output_type": "execute_result"
    }
   ],
   "source": [
    "len(maleContent)"
   ]
  },
  {
   "cell_type": "markdown",
   "metadata": {},
   "source": [
    "#### Flattening it to a 1D list"
   ]
  },
  {
   "cell_type": "code",
   "execution_count": 13,
   "metadata": {},
   "outputs": [],
   "source": [
    "flatMaleContent = [item for sublist in maleContent for item in sublist]"
   ]
  },
  {
   "cell_type": "code",
   "execution_count": 14,
   "metadata": {},
   "outputs": [],
   "source": [
    "# removing numeric characters and punctuations that are occuring by themselves\n",
    "flatMaleContent = [i for i in flatMaleContent if not all(j.isdigit() or j in string.punctuation for j in i)]"
   ]
  },
  {
   "cell_type": "markdown",
   "metadata": {},
   "source": [
    "#### Tagging emails as email"
   ]
  },
  {
   "cell_type": "code",
   "execution_count": 15,
   "metadata": {},
   "outputs": [],
   "source": [
    "maleContentList = []\n",
    "emailIDMale = 0\n",
    "for each in flatMaleContent:\n",
    "    each = each.lower()\n",
    "    if is_valid_email(each):\n",
    "        maleContentList.append('email')\n",
    "        emailIDMale += 1\n",
    "    else:\n",
    "        maleContentList.append(each)"
   ]
  },
  {
   "cell_type": "markdown",
   "metadata": {},
   "source": [
    "#### Tagging html links and emojis\n",
    "\n",
    "Since the machine would not be able to read and understand the http links and emojis, so if any token has `http` then converting it into `weblink` and converting any `emoji` character belonging to `emoji.UNICODE_EMOJI` into `emoji`. \n",
    "\n",
    "Extracting the word occurring after `#` and appending that into the list.\n",
    "\n",
    "Removing any unwanted tokens like `&gt;` from the content as well."
   ]
  },
  {
   "cell_type": "code",
   "execution_count": 16,
   "metadata": {},
   "outputs": [],
   "source": [
    "maleListWithTags = []\n",
    "taggedMale = 0\n",
    "hashedMale = 0\n",
    "for each in maleContentList:\n",
    "    each = each.lower()\n",
    "    # adding weblink as tag for http:\n",
    "    if each[:4] == 'http':\n",
    "        maleListWithTags.append('weblink')\n",
    "    # adding emoji as tag\n",
    "    elif each in emoji.UNICODE_EMOJI:\n",
    "        maleListWithTags.append('emoji')\n",
    "    # Extracting the word occurring after @\n",
    "    elif each[:1] == '@' and len(each) > 1:\n",
    "        maleListWithTags.append(each[1:])\n",
    "        taggedMale += 1\n",
    "    # Extracting the word occurring after # \n",
    "    elif each[:1] == '#' and len(each) > 1:\n",
    "        maleListWithTags.append(each[1:])\n",
    "        hashedMale += 1\n",
    "    # adding tokens that are not of the form &gt; which basically means add every other word\n",
    "    elif not (each[:1] == '&' and each[-1:] == ';'):\n",
    "        maleListWithTags.append(each)\n",
    "        "
   ]
  },
  {
   "cell_type": "markdown",
   "metadata": {},
   "source": [
    "#### Removing Punctuations"
   ]
  },
  {
   "cell_type": "code",
   "execution_count": 17,
   "metadata": {},
   "outputs": [],
   "source": [
    "maleListFinal = []\n",
    "for each in maleListWithTags:\n",
    "    # using the punctuation function in the string library to remove all punctuations\n",
    "    each = each.translate(str.maketrans('', '', string.punctuation))\n",
    "    maleListFinal.append(each)\n"
   ]
  },
  {
   "cell_type": "markdown",
   "metadata": {},
   "source": [
    "#### Removing weird symbols and words shorter than 3 characters long"
   ]
  },
  {
   "cell_type": "code",
   "execution_count": 18,
   "metadata": {},
   "outputs": [],
   "source": [
    "sortOfmaleListFinal = []\n",
    "# removing weird symbols found while going through the dataset that were not being removed while preprocessing\n",
    "for each in maleListFinal:\n",
    "    each = re.sub('’','', each)\n",
    "    each = re.sub('༼ノಠل͟ಠ༽ノ︵┻━┻','', each)\n",
    "    each = re.sub(r'\\d+', '', each)\n",
    "    sortOfmaleListFinal.append(each)\n",
    "sortOfmaleListFinal = [i for i in sortOfmaleListFinal if len(i) > 2]"
   ]
  },
  {
   "cell_type": "code",
   "execution_count": 19,
   "metadata": {},
   "outputs": [
    {
     "name": "stdout",
     "output_type": "stream",
     "text": [
      "0 124570 50456\n"
     ]
    }
   ],
   "source": [
    "print(emailIDMale, taggedMale, hashedMale)"
   ]
  },
  {
   "cell_type": "markdown",
   "metadata": {},
   "source": [
    "#### Doing the same preprocessing for the dataset separated out for `gender =  female`"
   ]
  },
  {
   "cell_type": "code",
   "execution_count": 20,
   "metadata": {},
   "outputs": [],
   "source": [
    "femaleContent = []\n",
    "# iterating through the content for each row and adding it to a list\n",
    "for index, row in trainFemaleDFsubset.iterrows():\n",
    "    femaleContent.append(row['tokencontent'])\n",
    "\n",
    "# flattening the 2D list into a 1D list\n",
    "flatFemaleContent = [item for sublist in femaleContent for item in sublist]\n",
    "# removing numeric characters and punctuations that are occuring by themselves\n",
    "flatFemaleContent = [i for i in flatFemaleContent if not all(j.isdigit() or j in string.punctuation for j in i)]\n",
    "\n",
    "femaleContentList = []\n",
    "emailIDFemale = 0\n",
    "for each in flatFemaleContent:\n",
    "    each = each.lower()\n",
    "    if is_valid_email(each):\n",
    "        femaleContentList.append('email')\n",
    "        emailIDFemale += 1\n",
    "    else:\n",
    "        femaleContentList.append(each)\n",
    "        \n",
    "femaleListWithTags = []\n",
    "taggedFemale = 0\n",
    "hashedFemale = 0\n",
    "for each in femaleContentList:\n",
    "    each = each.lower()\n",
    "    # adding weblink as tag for http:\n",
    "    if each[:4] == 'http':\n",
    "        femaleListWithTags.append('weblink')\n",
    "    # adding emoji as tag\n",
    "    elif each in emoji.UNICODE_EMOJI:\n",
    "        femaleListWithTags.append('emoji')\n",
    "    # Extracting the word occurring after @\n",
    "    elif each[:1] == '@' and len(each) > 1:\n",
    "        femaleListWithTags.append(each[1:])\n",
    "        taggedFemale += 1\n",
    "    # Extracting the word occurring after # \n",
    "    elif each[:1] == '#' and len(each) > 1:\n",
    "        femaleListWithTags.append(each[1:])\n",
    "        hashedFemale += 1\n",
    "    # adding tokens that are not of the form &gt; which basically means add every other word\n",
    "    elif not (each[:1] == '&' and each[-1:] == ';'):\n",
    "        femaleListWithTags.append(each)\n",
    "\n",
    "femaleListFinal = []\n",
    "for each in femaleListWithTags:\n",
    "    # using the punctuation function in the string library to remove all punctuations\n",
    "    each = each.translate(str.maketrans('', '', string.punctuation))\n",
    "    femaleListFinal.append(each)\n",
    "    \n",
    "sortOfFemaleListFinal = []\n",
    "# removing weird symbols found while going through the dataset that were not being removed while preprocessing\n",
    "for each in femaleListFinal:\n",
    "    each = re.sub('’','', each)\n",
    "    each = re.sub('༼ノಠل͟ಠ༽ノ︵┻━┻','', each)\n",
    "    each = re.sub('…','', each)\n",
    "    each = re.sub(r'\\d+', '', each)\n",
    "    sortOfFemaleListFinal.append(each)\n",
    "\n",
    "# removing all characters pf length less than 2\n",
    "sortOfFemaleListFinal = [i for i in sortOfFemaleListFinal if len(i) > 2]"
   ]
  },
  {
   "cell_type": "code",
   "execution_count": 21,
   "metadata": {},
   "outputs": [
    {
     "name": "stdout",
     "output_type": "stream",
     "text": [
      "0 109919 65877\n"
     ]
    }
   ],
   "source": [
    "print(emailIDFemale, taggedFemale, hashedFemale)"
   ]
  },
  {
   "cell_type": "code",
   "execution_count": 22,
   "metadata": {},
   "outputs": [
    {
     "name": "stdout",
     "output_type": "stream",
     "text": [
      "1689228 1656846\n"
     ]
    }
   ],
   "source": [
    "print(len(sortOfmaleListFinal), len(sortOfFemaleListFinal))"
   ]
  },
  {
   "cell_type": "markdown",
   "metadata": {},
   "source": [
    "#### Calculating the `frequency distribution` for each gender list to get an overview of the word distribution used by each gender category"
   ]
  },
  {
   "cell_type": "code",
   "execution_count": 23,
   "metadata": {},
   "outputs": [],
   "source": [
    "freqDistMale = FreqDist(sortOfmaleListFinal)\n",
    "freqDistFemale = FreqDist(sortOfFemaleListFinal)"
   ]
  },
  {
   "cell_type": "code",
   "execution_count": 24,
   "metadata": {},
   "outputs": [
    {
     "data": {
      "text/plain": [
       "FreqDist({'weblink': 70982, 'the': 67708, 'and': 26838, 'emoji': 24071, 'for': 23494, 'you': 20425, 'that': 14346, 'this': 13695, 'with': 11665, 'not': 9339, ...})"
      ]
     },
     "execution_count": 24,
     "metadata": {},
     "output_type": "execute_result"
    }
   ],
   "source": [
    "freqDistMale"
   ]
  },
  {
   "cell_type": "code",
   "execution_count": 25,
   "metadata": {},
   "outputs": [
    {
     "data": {
      "text/plain": [
       "FreqDist({'weblink': 73575, 'the': 55692, 'emoji': 51305, 'and': 27819, 'for': 26226, 'you': 25131, 'this': 15215, 'that': 12216, 'with': 11314, 'have': 9645, ...})"
      ]
     },
     "execution_count": 25,
     "metadata": {},
     "output_type": "execute_result"
    }
   ],
   "source": [
    "freqDistFemale"
   ]
  },
  {
   "cell_type": "markdown",
   "metadata": {},
   "source": [
    "From the above output we can see the difference in the number of emojis used between the 2 gender categories. Visualizing the the output below by plotting two separate graphs.\n",
    "\n",
    "#### Top frequent words for males and females"
   ]
  },
  {
   "cell_type": "code",
   "execution_count": 26,
   "metadata": {
    "scrolled": false
   },
   "outputs": [
    {
     "data": {
      "image/png": "[encoded data removed]",
      "text/plain": [
       "<Figure size 1080x360 with 1 Axes>"
      ]
     },
     "metadata": {
      "needs_background": "light"
     },
     "output_type": "display_data"
    }
   ],
   "source": [
    "plt.figure(figsize=(15,5))\n",
    "freqDistMale.plot(50,cumulative=False)\n",
    "plt.show()"
   ]
  },
  {
   "cell_type": "code",
   "execution_count": 27,
   "metadata": {},
   "outputs": [
    {
     "data": {
      "image/png": "[encoded data removed]",
      "text/plain": [
       "<Figure size 1080x360 with 1 Axes>"
      ]
     },
     "metadata": {
      "needs_background": "light"
     },
     "output_type": "display_data"
    }
   ],
   "source": [
    "plt.figure(figsize=(15,5))\n",
    "freqDistFemale.plot(50,cumulative=False)\n",
    "plt.show()"
   ]
  },
  {
   "cell_type": "markdown",
   "metadata": {},
   "source": [
    "From the above visualization we can clearly infer that we can remove almost all the stopwords from the content list. There are some tokens which occur more for a particular gender."
   ]
  },
  {
   "cell_type": "markdown",
   "metadata": {},
   "source": [
    "## Applying the above preprocessing on the complete training data"
   ]
  },
  {
   "cell_type": "code",
   "execution_count": 28,
   "metadata": {},
   "outputs": [],
   "source": [
    "# storing the stopwords list in a variable\n",
    "stop_words_en = list(stopwords.words('english'))"
   ]
  },
  {
   "cell_type": "code",
   "execution_count": 29,
   "metadata": {},
   "outputs": [],
   "source": [
    "for index in range(len(trainContentDF)):\n",
    "    \n",
    "    # taking individual row content out into a variable\n",
    "    text = trainContentDF.at[index, 'tokencontent']\n",
    "    \n",
    "    filteredContent = []  # a dummy list variable to easily work with the data\n",
    "    \n",
    "    for each in text:\n",
    "        # converting every variable into lowercase\n",
    "        each = each.lower()\n",
    "        # adding weblink as tag for http:\n",
    "        if each[:4] == 'http':\n",
    "            filteredContent.append('weblink')\n",
    "        # adding emoji as tag\n",
    "        elif each in emoji.UNICODE_EMOJI:\n",
    "            filteredContent.append('emoji')\n",
    "        # not adding the tagged content \n",
    "        elif each[:1] == '@' and len(each) > 1:            \n",
    "            pass\n",
    "        # not adding the hashed content \n",
    "        elif each[:1] == '#' and len(each) > 1:\n",
    "            pass\n",
    "        # adding tokens that are not of the form &gt; which basically means add every other word\n",
    "        elif not (each[:1] == '&' and each[-1:] == ';'):\n",
    "            filteredContent.append(each)\n",
    "            \n",
    "    content = []\n",
    "    \n",
    "    # removing any remaining punctuations or weird symbols found while going through the dataset that were not being removed while preprocessing\n",
    "    for each in filteredContent:\n",
    "        each = each.translate(str.maketrans('', '', string.punctuation))\n",
    "        each = re.sub('’','', each)\n",
    "        each = re.sub('༼ノಠل͟ಠ༽ノ︵┻━┻','', each)\n",
    "        each = re.sub('…','', each)\n",
    "        each = re.sub(r'\\d+', '', each)\n",
    "        content.append(each)\n",
    "    \n",
    "    # removing all characters pf length less than 2\n",
    "    content = [i for i in content if len(i) > 2]\n",
    "    # removing all stopwords\n",
    "    content = [i for i in content if i not in stop_words_en]\n",
    "    \n",
    "    # converting the list back into a string\n",
    "    content = \" \".join(content)\n",
    "    \n",
    "    # adding it back to its respective index position\n",
    "    trainContentDF.at[index, 'tokencontent'] = content"
   ]
  },
  {
   "cell_type": "markdown",
   "metadata": {},
   "source": [
    "# Feature Extraction"
   ]
  },
  {
   "cell_type": "markdown",
   "metadata": {},
   "source": [
    "#### Defining Stop Words and Vectorizer"
   ]
  },
  {
   "cell_type": "code",
   "execution_count": 30,
   "metadata": {},
   "outputs": [],
   "source": [
    "nlp = spacy.load('en_core_web_sm')\n",
    "\n",
    "# Defining a LemmaTokenizer using Spacy to be used later whie vectoring the abstract\n",
    "class LemmaTokenizerSpacy(object):        \n",
    "    def __call__(self,doc):\n",
    "        trydoc = nlp(doc)\n",
    "        return [token.lemma_ for token in trydoc]"
   ]
  },
  {
   "cell_type": "markdown",
   "metadata": {},
   "source": [
    "#### Function to transform the given text into a feature matrix"
   ]
  },
  {
   "cell_type": "code",
   "execution_count": 31,
   "metadata": {},
   "outputs": [],
   "source": [
    "def fitter(vectorizer, tokenContent):\n",
    "    \n",
    "    return vectorizer.fit_transform(tokenContent)\n"
   ]
  },
  {
   "cell_type": "markdown",
   "metadata": {},
   "source": [
    "#### Functions to transform the Gender labels into 1s and 0s"
   ]
  },
  {
   "cell_type": "code",
   "execution_count": 32,
   "metadata": {},
   "outputs": [],
   "source": [
    "def labEncoder(gender):\n",
    "    \n",
    "    encoder = LabelEncoder()\n",
    "    \n",
    "    return encoder.fit_transform(gender)\n"
   ]
  },
  {
   "cell_type": "markdown",
   "metadata": {},
   "source": [
    "# Cross Validation"
   ]
  },
  {
   "cell_type": "code",
   "execution_count": 33,
   "metadata": {},
   "outputs": [],
   "source": [
    "def crossValidator(x, y, CV = 10, alg = 'LR'):\n",
    "\n",
    "    CVDF = pd.DataFrame(index = range(CV))\n",
    "\n",
    "    entries = []\n",
    "\n",
    "    if alg == 'LR':\n",
    "\n",
    "        model = LogisticRegression()\n",
    "        modelName = 'Logistic Regression'\n",
    "\n",
    "    elif alg == 'SVC':\n",
    "\n",
    "        model = LinearSVC()\n",
    "        modelName = 'Linear SVC'\n",
    "\n",
    "\n",
    "    elif alg == 'NB':\n",
    "\n",
    "        model = MultinomialNB()\n",
    "        modelName = 'Naive Bayes'\n",
    "        \n",
    "    \n",
    "    accuracies = cross_val_score(model, x, y, scoring = 'accuracy', cv = CV)\n",
    "\n",
    "    for foldID, accuracy in enumerate(accuracies):\n",
    "\n",
    "        entries.append((modelName, foldID, accuracy))\n",
    "\n",
    "    CVDF = pd.DataFrame(entries, columns = ['ModelName', 'FoldID', 'Accuracy'])\n",
    "\n",
    "    return CVDF\n",
    "\n"
   ]
  },
  {
   "cell_type": "markdown",
   "metadata": {},
   "source": [
    "# Classification"
   ]
  },
  {
   "cell_type": "code",
   "execution_count": 34,
   "metadata": {},
   "outputs": [],
   "source": [
    "def classifier(x, y, alg = 'LR'):\n",
    "    \n",
    "    if alg == 'LR':\n",
    "\n",
    "        model = LogisticRegression()\n",
    "        modelName = 'Logistic Regression'\n",
    "\n",
    "    elif alg == 'SVC':\n",
    "\n",
    "        model = SVC(C=10, gamma=0.7, kernel='rbf')\n",
    "        modelName = 'SVC'\n",
    "        \n",
    "    elif alg == 'LinearSVC':\n",
    "\n",
    "        model = LinearSVC(C=10)\n",
    "        modelName = 'Linear SVC'\n",
    "\n",
    "    elif alg == 'NB':\n",
    "\n",
    "        model = MultinomialNB()\n",
    "        modelName = 'Naive Bayes'\n",
    "    \n",
    "    xTrain, xTest, yTrain, yTest = train_test_split(x, y, test_size = 0.2)\n",
    "\n",
    "    model.fit(xTrain, yTrain)\n",
    "\n",
    "    yPredict = model.predict(xTest)\n",
    "\n",
    "    accuracy = accuracy_score(yTest, yPredict)\n",
    "\n",
    "    MCC = matthews_corrcoef(yTest, yPredict)\n",
    "\n",
    "    cfnMatrix = confusion_matrix(yTest, yPredict)\n",
    "\n",
    "    return cfnMatrix, accuracy, MCC"
   ]
  },
  {
   "cell_type": "markdown",
   "metadata": {},
   "source": [
    "# Feature Generation"
   ]
  },
  {
   "cell_type": "code",
   "execution_count": 35,
   "metadata": {},
   "outputs": [],
   "source": [
    "startTime = time.time()"
   ]
  },
  {
   "cell_type": "code",
   "execution_count": 36,
   "metadata": {},
   "outputs": [
    {
     "data": {
      "text/html": [
       "<div>\n",
       "<style scoped>\n",
       "    .dataframe tbody tr th:only-of-type {\n",
       "        vertical-align: middle;\n",
       "    }\n",
       "\n",
       "    .dataframe tbody tr th {\n",
       "        vertical-align: top;\n",
       "    }\n",
       "\n",
       "    .dataframe thead th {\n",
       "        text-align: right;\n",
       "    }\n",
       "</style>\n",
       "<table border=\"1\" class=\"dataframe\">\n",
       "  <thead>\n",
       "    <tr style=\"text-align: right;\">\n",
       "      <th></th>\n",
       "      <th>id</th>\n",
       "      <th>content</th>\n",
       "      <th>gender</th>\n",
       "      <th>tokencontent</th>\n",
       "    </tr>\n",
       "  </thead>\n",
       "  <tbody>\n",
       "    <tr>\n",
       "      <th>0</th>\n",
       "      <td>1003de26f870d27f79887272a1eb3612</td>\n",
       "      <td>One to watch … Available on 10th Feb. https://...</td>\n",
       "      <td>male</td>\n",
       "      <td>one watch available feb weblink complete sets ...</td>\n",
       "    </tr>\n",
       "    <tr>\n",
       "      <th>1</th>\n",
       "      <td>102cce280df9f6e0e78bfdd266f1abb5</td>\n",
       "      <td>Are we living in a holographic universe? New s...</td>\n",
       "      <td>female</td>\n",
       "      <td>living holographic universe new study suggests...</td>\n",
       "    </tr>\n",
       "    <tr>\n",
       "      <th>2</th>\n",
       "      <td>10488b3700fa9d2db22961ab064e4d38</td>\n",
       "      <td>Museum focus, but still great pieces of advice...</td>\n",
       "      <td>female</td>\n",
       "      <td>museum focus still great pieces advice museums...</td>\n",
       "    </tr>\n",
       "    <tr>\n",
       "      <th>3</th>\n",
       "      <td>106aa0abb81873d09028b01658c37611</td>\n",
       "      <td>Does this mean @WaitakereUnited are top of the...</td>\n",
       "      <td>male</td>\n",
       "      <td>mean top league guys bailed tho weblink badthi...</td>\n",
       "    </tr>\n",
       "    <tr>\n",
       "      <th>4</th>\n",
       "      <td>1074ea46e0f2d49b18b4d77b9aa8c9b</td>\n",
       "      <td>in the time of chimpanzees I was a monkeyHow o...</td>\n",
       "      <td>male</td>\n",
       "      <td>time chimpanzees monkeyhow earth foulwere back...</td>\n",
       "    </tr>\n",
       "    <tr>\n",
       "      <th>...</th>\n",
       "      <td>...</td>\n",
       "      <td>...</td>\n",
       "      <td>...</td>\n",
       "      <td>...</td>\n",
       "    </tr>\n",
       "    <tr>\n",
       "      <th>3095</th>\n",
       "      <td>ffa27eef9a46f4d6b3e2c0ff3131936f</td>\n",
       "      <td>@Predictive_Hire thanks for following👍@lawrenc...</td>\n",
       "      <td>male</td>\n",
       "      <td>thanks following emoji thanks followingso thin...</td>\n",
       "    </tr>\n",
       "    <tr>\n",
       "      <th>3096</th>\n",
       "      <td>ffa8289a14683e00a607a2d9bb5d1367</td>\n",
       "      <td>@LauraAnthony7 @UCBerkeley eooks likes lynch m...</td>\n",
       "      <td>female</td>\n",
       "      <td>eooks likes lynch mob kkk conservativegayimmig...</td>\n",
       "    </tr>\n",
       "    <tr>\n",
       "      <th>3097</th>\n",
       "      <td>ffbd53773c792831d5b6322b775faa3a</td>\n",
       "      <td>@groubes such a classy player! Was awesome to ...</td>\n",
       "      <td>male</td>\n",
       "      <td>classy player awesome see action congrats grea...</td>\n",
       "    </tr>\n",
       "    <tr>\n",
       "      <th>3098</th>\n",
       "      <td>ffc349a1e4c9a3b37fd8798e82d703a2</td>\n",
       "      <td>Great weekend spent with family! Thoroughly en...</td>\n",
       "      <td>male</td>\n",
       "      <td>great weekend spent family thoroughly enjoyed ...</td>\n",
       "    </tr>\n",
       "    <tr>\n",
       "      <th>3099</th>\n",
       "      <td>fff01fe00dae086650e48f265468e483</td>\n",
       "      <td>@SavageFc602 @TellEmSteveDave he IS the disord...</td>\n",
       "      <td>female</td>\n",
       "      <td>disorder court part think appeal troynails ins...</td>\n",
       "    </tr>\n",
       "  </tbody>\n",
       "</table>\n",
       "<p>3100 rows × 4 columns</p>\n",
       "</div>"
      ],
      "text/plain": [
       "                                    id  \\\n",
       "0     1003de26f870d27f79887272a1eb3612   \n",
       "1     102cce280df9f6e0e78bfdd266f1abb5   \n",
       "2     10488b3700fa9d2db22961ab064e4d38   \n",
       "3     106aa0abb81873d09028b01658c37611   \n",
       "4      1074ea46e0f2d49b18b4d77b9aa8c9b   \n",
       "...                                ...   \n",
       "3095  ffa27eef9a46f4d6b3e2c0ff3131936f   \n",
       "3096  ffa8289a14683e00a607a2d9bb5d1367   \n",
       "3097  ffbd53773c792831d5b6322b775faa3a   \n",
       "3098  ffc349a1e4c9a3b37fd8798e82d703a2   \n",
       "3099  fff01fe00dae086650e48f265468e483   \n",
       "\n",
       "                                                content  gender  \\\n",
       "0     One to watch … Available on 10th Feb. https://...    male   \n",
       "1     Are we living in a holographic universe? New s...  female   \n",
       "2     Museum focus, but still great pieces of advice...  female   \n",
       "3     Does this mean @WaitakereUnited are top of the...    male   \n",
       "4     in the time of chimpanzees I was a monkeyHow o...    male   \n",
       "...                                                 ...     ...   \n",
       "3095  @Predictive_Hire thanks for following👍@lawrenc...    male   \n",
       "3096  @LauraAnthony7 @UCBerkeley eooks likes lynch m...  female   \n",
       "3097  @groubes such a classy player! Was awesome to ...    male   \n",
       "3098  Great weekend spent with family! Thoroughly en...    male   \n",
       "3099  @SavageFc602 @TellEmSteveDave he IS the disord...  female   \n",
       "\n",
       "                                           tokencontent  \n",
       "0     one watch available feb weblink complete sets ...  \n",
       "1     living holographic universe new study suggests...  \n",
       "2     museum focus still great pieces advice museums...  \n",
       "3     mean top league guys bailed tho weblink badthi...  \n",
       "4     time chimpanzees monkeyhow earth foulwere back...  \n",
       "...                                                 ...  \n",
       "3095  thanks following emoji thanks followingso thin...  \n",
       "3096  eooks likes lynch mob kkk conservativegayimmig...  \n",
       "3097  classy player awesome see action congrats grea...  \n",
       "3098  great weekend spent family thoroughly enjoyed ...  \n",
       "3099  disorder court part think appeal troynails ins...  \n",
       "\n",
       "[3100 rows x 4 columns]"
      ]
     },
     "execution_count": 36,
     "metadata": {},
     "output_type": "execute_result"
    }
   ],
   "source": [
    "trainContentDF"
   ]
  },
  {
   "cell_type": "markdown",
   "metadata": {},
   "source": [
    "### Generating features using `TF-IDF Vectorizer`\n",
    "\n",
    "`TF-IDF`, also known as `Term Frequency-Inverse Document Frequency`, will consider all the tokens that we\n",
    "pass into it. TF-IDF refers to the frequency of a token occurring in each twitter post (term frequency)\n",
    "and the number of documents in which that particular token exists (inverse document frequency). It\n",
    "makes sure that tokens which occur frequently in a document and which occur in the majority of the\n",
    "documents be penalized. It allows us to extract features that might be important for increasing\n",
    "model classifying accuracy.\n",
    "\n",
    "Using `LemmaTokenizerSpacy()` function provided by `Spacy` that takes care of `lemmatizing` and `tokenizing` the tokens for it to be passed into the models"
   ]
  },
  {
   "cell_type": "code",
   "execution_count": 37,
   "metadata": {},
   "outputs": [],
   "source": [
    "TFIDF = TfidfVectorizer(analyzer='word',input='content',\n",
    "                           lowercase = True,  # will lowercase all the tokens\n",
    "                           min_df = 8,  # will remove tokens that occurs in less than the number of documents specified\n",
    "                           max_df = 0.5,  #  will remove tokens that occur too frequently\n",
    "                           ngram_range =(1,2),  #  considering both unigrams and bigrams\n",
    "                           tokenizer=LemmaTokenizerSpacy())  \n",
    "\n",
    "# transforming the content using the TFIDF vectorizer\n",
    "textFeature = TFIDF.fit_transform(trainContentDF['tokencontent'])\n",
    "\n",
    "# encoding the gender labels\n",
    "labels = labEncoder(trainContentDF['gender'])\n",
    "\n",
    "# running croos-validation to get an idea of what values to expect\n",
    "CVresults = crossValidator(textFeature, labels, CV = 10, alg = 'LR')"
   ]
  },
  {
   "cell_type": "code",
   "execution_count": 38,
   "metadata": {},
   "outputs": [
    {
     "data": {
      "image/png": "[encoded data removed]",
      "text/plain": [
       "<Figure size 432x288 with 1 Axes>"
      ]
     },
     "metadata": {
      "needs_background": "light"
     },
     "output_type": "display_data"
    }
   ],
   "source": [
    "# plotting the cross-validation accuracy values\n",
    "sns.boxplot(x = 'ModelName', y = 'Accuracy', data = CVresults)\n",
    "sns.stripplot(x = 'ModelName', y = 'Accuracy', data = CVresults, size = 8, jitter = True, edgecolor = \"gray\", linewidth = 2)\n",
    "plt.show()"
   ]
  },
  {
   "cell_type": "code",
   "execution_count": 39,
   "metadata": {},
   "outputs": [
    {
     "name": "stdout",
     "output_type": "stream",
     "text": [
      "[[258  63]\n",
      " [ 62 237]]\n",
      "0.7983870967741935\n",
      "0.5963152255450112\n"
     ]
    }
   ],
   "source": [
    "# calculating the confusion matrix, accuracy score and MCC Score\n",
    "conMatrix, accuracy, MCC = classifier(textFeature, labels, alg = 'LR')\n",
    "\n",
    "# displaying the found values\n",
    "print(conMatrix)\n",
    "print(accuracy)\n",
    "print(MCC)"
   ]
  },
  {
   "cell_type": "markdown",
   "metadata": {},
   "source": [
    "# Test Data"
   ]
  },
  {
   "cell_type": "markdown",
   "metadata": {},
   "source": [
    "### Final Run on Test Data"
   ]
  },
  {
   "cell_type": "markdown",
   "metadata": {},
   "source": [
    "#### Performing the same Preprocessing steps for Test Data (Same steps as Train Data)"
   ]
  },
  {
   "cell_type": "code",
   "execution_count": 40,
   "metadata": {},
   "outputs": [
    {
     "name": "stdout",
     "output_type": "stream",
     "text": [
      "500\n"
     ]
    }
   ],
   "source": [
    "# Reading the train data \n",
    "testData = pd.read_csv(\"test_labels.csv\")\n",
    "\n",
    "# Merging the contentDF and trainDataDF into trainContentDF based on id \n",
    "testContentDF = pd.merge(contentDF, testData, on='id', how='inner')\n",
    "\n",
    "# Total training documents with gender content \n",
    "print(len(testContentDF))\n",
    "\n",
    "# Displaying the first few rows from trainContentDF\n",
    "testContentDF.head()\n",
    "\n",
    "testContentDF['tokencontent'] = \"\"\n",
    "\n",
    "for i in range(len(testContentDF)):\n",
    "    \n",
    "    content = testContentDF.at[i, 'content']  # getting the content out from every index\n",
    "    \n",
    "    filteredContent = \"\"\n",
    "    for each in content:\n",
    "        if each in emoji.UNICODE_EMOJI:\n",
    "            # adding spaces before and after every emoji occurence\n",
    "            filteredContent += ' ' + each + ' '\n",
    "        elif each == '@':\n",
    "            # adding a space before each @ occurence\n",
    "            filteredContent += ' ' + each\n",
    "        else:\n",
    "            # else adding every content\n",
    "            filteredContent += each\n",
    "    \n",
    "    # replacing new line characters with space\n",
    "    filteredContent = re.sub('\\n', ' ', filteredContent)\n",
    "    \n",
    "    # adding the formatted data into the newly created column above\n",
    "    testContentDF.at[i, 'tokencontent'] = filteredContent\n",
    "    \n",
    "    "
   ]
  },
  {
   "cell_type": "code",
   "execution_count": 41,
   "metadata": {},
   "outputs": [],
   "source": [
    "for index in range(len(testContentDF)):\n",
    "    \n",
    "    text = testContentDF.at[index, 'tokencontent']  # taking individual row content out into a variable\n",
    "    \n",
    "    text = text.split()\n",
    "    \n",
    "    filteredContent = []  # # a dummy list variable to easily work with the data\n",
    "    \n",
    "    for each in text:\n",
    "        # converting every variable into lowercase\n",
    "        each = each.lower()\n",
    "        # adding weblink as tag for http:\n",
    "        if each[:4] == 'http':\n",
    "            filteredContent.append('weblink')\n",
    "        # adding emoji as tag\n",
    "        elif each in emoji.UNICODE_EMOJI:\n",
    "            filteredContent.append('emoji')\n",
    "        # not adding the tagged content \n",
    "        elif each[:1] == '@' and len(each) > 1:\n",
    "            pass\n",
    "        # not adding the hashed content \n",
    "        elif each[:1] == '#' and len(each) > 1:\n",
    "            pass\n",
    "        # adding tokens that are not of the form &gt; which basically means add every other word\n",
    "        elif not (each[:1] == '&' and each[-1:] == ';'):\n",
    "            filteredContent.append(each)\n",
    "            \n",
    "    content = []\n",
    "    \n",
    "    # removing any remaining punctuations or weird symbols found while going through the dataset that were not being removed while preprocessing\n",
    "    for each in filteredContent:\n",
    "        each = each.translate(str.maketrans('', '', string.punctuation))\n",
    "        each = re.sub('’','', each)\n",
    "        each = re.sub('༼ノಠل͟ಠ༽ノ︵┻━┻','', each)\n",
    "        each = re.sub('…','', each)\n",
    "        each = re.sub(r'\\d+', '', each)\n",
    "        content.append(each)\n",
    "    \n",
    "    # removing all characters pf length less than 2\n",
    "    content = [i for i in content if len(i) > 2]\n",
    "    \n",
    "    # removing all stopwords\n",
    "    content = [i for i in content if i not in stop_words_en]\n",
    "    \n",
    "    # converting the list back into a string\n",
    "    content = \" \".join(content)\n",
    "    \n",
    "    # adding it back to its respective index position\n",
    "    testContentDF.at[index, 'tokencontent'] = content"
   ]
  },
  {
   "cell_type": "markdown",
   "metadata": {},
   "source": [
    "# Generating the final model"
   ]
  },
  {
   "cell_type": "code",
   "execution_count": 42,
   "metadata": {},
   "outputs": [],
   "source": [
    "# encoding the gender labels\n",
    "testLabels = labEncoder(testContentDF['gender'])"
   ]
  },
  {
   "cell_type": "code",
   "execution_count": 43,
   "metadata": {},
   "outputs": [],
   "source": [
    "# transforming the content using the TFIDF vectorizer\n",
    "testFeature = TFIDF.transform(testContentDF['tokencontent'])"
   ]
  },
  {
   "cell_type": "code",
   "execution_count": 44,
   "metadata": {},
   "outputs": [],
   "source": [
    "# setting the final model as Logistic Regression\n",
    "finalModelLR = LogisticRegression()\n",
    "\n",
    "finalModelLR.fit(textFeature, labels)  # fitting the training data and its labels to train the model\n",
    "\n",
    "finalPredictionsLR = finalModelLR.predict(testFeature)  # using the model to predict the test labels\n",
    "\n",
    "# calculating the confusion matrix, accuracy score and MCC Score\n",
    "finalAccuracyLR = accuracy_score(testLabels, finalPredictionsLR)\n",
    "\n",
    "finalMCCLR = matthews_corrcoef(testLabels, finalPredictionsLR)\n",
    "\n",
    "finalConMatrixLR = confusion_matrix(testLabels, finalPredictionsLR)\n"
   ]
  },
  {
   "cell_type": "markdown",
   "metadata": {},
   "source": [
    "#### Logistic Regression"
   ]
  },
  {
   "cell_type": "code",
   "execution_count": 45,
   "metadata": {},
   "outputs": [
    {
     "name": "stdout",
     "output_type": "stream",
     "text": [
      "[[198  54]\n",
      " [ 38 210]]\n",
      "0.816\n",
      "0.6334622881214946\n"
     ]
    }
   ],
   "source": [
    "# displaying the found values\n",
    "print(finalConMatrixLR)\n",
    "print(finalAccuracyLR)\n",
    "print(finalMCCLR)"
   ]
  },
  {
   "cell_type": "markdown",
   "metadata": {},
   "source": [
    "## Exporting the final dataset out as `testSolution`"
   ]
  },
  {
   "cell_type": "code",
   "execution_count": 46,
   "metadata": {},
   "outputs": [],
   "source": [
    "testSolution = testContentDF.drop(columns = ['content', 'tokencontent'])\n",
    "\n",
    "testSolution['gender'] = finalPredictionsLR\n",
    "\n",
    "genderDict = {1: 'male', 0: 'female'}\n",
    "\n",
    "testSolution.gender = [genderDict[item] for item in testSolution.gender]"
   ]
  },
  {
   "cell_type": "code",
   "execution_count": 47,
   "metadata": {},
   "outputs": [],
   "source": [
    "testSolution.to_csv('testSolution.csv', index=False)"
   ]
  }
 ],
 "metadata": {
  "kernelspec": {
   "display_name": "Python 3",
   "language": "python",
   "name": "python3"
  },
  "language_info": {
   "codemirror_mode": {
    "name": "ipython",
    "version": 3
   },
   "file_extension": ".py",
   "mimetype": "text/x-python",
   "name": "python",
   "nbconvert_exporter": "python",
   "pygments_lexer": "ipython3",
   "version": "3.7.6"
  }
 },
 "nbformat": 4,
 "nbformat_minor": 4
}
