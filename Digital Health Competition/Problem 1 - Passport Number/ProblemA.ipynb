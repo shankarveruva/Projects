{
 "cells": [
  {
   "cell_type": "code",
   "execution_count": 1,
   "metadata": {},
   "outputs": [],
   "source": [
    "# Import required libraries\n",
    "import json\n",
    "import pandas as pd"
   ]
  },
  {
   "cell_type": "code",
   "execution_count": 2,
   "metadata": {},
   "outputs": [],
   "source": [
    "# Read the patient json file and store it into patients\n",
    "with open('./dataset/build/patients.json') as f:\n",
    "    patients = json.load(f)"
   ]
  },
  {
   "cell_type": "code",
   "execution_count": 3,
   "metadata": {},
   "outputs": [],
   "source": [
    "# Creating a dataframe to store patient ids and passport number\n",
    "df = pd.DataFrame(columns=['patId', 'ppNo'])"
   ]
  },
  {
   "cell_type": "code",
   "execution_count": 4,
   "metadata": {},
   "outputs": [],
   "source": [
    "# List to create patient ids\n",
    "patIds = []\n",
    "\n",
    "# List to create code lists\n",
    "codeList = []\n",
    "\n",
    "# List to store pasport numbers\n",
    "ppn = []\n",
    "\n",
    "# Iterate through each entry\n",
    "for entries in patients['entry']:\n",
    "    # Store all patient IDs\n",
    "    patIds.append(entries['resource']['id'])\n",
    "    \n",
    "    # Iterate through each identifier for each entry\n",
    "    for identifiers in entries['resource']['identifier']:\n",
    "        for key,val in identifiers.items():\n",
    "            # Look for identifier key: type\n",
    "            if(key=='type'):\n",
    "                for codes in val['coding']:\n",
    "                    # Gather all codes under coding in identifier\n",
    "                    codeList.append(codes['code'])\n",
    "    # Check if PPN code exists                \n",
    "    if('PPN' in codeList):\n",
    "        # If exists, add passport number from identifier value\n",
    "        ppn.append(identifiers['value'])\n",
    "    else:\n",
    "        # Else display 'Not Recorded'\n",
    "        ppn.append('Not Recorded')\n",
    "    \n",
    "    # Empty the codeList so that we can check for new entry\n",
    "    codeList = []"
   ]
  },
  {
   "cell_type": "code",
   "execution_count": 5,
   "metadata": {},
   "outputs": [
    {
     "name": "stdout",
     "output_type": "stream",
     "text": [
      "100000\n",
      "100000\n"
     ]
    }
   ],
   "source": [
    "# Display the total number of patient ids and passport numbers -- Both should be same\n",
    "print(len(patIds))\n",
    "print(len(ppn))"
   ]
  },
  {
   "cell_type": "code",
   "execution_count": 6,
   "metadata": {},
   "outputs": [
    {
     "data": {
      "text/html": [
       "<div>\n",
       "<style scoped>\n",
       "    .dataframe tbody tr th:only-of-type {\n",
       "        vertical-align: middle;\n",
       "    }\n",
       "\n",
       "    .dataframe tbody tr th {\n",
       "        vertical-align: top;\n",
       "    }\n",
       "\n",
       "    .dataframe thead th {\n",
       "        text-align: right;\n",
       "    }\n",
       "</style>\n",
       "<table border=\"1\" class=\"dataframe\">\n",
       "  <thead>\n",
       "    <tr style=\"text-align: right;\">\n",
       "      <th></th>\n",
       "      <th>patId</th>\n",
       "      <th>ppNo</th>\n",
       "    </tr>\n",
       "  </thead>\n",
       "  <tbody>\n",
       "    <tr>\n",
       "      <th>0</th>\n",
       "      <td>00058c64-996b-42de-8692-d9db634ef859</td>\n",
       "      <td>X62450745X</td>\n",
       "    </tr>\n",
       "    <tr>\n",
       "      <th>1</th>\n",
       "      <td>000eff0a-e969-4b00-941f-579519186980</td>\n",
       "      <td>X47117065X</td>\n",
       "    </tr>\n",
       "    <tr>\n",
       "      <th>2</th>\n",
       "      <td>00159b3f-3d73-4164-a06c-8213afa3ef08</td>\n",
       "      <td>X86390226X</td>\n",
       "    </tr>\n",
       "    <tr>\n",
       "      <th>3</th>\n",
       "      <td>001ca35e-9353-47bb-945d-e78eca0f2cd5</td>\n",
       "      <td>Not Recorded</td>\n",
       "    </tr>\n",
       "    <tr>\n",
       "      <th>4</th>\n",
       "      <td>00277ad6-0534-4d7a-aec8-c3805c9c6750</td>\n",
       "      <td>X34235753X</td>\n",
       "    </tr>\n",
       "    <tr>\n",
       "      <th>...</th>\n",
       "      <td>...</td>\n",
       "      <td>...</td>\n",
       "    </tr>\n",
       "    <tr>\n",
       "      <th>99995</th>\n",
       "      <td>ffdc058c-7a8e-4ed0-8255-68f8b16f6e44</td>\n",
       "      <td>X36790179X</td>\n",
       "    </tr>\n",
       "    <tr>\n",
       "      <th>99996</th>\n",
       "      <td>ffe1dbc1-a5b0-4732-8b7e-6a3336957475</td>\n",
       "      <td>X40212667X</td>\n",
       "    </tr>\n",
       "    <tr>\n",
       "      <th>99997</th>\n",
       "      <td>ffeb4e99-67de-4e22-9538-340728809706</td>\n",
       "      <td>Not Recorded</td>\n",
       "    </tr>\n",
       "    <tr>\n",
       "      <th>99998</th>\n",
       "      <td>fff4a29e-a0ab-4a76-bc7c-ef2020868900</td>\n",
       "      <td>X13313586X</td>\n",
       "    </tr>\n",
       "    <tr>\n",
       "      <th>99999</th>\n",
       "      <td>ffff0bea-8a9f-4380-ae27-9f053100ce40</td>\n",
       "      <td>Not Recorded</td>\n",
       "    </tr>\n",
       "  </tbody>\n",
       "</table>\n",
       "<p>100000 rows × 2 columns</p>\n",
       "</div>"
      ],
      "text/plain": [
       "                                      patId          ppNo\n",
       "0      00058c64-996b-42de-8692-d9db634ef859    X62450745X\n",
       "1      000eff0a-e969-4b00-941f-579519186980    X47117065X\n",
       "2      00159b3f-3d73-4164-a06c-8213afa3ef08    X86390226X\n",
       "3      001ca35e-9353-47bb-945d-e78eca0f2cd5  Not Recorded\n",
       "4      00277ad6-0534-4d7a-aec8-c3805c9c6750    X34235753X\n",
       "...                                     ...           ...\n",
       "99995  ffdc058c-7a8e-4ed0-8255-68f8b16f6e44    X36790179X\n",
       "99996  ffe1dbc1-a5b0-4732-8b7e-6a3336957475    X40212667X\n",
       "99997  ffeb4e99-67de-4e22-9538-340728809706  Not Recorded\n",
       "99998  fff4a29e-a0ab-4a76-bc7c-ef2020868900    X13313586X\n",
       "99999  ffff0bea-8a9f-4380-ae27-9f053100ce40  Not Recorded\n",
       "\n",
       "[100000 rows x 2 columns]"
      ]
     },
     "execution_count": 6,
     "metadata": {},
     "output_type": "execute_result"
    }
   ],
   "source": [
    "# Creating a dataframe to store patient ids and passport number\n",
    "df['patId'] = patIds\n",
    "df['ppNo'] = ppn\n",
    "\n",
    "# Display dataframe\n",
    "df"
   ]
  },
  {
   "cell_type": "code",
   "execution_count": 7,
   "metadata": {},
   "outputs": [],
   "source": [
    "# Reading the input file to store N and test cases\n",
    "with open('./input_files/Q1/input.txt', 'r') as inputFile:\n",
    "    inputText = inputFile.readlines()\n",
    "    for i in range(0,len(inputText)):\n",
    "        inputText[i] = inputText[i].replace('\\n', '')"
   ]
  },
  {
   "cell_type": "code",
   "execution_count": 8,
   "metadata": {},
   "outputs": [],
   "source": [
    "# Take input from the user for the number of entries\n",
    "N = int(inputText[0])\n",
    "\n",
    "# Create an empty list to store passport numbers\n",
    "ppList = []\n",
    "\n",
    "# Take patient ids from the user for the number of times the user entered above and store passport number\n",
    "for i in range(1,len(inputText)):\n",
    "    ppList.append(df[df['patId']==inputText[i]]['ppNo'].iat[0])"
   ]
  },
  {
   "cell_type": "code",
   "execution_count": 9,
   "metadata": {},
   "outputs": [],
   "source": [
    "# Store the resultant output(passport numbers) in a txt file\n",
    "with open('./problemAOutput.txt', 'w') as f:\n",
    "    for i in range(0,len(ppList)):\n",
    "        text = \"Test \" + str(i+1) + \": \" + ppList[i] + \"\\n\"\n",
    "        f.write(text)"
   ]
  }
 ],
 "metadata": {
  "kernelspec": {
   "display_name": "Python 3",
   "language": "python",
   "name": "python3"
  },
  "language_info": {
   "codemirror_mode": {
    "name": "ipython",
    "version": 3
   },
   "file_extension": ".py",
   "mimetype": "text/x-python",
   "name": "python",
   "nbconvert_exporter": "python",
   "pygments_lexer": "ipython3",
   "version": "3.7.6"
  }
 },
 "nbformat": 4,
 "nbformat_minor": 4
}
