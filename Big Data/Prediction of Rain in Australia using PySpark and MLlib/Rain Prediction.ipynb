{
 "cells": [
  {
   "cell_type": "markdown",
   "metadata": {},
   "source": [
    "# A. Creating Spark Session and Loading the Data\n",
    "\n",
    "\n",
    "## Step 01\n",
    "\n",
    "\n",
    "### Importing pyspark and required libraries"
   ]
  },
  {
   "cell_type": "code",
   "execution_count": 1,
   "metadata": {},
   "outputs": [],
   "source": [
    "# To specify the environment (using mongo spark connector)\n",
    "import os\n",
    "os.environ['PYSPARK_SUBMIT_ARGS'] = '--packages org.mongodb.spark:mongo-spark-connector_2.11:2.4.0 pyspark-shell'\n",
    "\n",
    "# Create entry points to spark\n",
    "from pyspark import SparkContext # Spark\n",
    "from pyspark.sql import SparkSession # Spark SQL\n",
    "from pyspark.sql import functions as F  # Functions\n",
    "\n",
    "# To access columns and manipulate column data types\n",
    "from pyspark.sql.functions import isnan, when, count, col, sum\n",
    "from pyspark.ml.feature import StringIndexer\n",
    "\n",
    "# To vectorize the data\n",
    "from pyspark.ml.linalg import Vectors\n",
    "from pyspark.ml.feature import VectorAssembler\n",
    "\n",
    "# To plot graphs\n",
    "import matplotlib.pyplot as plt \n",
    "%matplotlib inline\n",
    "\n",
    "# Importing numpy\n",
    "import numpy as np\n",
    "\n",
    "# To create models of machine learning algorithm and calculate their accuracy\n",
    "from pyspark.ml.evaluation import MulticlassClassificationEvaluator\n",
    "from pyspark.ml.classification import RandomForestClassifier\n",
    "from pyspark.ml.classification import LogisticRegression\n",
    "from pyspark.ml.classification import DecisionTreeClassifier\n",
    "from pyspark.ml.classification import GBTClassifier\n",
    "\n",
    "# To create confusion matrix and calculate model's precision, recall and F1 score\n",
    "from pyspark.mllib.evaluation import MulticlassMetrics"
   ]
  },
  {
   "cell_type": "markdown",
   "metadata": {},
   "source": [
    "### Initializing spark"
   ]
  },
  {
   "cell_type": "code",
   "execution_count": 2,
   "metadata": {},
   "outputs": [],
   "source": [
    "# If there is an existing spark context, we will reuse it instead of creating a new context.\n",
    "sc = SparkContext.getOrCreate() \n",
    "\n",
    "# If there is no existing spark context, we now create a new context with 4 cores\n",
    "if (sc is None):\n",
    "    sc = SparkContext(master=\"local[4]\", appName=\"Rain In Australia\")\n",
    "\n",
    "# Initializing spark session    \n",
    "spark = SparkSession(sparkContext=sc)\\\n",
    "    .builder \\\n",
    "    .appName(\"Rain In Australia\") \\\n",
    "    .config(\"spark.mongodb.input.uri\", \"mongodb://127.0.0.1/assign2_db.csv_data\") \\\n",
    "    .config(\"spark.mongodb.output.uri\", \"mongodb://127.0.0.1/assign2_db.csv_data\") \\\n",
    "    .getOrCreate()"
   ]
  },
  {
   "cell_type": "markdown",
   "metadata": {},
   "source": [
    "### Saving file location into a variable"
   ]
  },
  {
   "cell_type": "code",
   "execution_count": 3,
   "metadata": {},
   "outputs": [],
   "source": [
    "# Change the file path accordingly to run\n",
    "csvFile = 'weatherAUS.csv'"
   ]
  },
  {
   "cell_type": "markdown",
   "metadata": {},
   "source": [
    "## Step 02\n",
    "\n",
    "### Creating dataframe"
   ]
  },
  {
   "cell_type": "code",
   "execution_count": 4,
   "metadata": {},
   "outputs": [],
   "source": [
    "# Creating a dataframe from the csv file\n",
    "csvFileDF = spark.read.csv(csvFile, inferSchema=True, header=True)"
   ]
  },
  {
   "cell_type": "markdown",
   "metadata": {},
   "source": [
    "### Displaying schema"
   ]
  },
  {
   "cell_type": "code",
   "execution_count": 5,
   "metadata": {},
   "outputs": [
    {
     "name": "stdout",
     "output_type": "stream",
     "text": [
      "root\n",
      " |-- Date: timestamp (nullable = true)\n",
      " |-- Location: string (nullable = true)\n",
      " |-- MinTemp: string (nullable = true)\n",
      " |-- MaxTemp: string (nullable = true)\n",
      " |-- Rainfall: string (nullable = true)\n",
      " |-- Evaporation: string (nullable = true)\n",
      " |-- Sunshine: string (nullable = true)\n",
      " |-- WindGustDir: string (nullable = true)\n",
      " |-- WindGustSpeed: string (nullable = true)\n",
      " |-- WindDir9am: string (nullable = true)\n",
      " |-- WindDir3pm: string (nullable = true)\n",
      " |-- WindSpeed9am: string (nullable = true)\n",
      " |-- WindSpeed3pm: string (nullable = true)\n",
      " |-- Humidity9am: string (nullable = true)\n",
      " |-- Humidity3pm: string (nullable = true)\n",
      " |-- Pressure9am: string (nullable = true)\n",
      " |-- Pressure3pm: string (nullable = true)\n",
      " |-- Cloud9am: string (nullable = true)\n",
      " |-- Cloud3pm: string (nullable = true)\n",
      " |-- Temp9am: string (nullable = true)\n",
      " |-- Temp3pm: string (nullable = true)\n",
      " |-- RainToday: string (nullable = true)\n",
      " |-- RainTomorrow: string (nullable = true)\n",
      "\n"
     ]
    }
   ],
   "source": [
    "csvFileDF.printSchema()"
   ]
  },
  {
   "cell_type": "markdown",
   "metadata": {},
   "source": [
    "We see that except `date` column, all other columns are in string format.\n",
    "\n",
    "\n",
    "### Displaying total number of records"
   ]
  },
  {
   "cell_type": "code",
   "execution_count": 6,
   "metadata": {},
   "outputs": [
    {
     "name": "stdout",
     "output_type": "stream",
     "text": [
      "Number of records in CSV file :  142193\n"
     ]
    }
   ],
   "source": [
    "# Number of records without filtering for null values\n",
    "print(\"Number of records in CSV file : \",csvFileDF.count())"
   ]
  },
  {
   "cell_type": "markdown",
   "metadata": {},
   "source": [
    "There are a total of `142,193` number of records in the file without filtering the null values.\n",
    "\n",
    "\n",
    "\n",
    "# B. Data Cleaning and Processing\n",
    "\n",
    "## Step 03\n",
    "\n",
    "### Deleting columns that are not required\n",
    "\n",
    "As per the assignment specifications, we were given a choice to remove the following columns :\n",
    "`Date`, `Location`, `Evaporation`, `Sunshine`, `Cloud9am`, `Cloud3pm`, `Temp9am`, `Temp3pm`.\n",
    "\n",
    "I'm removing all the mentioned columns because upon looking in the input file, there are many NA null values in these columns. Since we don't have all the information and the missing values are replaced with mean or maximum frequency of the column values, it doesn't makes sense to consider these columns for rain prediction for tomorrow."
   ]
  },
  {
   "cell_type": "code",
   "execution_count": 7,
   "metadata": {},
   "outputs": [],
   "source": [
    "# Dropping all columns as mentioned in specification\n",
    "csvFileDF = csvFileDF.drop('Date', 'Location', 'Evaporation', 'Sunshine', 'Cloud9am', 'Cloud3pm', 'Temp9am', 'Temp3pm')"
   ]
  },
  {
   "cell_type": "markdown",
   "metadata": {},
   "source": [
    "## Step 04\n",
    "\n",
    "### Printing the number of missing data in each column"
   ]
  },
  {
   "cell_type": "code",
   "execution_count": 8,
   "metadata": {},
   "outputs": [
    {
     "name": "stdout",
     "output_type": "stream",
     "text": [
      "+-------+-------+--------+-----------+-------------+----------+----------+------------+------------+-----------+-----------+-----------+-----------+---------+------------+\n",
      "|MinTemp|MaxTemp|Rainfall|WindGustDir|WindGustSpeed|WindDir9am|WindDir3pm|WindSpeed9am|WindSpeed3pm|Humidity9am|Humidity3pm|Pressure9am|Pressure3pm|RainToday|RainTomorrow|\n",
      "+-------+-------+--------+-----------+-------------+----------+----------+------------+------------+-----------+-----------+-----------+-----------+---------+------------+\n",
      "|      0|      0|       0|          0|            0|         0|         0|           0|           0|          0|          0|          0|          0|        0|           0|\n",
      "+-------+-------+--------+-----------+-------------+----------+----------+------------+------------+-----------+-----------+-----------+-----------+---------+------------+\n",
      "\n"
     ]
    }
   ],
   "source": [
    "csvFileDF.select([count(when(isnan(c) | col(c).isNull(), c)).alias(c) for c in csvFileDF.columns]).show()"
   ]
  },
  {
   "cell_type": "markdown",
   "metadata": {},
   "source": [
    "We can see there are no nulls in the dataframe. However, there might be `NA` in the columns. The code for the same is below."
   ]
  },
  {
   "cell_type": "code",
   "execution_count": 9,
   "metadata": {},
   "outputs": [
    {
     "name": "stdout",
     "output_type": "stream",
     "text": [
      "+-------+-------+--------+-----------+-------------+----------+----------+------------+------------+-----------+-----------+-----------+-----------+---------+------------+\n",
      "|MinTemp|MaxTemp|Rainfall|WindGustDir|WindGustSpeed|WindDir9am|WindDir3pm|WindSpeed9am|WindSpeed3pm|Humidity9am|Humidity3pm|Pressure9am|Pressure3pm|RainToday|RainTomorrow|\n",
      "+-------+-------+--------+-----------+-------------+----------+----------+------------+------------+-----------+-----------+-----------+-----------+---------+------------+\n",
      "|    637|    322|    1406|       9330|         9270|     10013|      3778|        1348|        2630|       1774|       3610|      14014|      13981|     1406|           0|\n",
      "+-------+-------+--------+-----------+-------------+----------+----------+------------+------------+-----------+-----------+-----------+-----------+---------+------------+\n",
      "\n"
     ]
    }
   ],
   "source": [
    "csvFileDF.select([count(when(col(c) == 'NA', c)).alias(c) for c in csvFileDF.columns]).show()"
   ]
  },
  {
   "cell_type": "markdown",
   "metadata": {},
   "source": [
    "As per the assignment rubric, it is mentioned that we need to write a function to achieve the same result as above. Below code snippets work for the same.\n",
    "\n",
    "In the below cell, there's a function `countNull` which checks for the nulls in a particular column, each value is represented as boolean and it is casted as integer. This will convert `True` to `1` and `False` to `0`. Once the conversion is done, the values are casted as integer and sum is calculated. This calculated sum is then returned as the result. As a next step, we loop it through for each column, call the function and display the final result."
   ]
  },
  {
   "cell_type": "code",
   "execution_count": 10,
   "metadata": {},
   "outputs": [
    {
     "name": "stdout",
     "output_type": "stream",
     "text": [
      "+-------+-------+--------+-----------+-------------+----------+----------+------------+------------+-----------+-----------+-----------+-----------+---------+------------+\n",
      "|MinTemp|MaxTemp|Rainfall|WindGustDir|WindGustSpeed|WindDir9am|WindDir3pm|WindSpeed9am|WindSpeed3pm|Humidity9am|Humidity3pm|Pressure9am|Pressure3pm|RainToday|RainTomorrow|\n",
      "+-------+-------+--------+-----------+-------------+----------+----------+------------+------------+-----------+-----------+-----------+-----------+---------+------------+\n",
      "|      0|      0|       0|          0|            0|         0|         0|           0|           0|          0|          0|          0|          0|        0|           0|\n",
      "+-------+-------+--------+-----------+-------------+----------+----------+------------+------------+-----------+-----------+-----------+-----------+---------+------------+\n",
      "\n"
     ]
    }
   ],
   "source": [
    "def countNull(column):\n",
    "    # Check for null     \n",
    "    nullOrNot = col(column).isNull()\n",
    "    \n",
    "    # Return sum by converting False/True into integers (0s and 1s)\n",
    "    return sum(nullOrNot.cast(\"integer\")).alias(column)\n",
    "\n",
    "# Passing column names to the function\n",
    "csvFileDF.agg(*[countNull(column) for column in csvFileDF.columns]).show()"
   ]
  },
  {
   "cell_type": "markdown",
   "metadata": {},
   "source": [
    "Applying the same logic as above, the function `countNa` checks for the value `NA` instead of `NULL` and performs same operations as above."
   ]
  },
  {
   "cell_type": "code",
   "execution_count": 11,
   "metadata": {},
   "outputs": [
    {
     "name": "stdout",
     "output_type": "stream",
     "text": [
      "+-------+-------+--------+-----------+-------------+----------+----------+------------+------------+-----------+-----------+-----------+-----------+---------+------------+\n",
      "|MinTemp|MaxTemp|Rainfall|WindGustDir|WindGustSpeed|WindDir9am|WindDir3pm|WindSpeed9am|WindSpeed3pm|Humidity9am|Humidity3pm|Pressure9am|Pressure3pm|RainToday|RainTomorrow|\n",
      "+-------+-------+--------+-----------+-------------+----------+----------+------------+------------+-----------+-----------+-----------+-----------+---------+------------+\n",
      "|    637|    322|    1406|       9330|         9270|     10013|      3778|        1348|        2630|       1774|       3610|      14014|      13981|     1406|           0|\n",
      "+-------+-------+--------+-----------+-------------+----------+----------+------------+------------+-----------+-----------+-----------+-----------+---------+------------+\n",
      "\n"
     ]
    }
   ],
   "source": [
    "def countNa(column, nan_as_null=False):\n",
    "    # Check for NA\n",
    "    naOrNot = col(column)=='NA'\n",
    "    \n",
    "    # Return sum by converting False/True into integers (0s and 1s)\n",
    "    return sum(naOrNot.cast(\"integer\")).alias(column)\n",
    "\n",
    "# Passing column names to the function\n",
    "csvFileDF.agg(*[countNa(column) for column in csvFileDF.columns]).show()"
   ]
  },
  {
   "cell_type": "markdown",
   "metadata": {},
   "source": [
    "We see that there are no nulls as such in the dataframe. However, there are `NA` values in almost every column. The count for the same for each column is mentioned above in tabular form.\n",
    "\n",
    "\n",
    "# Step 05\n",
    "\n",
    "### Filling the missing data with average value or maximum occurrence value\n",
    "\n",
    "\n",
    "I've defined a function `displayMeanOrMax` which is based on the logic that mean for the numeric data (even though in string form) can be calculated but mean for string data doesn't exists (in other words, it'll be `None`). Below code snippet works for the same and directly prints mean value for the column if values are of numeric data type or prints maximum occurrence value for the column if values are of string data type."
   ]
  },
  {
   "cell_type": "code",
   "execution_count": 12,
   "metadata": {},
   "outputs": [
    {
     "name": "stdout",
     "output_type": "stream",
     "text": [
      "Mean of column MinTemp (Numeric) is \"12.19\"\n",
      "Mean of column MaxTemp (Numeric) is \"23.23\"\n",
      "Mean of column Rainfall (Numeric) is \"2.35\"\n",
      "Max of column WindGustDir (Non-Numeric) is \"W\"\n",
      "Mean of column WindGustSpeed (Numeric) is \"39.98\"\n",
      "Max of column WindDir9am (Non-Numeric) is \"N\"\n",
      "Max of column WindDir3pm (Non-Numeric) is \"SE\"\n",
      "Mean of column WindSpeed9am (Numeric) is \"14.0\"\n",
      "Mean of column WindSpeed3pm (Numeric) is \"18.64\"\n",
      "Mean of column Humidity9am (Numeric) is \"68.84\"\n",
      "Mean of column Humidity3pm (Numeric) is \"51.48\"\n",
      "Mean of column Pressure9am (Numeric) is \"1017.65\"\n",
      "Mean of column Pressure3pm (Numeric) is \"1015.26\"\n",
      "Max of column RainToday (Non-Numeric) is \"No\"\n",
      "Max of column RainTomorrow (Non-Numeric) is \"No\"\n"
     ]
    }
   ],
   "source": [
    "def displayMeanOrMax(columnName):\n",
    "    \n",
    "    # Calculate the mean first\n",
    "    result = csvFileDF.select(F.mean(col(columnName))).collect()[0][0]\n",
    "    \n",
    "    # If result is no mean => None\n",
    "    if result is None:\n",
    "        # Calculate the maximum frequency as it's data in the text form\n",
    "        result = csvFileDF.filter(col(columnName)!='NA').groupBy(col(columnName)).count().orderBy('count', ascending=False).collect()[0][0]\n",
    "        \n",
    "        # Display the result\n",
    "        print('Max of column {0} (Non-Numeric) is \"{1}\"'.format(c,result))\n",
    "    else:\n",
    "        print('Mean of column {0} (Numeric) is \"{1}\"'.format(c,round(result,2)))\n",
    "        \n",
    "# Passing column names to the function\n",
    "for c in csvFileDF.columns:\n",
    "    displayMeanOrMax(c)"
   ]
  },
  {
   "cell_type": "markdown",
   "metadata": {},
   "source": [
    "Once we have determined the type of column and mean value or maximum occurrence value based on the logic above, we have to replace those values at places where `NA`is present in the columns. The function `calculateMeanOrMax` returns the result (either mean value or maximum occurrence value). The result is then replaced with `NA` in that particular column of a particular data type."
   ]
  },
  {
   "cell_type": "code",
   "execution_count": 13,
   "metadata": {},
   "outputs": [],
   "source": [
    "def calculateMeanOrMax(columnName):\n",
    "    \n",
    "    # Calculate the mean first\n",
    "    result = csvFileDF.select(F.mean(col(columnName))).collect()[0][0]\n",
    "    \n",
    "    # If the result is none\n",
    "    if result is None:\n",
    "        # Calculate the maximum frequency\n",
    "        result = csvFileDF.filter(col(columnName)!='NA').groupBy(col(columnName)).count().orderBy('count', ascending=False).collect()[0][0]\n",
    "    else:\n",
    "        # Round off the value to single decimal point\n",
    "        result = round(csvFileDF.select(F.mean(col(columnName))).collect()[0][0], 1)\n",
    "        \n",
    "    return result\n",
    "        \n",
    "# Passing column name to the function\n",
    "for column in csvFileDF.columns:\n",
    "    result = calculateMeanOrMax(column)\n",
    "    \n",
    "    # Replacing NA with either mean or max value based on above logic\n",
    "    csvFileDF = csvFileDF.withColumn(column, when(csvFileDF[column] == 'NA', result).otherwise(csvFileDF[column]))"
   ]
  },
  {
   "cell_type": "markdown",
   "metadata": {},
   "source": [
    "Below code snippet is to check if all the `NA` values have been replaced or not."
   ]
  },
  {
   "cell_type": "code",
   "execution_count": 14,
   "metadata": {},
   "outputs": [
    {
     "name": "stdout",
     "output_type": "stream",
     "text": [
      "Number of \"NA\" in MinTemp column : 0\n",
      "Number of \"NA\" in MaxTemp column : 0\n",
      "Number of \"NA\" in Rainfall column : 0\n",
      "Number of \"NA\" in WindGustDir column : 0\n",
      "Number of \"NA\" in WindGustSpeed column : 0\n",
      "Number of \"NA\" in WindDir9am column : 0\n",
      "Number of \"NA\" in WindDir3pm column : 0\n",
      "Number of \"NA\" in WindSpeed9am column : 0\n",
      "Number of \"NA\" in WindSpeed3pm column : 0\n",
      "Number of \"NA\" in Humidity9am column : 0\n",
      "Number of \"NA\" in Humidity3pm column : 0\n",
      "Number of \"NA\" in Pressure9am column : 0\n",
      "Number of \"NA\" in Pressure3pm column : 0\n",
      "Number of \"NA\" in RainToday column : 0\n",
      "Number of \"NA\" in RainTomorrow column : 0\n"
     ]
    }
   ],
   "source": [
    "for column in csvFileDF.columns:\n",
    "    print('Number of \"NA\" in {0} column : {1}'.format(column, csvFileDF.filter(F.col(column) == 'NA').count()))"
   ]
  },
  {
   "cell_type": "markdown",
   "metadata": {},
   "source": [
    "# Step 06\n",
    "\n",
    "### Data transformation\n",
    "\n",
    "As mentioned in the specification document, the below code firstly uses the function `calculateMeanOrMax` and based on the logic explained earlier, we get it's type as a string(maximum occurrence value) or float(mean value). So, based on the type of the result, I've casted the column as double for numeric column or applied stringIndexer for string column. Also, once string index is run of columns with non-numeric data, original columns are removed.\n",
    "\n",
    "Here, I've considered `RainToday` column even though in the specification, it is not mentioned as a string column. Excluding this column, we get lesser accuracy (although difference is in decimals) and hence, I've included it in the string indexer and eventually vectorized and considered as a feature."
   ]
  },
  {
   "cell_type": "code",
   "execution_count": 15,
   "metadata": {},
   "outputs": [],
   "source": [
    "# For numeric type columns\n",
    "for column in csvFileDF.columns:\n",
    "    result = calculateMeanOrMax(column)\n",
    "    if type(result) == float:\n",
    "        csvFileDF = csvFileDF.withColumn(column, col(column).cast(\"double\"))"
   ]
  },
  {
   "cell_type": "code",
   "execution_count": 16,
   "metadata": {},
   "outputs": [],
   "source": [
    "# For string type columns\n",
    "for column in csvFileDF.columns:\n",
    "    result = calculateMeanOrMax(column)\n",
    "    if type(result) == str:\n",
    "        columnName = column + 'Index'\n",
    "        indexer = StringIndexer(inputCol=column, outputCol=columnName)\n",
    "        csvFileDF = indexer.fit(csvFileDF).transform(csvFileDF)\n",
    "        csvFileDF = csvFileDF.drop(column)"
   ]
  },
  {
   "cell_type": "code",
   "execution_count": 17,
   "metadata": {},
   "outputs": [
    {
     "name": "stdout",
     "output_type": "stream",
     "text": [
      "root\n",
      " |-- MinTemp: double (nullable = true)\n",
      " |-- MaxTemp: double (nullable = true)\n",
      " |-- Rainfall: double (nullable = true)\n",
      " |-- WindGustSpeed: double (nullable = true)\n",
      " |-- WindSpeed9am: double (nullable = true)\n",
      " |-- WindSpeed3pm: double (nullable = true)\n",
      " |-- Humidity9am: double (nullable = true)\n",
      " |-- Humidity3pm: double (nullable = true)\n",
      " |-- Pressure9am: double (nullable = true)\n",
      " |-- Pressure3pm: double (nullable = true)\n",
      " |-- WindGustDirIndex: double (nullable = false)\n",
      " |-- WindDir9amIndex: double (nullable = false)\n",
      " |-- WindDir3pmIndex: double (nullable = false)\n",
      " |-- RainTodayIndex: double (nullable = false)\n",
      " |-- RainTomorrowIndex: double (nullable = false)\n",
      "\n"
     ]
    }
   ],
   "source": [
    "csvFileDF.printSchema()"
   ]
  },
  {
   "cell_type": "markdown",
   "metadata": {},
   "source": [
    "We see that all the columns have been transformed into double data type.\n",
    "\n",
    "# Step 07\n",
    "\n",
    "### Create the feature vector and divide the dataset\n",
    "\n",
    "Here, we vectorize the dataframe. All the columns except for `RainTomorrowIndex` have been considered as `features`. The `features` are the columns based on which we can predict the rainfall for tomorrow. Vectorizing the dataframe columns results into list of values as `features` and that is why we don't need all other columns. Hence, all the columns can be dropped except for `RainTomorrowIndex` column which is our target and `features` column."
   ]
  },
  {
   "cell_type": "code",
   "execution_count": 18,
   "metadata": {},
   "outputs": [
    {
     "name": "stdout",
     "output_type": "stream",
     "text": [
      "+-----------------+----------------------------------------------------------------------+\n",
      "|RainTomorrowIndex|features                                                              |\n",
      "+-----------------+----------------------------------------------------------------------+\n",
      "|0.0              |[13.4,22.9,0.6,44.0,20.0,24.0,71.0,22.0,1007.7,1007.1,0.0,6.0,7.0,0.0]|\n",
      "|0.0              |[7.4,25.1,0.0,44.0,4.0,22.0,44.0,25.0,1010.6,1007.8,9.0,9.0,3.0,0.0]  |\n",
      "|0.0              |[12.9,25.7,0.0,46.0,19.0,26.0,38.0,30.0,1007.6,1008.7,6.0,6.0,3.0,0.0]|\n",
      "+-----------------+----------------------------------------------------------------------+\n",
      "only showing top 3 rows\n",
      "\n"
     ]
    }
   ],
   "source": [
    "# Initialize vector object\n",
    "vectorAssemblerObject = VectorAssembler(inputCols = csvFileDF.columns[0:-1], outputCol=\"features\")   \n",
    "\n",
    "# Transform the dataset\n",
    "csvFileVectorDF = vectorAssemblerObject.transform(csvFileDF)\n",
    "\n",
    "# Remove undesired columns\n",
    "csvFileDF = csvFileVectorDF.drop('MinTemp',\n",
    " 'MaxTemp',\n",
    " 'Rainfall',\n",
    " 'WindGustSpeed',\n",
    " 'WindSpeed9am',\n",
    " 'WindSpeed3pm',\n",
    " 'Humidity9am',\n",
    " 'Humidity3pm',\n",
    " 'Pressure9am',\n",
    " 'Pressure3pm',\n",
    " 'WindGustDirIndex',\n",
    " 'WindDir9amIndex',\n",
    " 'WindDir3pmIndex',\n",
    " 'RainTodayIndex')\n",
    "\n",
    "# Displaying the new dataframe formed\n",
    "csvFileDF.show(3, False)"
   ]
  },
  {
   "cell_type": "markdown",
   "metadata": {},
   "source": [
    "Now that the dataset has been vectorized and unwanted columns are removed, we can split the data into training and testing datapoints. Below is the code for the same. Seed value has been set to 123 and can be changed based on the requirement."
   ]
  },
  {
   "cell_type": "code",
   "execution_count": 19,
   "metadata": {},
   "outputs": [],
   "source": [
    "(trainingData, testData) = csvFileDF.randomSplit([0.7, 0.3], seed = 123)"
   ]
  },
  {
   "cell_type": "markdown",
   "metadata": {},
   "source": [
    "# B. Applying Machine Learning Algorithms\n",
    "\n",
    "## Step 08\n",
    "\n",
    "### Applying machine learning algorithms and comparing their accuracy\n",
    "\n",
    "As an initial step, we create empty lists to store algorithm type and its accuracy. We calculate the accuracy of the different machine learning algorithms such as `Decision Tree Algorithm`, `Random Forest Algorithm`, `Logistic Regression Algorithm` and `GBT Classifier Algorithm`."
   ]
  },
  {
   "cell_type": "code",
   "execution_count": 20,
   "metadata": {},
   "outputs": [],
   "source": [
    "# To store algorithm type\n",
    "algorithm = []\n",
    "\n",
    "# To store accuracy of respective algorithm type\n",
    "accuracy = []"
   ]
  },
  {
   "cell_type": "code",
   "execution_count": 21,
   "metadata": {},
   "outputs": [
    {
     "name": "stdout",
     "output_type": "stream",
     "text": [
      "+----------+-----------------+--------------------+\n",
      "|prediction|RainTomorrowIndex|         probability|\n",
      "+----------+-----------------+--------------------+\n",
      "|       0.0|              0.0|[0.64608739837398...|\n",
      "|       0.0|              0.0|[0.89153324893886...|\n",
      "|       0.0|              0.0|[0.89153324893886...|\n",
      "|       0.0|              0.0|[0.64608739837398...|\n",
      "|       0.0|              0.0|[0.89153324893886...|\n",
      "|       0.0|              0.0|[0.64608739837398...|\n",
      "|       0.0|              0.0|[0.64608739837398...|\n",
      "|       0.0|              0.0|[0.64608739837398...|\n",
      "|       0.0|              0.0|[0.69920152544392...|\n",
      "|       1.0|              0.0|[0.14692787177203...|\n",
      "+----------+-----------------+--------------------+\n",
      "only showing top 10 rows\n",
      "\n",
      "Test Error = 0.164865 \n",
      "Accuracy = 0.835135 \n"
     ]
    }
   ],
   "source": [
    "# Decision Tree Algorithm\n",
    "\n",
    "# Initializing decision tree model object\n",
    "decisionTree = DecisionTreeClassifier(labelCol=\"RainTomorrowIndex\", featuresCol=\"features\")\n",
    "\n",
    "# Training the data\n",
    "decisionTreeModel = decisionTree.fit(trainingData)\n",
    "\n",
    "# Transforming using the test data\n",
    "decisionTreePredictions = decisionTreeModel.transform(testData)\n",
    "\n",
    "# Displaying the prediction dataframe\n",
    "decisionTreePredictions.select(\"prediction\", \"RainTomorrowIndex\", \"probability\").show(10)\n",
    "\n",
    "# Initializing the evaluator\n",
    "decisionTreeEvaluator = MulticlassClassificationEvaluator(\\\n",
    "labelCol=\"RainTomorrowIndex\", predictionCol=\"prediction\",\\\n",
    "metricName=\"accuracy\")\n",
    "\n",
    "# To calculate accuracy\n",
    "decisionTreeAccuracy = decisionTreeEvaluator.evaluate(decisionTreePredictions)\n",
    "\n",
    "# Displaying the accuracy and test error\n",
    "print(\"Test Error = %g \" % (1.0 - decisionTreeAccuracy))\n",
    "\n",
    "print(\"Accuracy = %g \" % (decisionTreeAccuracy))\n",
    "\n",
    "# Storing algorithm type and its accuracy in the lists\n",
    "algorithm.append('Decision Tree')\n",
    "\n",
    "accuracy.append(decisionTreeAccuracy)"
   ]
  },
  {
   "cell_type": "code",
   "execution_count": 22,
   "metadata": {},
   "outputs": [
    {
     "name": "stdout",
     "output_type": "stream",
     "text": [
      "+----------+-----------------+--------------------+\n",
      "|prediction|RainTomorrowIndex|         probability|\n",
      "+----------+-----------------+--------------------+\n",
      "|       0.0|              0.0|[0.73625954684666...|\n",
      "|       0.0|              0.0|[0.86565708426746...|\n",
      "|       0.0|              0.0|[0.86565708426746...|\n",
      "|       0.0|              0.0|[0.53610909032819...|\n",
      "|       0.0|              0.0|[0.86565708426746...|\n",
      "|       0.0|              0.0|[0.54904961306284...|\n",
      "|       0.0|              0.0|[0.59877257537248...|\n",
      "|       0.0|              0.0|[0.59877257537248...|\n",
      "|       0.0|              0.0|[0.84033289570718...|\n",
      "|       1.0|              0.0|[0.33663779484535...|\n",
      "+----------+-----------------+--------------------+\n",
      "only showing top 10 rows\n",
      "\n",
      "Test Error = 0.163807\n",
      "Accuracy = 0.836193\n"
     ]
    }
   ],
   "source": [
    "# Random Forest Algorithm\n",
    "\n",
    "# Initializing random forest model object\n",
    "randomForest = RandomForestClassifier(labelCol=\"RainTomorrowIndex\", featuresCol=\"features\", numTrees=10)\n",
    "\n",
    "# Training the data\n",
    "randomForestModel = randomForest.fit(trainingData)\n",
    "\n",
    "# Transforming using the test data\n",
    "randomForestPredictions = randomForestModel.transform(testData)\n",
    "\n",
    "# Displaying the prediction data\n",
    "randomForestPredictions.select(\"prediction\", \"RainTomorrowIndex\", \"probability\").show(10)\n",
    "\n",
    "# Initializing the evaluator\n",
    "randomForestEvaluator = MulticlassClassificationEvaluator(labelCol=\"RainTomorrowIndex\", predictionCol=\"prediction\", metricName=\"accuracy\")\n",
    "\n",
    "# To calculate accuracy\n",
    "randomForestAccuracy = randomForestEvaluator.evaluate(randomForestPredictions)\n",
    "\n",
    "# Displaying the accuracy and test error\n",
    "print(\"Test Error = %g\" % (1.0 - randomForestAccuracy))\n",
    "\n",
    "print(\"Accuracy = %g\" % (randomForestAccuracy))\n",
    "\n",
    "# Storing the algorithm type and its accuracy in the list\n",
    "algorithm.append('Random Forest')\n",
    "\n",
    "accuracy.append(randomForestAccuracy)"
   ]
  },
  {
   "cell_type": "code",
   "execution_count": 23,
   "metadata": {},
   "outputs": [
    {
     "name": "stdout",
     "output_type": "stream",
     "text": [
      "+----------+-----------------+--------------------+\n",
      "|prediction|RainTomorrowIndex|         probability|\n",
      "+----------+-----------------+--------------------+\n",
      "|       0.0|              0.0|[0.71489262051085...|\n",
      "|       0.0|              0.0|[0.75421241864582...|\n",
      "|       0.0|              0.0|[0.76868088283889...|\n",
      "|       0.0|              0.0|[0.65070952180140...|\n",
      "|       0.0|              0.0|[0.71118011460962...|\n",
      "|       0.0|              0.0|[0.66693991363888...|\n",
      "|       0.0|              0.0|[0.69491039072215...|\n",
      "|       0.0|              0.0|[0.70414966934782...|\n",
      "|       0.0|              0.0|[0.73146341668892...|\n",
      "|       0.0|              0.0|[0.64771152389897...|\n",
      "+----------+-----------------+--------------------+\n",
      "only showing top 10 rows\n",
      "\n",
      "Test Error = 0.186325 \n",
      "Accuracy = 0.813675 \n"
     ]
    }
   ],
   "source": [
    "# Logistic Regression Algorithm\n",
    "\n",
    "# Initializing logistic regression model object\n",
    "logisticRegression = LogisticRegression(featuresCol = 'features', labelCol = 'RainTomorrowIndex', maxIter=10)\n",
    "\n",
    "# Training the data\n",
    "logisticRegressionModel = logisticRegression.fit(trainingData)\n",
    "\n",
    "# Transforming using the test data\n",
    "logisticRegressionPredictions = logisticRegressionModel.transform(testData)\n",
    "\n",
    "# Displaying the predictions dataframe \n",
    "logisticRegressionPredictions.select('prediction', 'RainTomorrowIndex', 'probability').show(10)\n",
    "\n",
    "# Initializing the evaluator\n",
    "logisticRegressionEvaluator = MulticlassClassificationEvaluator(labelCol=\"RainTomorrowIndex\", predictionCol=\"prediction\", metricName=\"accuracy\")\n",
    "\n",
    "# Calculate accuracy\n",
    "logisticRegressionAccuracy = logisticRegressionEvaluator.evaluate(logisticRegressionPredictions)\n",
    "\n",
    "# Displaying the accuracy and test error\n",
    "print(\"Test Error = %g \" % (1.0 - logisticRegressionAccuracy))\n",
    "\n",
    "print(\"Accuracy = %g \" % (logisticRegressionAccuracy))\n",
    "\n",
    "# Storing the algorithm type and its accuracy\n",
    "algorithm.append('Logistic Regression')\n",
    "\n",
    "accuracy.append(logisticRegressionAccuracy)"
   ]
  },
  {
   "cell_type": "code",
   "execution_count": 24,
   "metadata": {},
   "outputs": [
    {
     "name": "stdout",
     "output_type": "stream",
     "text": [
      "+----------+-----------------+--------------------+\n",
      "|prediction|RainTomorrowIndex|         probability|\n",
      "+----------+-----------------+--------------------+\n",
      "|       0.0|              0.0|[0.66658948114436...|\n",
      "|       0.0|              0.0|[0.77607571373069...|\n",
      "|       0.0|              0.0|[0.76170117707270...|\n",
      "|       0.0|              0.0|[0.66658948114436...|\n",
      "|       0.0|              0.0|[0.66658948114436...|\n",
      "|       0.0|              0.0|[0.66658948114436...|\n",
      "|       0.0|              0.0|[0.66658948114436...|\n",
      "|       0.0|              0.0|[0.66658948114436...|\n",
      "|       0.0|              0.0|[0.65577299769673...|\n",
      "|       1.0|              0.0|[0.26310003895202...|\n",
      "+----------+-----------------+--------------------+\n",
      "only showing top 10 rows\n",
      "\n",
      "Test Error = 0.160234 \n",
      "Accuracy = 0.839766 \n"
     ]
    }
   ],
   "source": [
    "# GBT Clasifier Algorithm\n",
    "\n",
    "# Initializing gbt clasifier mdoel object\n",
    "gbtClassifier = GBTClassifier(labelCol=\"RainTomorrowIndex\", featuresCol=\"features\", maxIter=10)\n",
    "\n",
    "# Training the data\n",
    "gbtClassifierModel = gbtClassifier.fit(trainingData)\n",
    "\n",
    "# Transforming using the test data\n",
    "gbtClassifierPredictions = gbtClassifierModel.transform(testData)\n",
    "\n",
    "# Displaying the predictions dataframe\n",
    "gbtClassifierPredictions.select('prediction', 'RainTomorrowIndex', 'probability').show(10)\n",
    "\n",
    "# Initializing the evaluator\n",
    "gbtClassifierEvaluator = MulticlassClassificationEvaluator(labelCol=\"RainTomorrowIndex\", predictionCol=\"prediction\", metricName=\"accuracy\")\n",
    "\n",
    "# Calculate the accuracy\n",
    "gbtClassifierAccuracy = gbtClassifierEvaluator.evaluate(gbtClassifierPredictions)\n",
    "\n",
    "# Displaying the accuracy and test error\n",
    "print(\"Test Error = %g \" % (1.0 - gbtClassifierAccuracy))\n",
    "\n",
    "print(\"Accuracy = %g \" % (gbtClassifierAccuracy))\n",
    "\n",
    "# Storing the algorithm type and its accuracy\n",
    "algorithm.append('GBT Classifier')\n",
    "\n",
    "accuracy.append(gbtClassifierAccuracy)"
   ]
  },
  {
   "cell_type": "markdown",
   "metadata": {},
   "source": [
    "Now that we've calculated the accuracies of different models, we can plot the graphs with the algorithm type on x-axis and their respective accuracy on y-axis."
   ]
  },
  {
   "cell_type": "code",
   "execution_count": 25,
   "metadata": {},
   "outputs": [
    {
     "data": {
      "image/png": "[encoded data removed]",
      "text/plain": [
       "<Figure size 720x360 with 1 Axes>"
      ]
     },
     "metadata": {
      "needs_background": "light"
     },
     "output_type": "display_data"
    }
   ],
   "source": [
    "#  Setting figure size\n",
    "plt.figure(figsize=(10,5))\n",
    "\n",
    "# Plotting the graph\n",
    "plt.bar(algorithm, accuracy, width = .3)\n",
    "\n",
    "# Setting labels and titles\n",
    "plt.xlabel('Model Name')\n",
    "plt.ylabel('Accuracy Rate')\n",
    "plt.title('Accuracy of Machine Learning Algorithms')\n",
    "\n",
    "# Displaying the graph\n",
    "plt.show()"
   ]
  },
  {
   "cell_type": "markdown",
   "metadata": {},
   "source": [
    "Since the comparison of accuracy of different models is difficult using bar graph as suggested in the specification document, below code snippet plots line graph for better visualization."
   ]
  },
  {
   "cell_type": "code",
   "execution_count": 26,
   "metadata": {},
   "outputs": [
    {
     "data": {
      "image/png": "[encoded data removed]",
      "text/plain": [
       "<Figure size 720x360 with 1 Axes>"
      ]
     },
     "metadata": {
      "needs_background": "light"
     },
     "output_type": "display_data"
    }
   ],
   "source": [
    "# Seting figure size\n",
    "plt.figure(figsize=(10,5))\n",
    "\n",
    "# Plotting the graph\n",
    "plt.plot(algorithm, accuracy, 'o-')\n",
    "\n",
    "# Setting labels and title\n",
    "plt.xlabel('Model Name')\n",
    "plt.ylabel('Accuracy Rate')\n",
    "plt.title('Accuracy of Machine Learning Algorithms')\n",
    "\n",
    "# Displaying the graph\n",
    "plt.show()"
   ]
  },
  {
   "cell_type": "markdown",
   "metadata": {},
   "source": [
    "Please note I've set maxIter or maximum number of trees as 10. From the above line graph, we can compare the models and their accuracy. We see that for the given dataset, `Decision Tree Model` gives the accuracy of about `83.3%`, `Random Forest Model` gives accuracy of `83.6%`, `Logistic Regression Model` gives the accuracy of about `81.3%` and `GBT Classifier Model` provides accuracy of `83.9%`. We also notice that `Random Forest Model` provides slightly better accuracy rate compared to `Decision Tree Model`, `Logistic Regression Model` provides the least accuracy rate and `GBT Classifier Model` provides the highest accuracy among all models. \n",
    "\n",
    "\n",
    "## Step 09\n",
    "\n",
    "### Calculating the confusion matrix and finding precision, recall and F1 score\n",
    "\n",
    "Here, I've defined a method which takes confusion matrix as input and calculates precision, recall and F1 score and returns them as output."
   ]
  },
  {
   "cell_type": "code",
   "execution_count": 27,
   "metadata": {},
   "outputs": [],
   "source": [
    "def calculateParameters(confusionMatrix):\n",
    "    \n",
    "    # Setting the elements of confusion matrix\n",
    "    trueNegative = confusionMatrix[0][0]\n",
    "    falsePositive = confusionMatrix[0][1]\n",
    "    falseNegative = confusionMatrix[1][0]\n",
    "    truePositive = confusionMatrix[1][1]\n",
    "    \n",
    "    # Calculating precision, recall and F1 score\n",
    "    precision = truePositive/(truePositive + falsePositive)\n",
    "    recall = truePositive/(truePositive + falseNegative)\n",
    "    f1Score = (2*(precision * recall)/(precision + recall))\n",
    "    \n",
    "    # Returning the calculated values\n",
    "    return precision, recall, f1Score"
   ]
  },
  {
   "cell_type": "code",
   "execution_count": 28,
   "metadata": {},
   "outputs": [
    {
     "name": "stdout",
     "output_type": "stream",
     "text": [
      "Confusion Matrix for decision tree : \n",
      "[[31889.  1115.]\n",
      " [ 5899.  3641.]]\n"
     ]
    }
   ],
   "source": [
    "# Confusion Matrix for Decision Tree\n",
    "\n",
    "# Extracting only prediction and RainTomorrowIndex and then converting the dataframe into rdd\n",
    "decisionTreePredictionAndLabels = decisionTreePredictions.select(['prediction', 'RainTomorrowIndex']).rdd.map(tuple)\n",
    "\n",
    "# Intializing metrics object\n",
    "decisionTreeMetrics = MulticlassMetrics(decisionTreePredictionAndLabels)\n",
    "\n",
    "# Create confusion matrix for the model\n",
    "decisionTreeConfusionMatrix = decisionTreeMetrics.confusionMatrix().toArray()\n",
    "\n",
    "# Displaying the confusion matrix\n",
    "print('Confusion Matrix for decision tree : ')\n",
    "print(decisionTreeConfusionMatrix)"
   ]
  },
  {
   "cell_type": "code",
   "execution_count": 29,
   "metadata": {},
   "outputs": [
    {
     "name": "stdout",
     "output_type": "stream",
     "text": [
      "Precision value through formula using confusion matrix : 0.7655592935239697\n",
      "Recall value through formula using confusion matrix : 0.3816561844863732\n",
      "F1 score value through formula using confusion matrix : 0.5093732512590934\n"
     ]
    }
   ],
   "source": [
    "# Calculate precision, recall and F1 score of the model\n",
    "decisionTreePrecision, decisionTreeRecall, decisionTreeF1Score = calculateParameters(decisionTreeConfusionMatrix)\n",
    "\n",
    "# Displaying the above calculated parameters\n",
    "print('Precision value through formula using confusion matrix :', decisionTreePrecision)\n",
    "print('Recall value through formula using confusion matrix :', decisionTreeRecall)\n",
    "print('F1 score value through formula using confusion matrix :', decisionTreeF1Score)"
   ]
  },
  {
   "cell_type": "code",
   "execution_count": 30,
   "metadata": {},
   "outputs": [
    {
     "name": "stdout",
     "output_type": "stream",
     "text": [
      "Confusion Matrix for random forest : \n",
      "[[31817.  1187.]\n",
      " [ 5782.  3758.]]\n"
     ]
    }
   ],
   "source": [
    "# Confusion Matrix for Random Forest\n",
    "\n",
    "# Extracting only prediction and RainTomorrowIndex and then converting the dataframe into rdd\n",
    "randomForestPredictionAndLabels = randomForestPredictions.select(['prediction', 'RainTomorrowIndex']).rdd.map(tuple)\n",
    "\n",
    "# Initializing metrics object\n",
    "randomForestMetrics = MulticlassMetrics(randomForestPredictionAndLabels)\n",
    "\n",
    "# Create confusion matrix for this model\n",
    "randomForestConfusionMatrix = randomForestMetrics.confusionMatrix().toArray()\n",
    "\n",
    "# Displaying the confusion matrix\n",
    "print('Confusion Matrix for random forest : ')\n",
    "print(randomForestConfusionMatrix)"
   ]
  },
  {
   "cell_type": "code",
   "execution_count": 31,
   "metadata": {},
   "outputs": [
    {
     "name": "stdout",
     "output_type": "stream",
     "text": [
      "Precision value through formula using confusion matrix : 0.7599595551061679\n",
      "Recall value through formula using confusion matrix : 0.3939203354297694\n",
      "F1 score value through formula using confusion matrix : 0.5188816016568865\n"
     ]
    }
   ],
   "source": [
    "# Calculate precision, recall and F1 score of this model \n",
    "randomForestPrecision, randomForestRecall, randomForestF1Score = calculateParameters(randomForestConfusionMatrix)\n",
    "\n",
    "# Displaying above calculated parameters\n",
    "print('Precision value through formula using confusion matrix :', randomForestPrecision)\n",
    "print('Recall value through formula using confusion matrix :', randomForestRecall)\n",
    "print('F1 score value through formula using confusion matrix :', randomForestF1Score)"
   ]
  },
  {
   "cell_type": "code",
   "execution_count": 32,
   "metadata": {},
   "outputs": [
    {
     "name": "stdout",
     "output_type": "stream",
     "text": [
      "Confusion Matrix for logistic regression : \n",
      "[[30712.  2292.]\n",
      " [ 5635.  3905.]]\n"
     ]
    }
   ],
   "source": [
    "# Confusion Matrix for Logistic Regression\n",
    "\n",
    "# Extracting only prediction and RainTomorrowIndex and then converting the dataframe into rdd\n",
    "logisticRegressionPredictionAndLabels = logisticRegressionPredictions.select(['prediction', 'RainTomorrowIndex']).rdd.map(tuple)\n",
    "\n",
    "# Intializing metrics object\n",
    "logisticRegressionMetrics = MulticlassMetrics(logisticRegressionPredictionAndLabels)\n",
    "\n",
    "# Creating confusion matrix for this model\n",
    "logisticRegressionConfusionMatrix = logisticRegressionMetrics.confusionMatrix().toArray()\n",
    "\n",
    "# Displaying the confusion matrix\n",
    "print('Confusion Matrix for logistic regression : ')\n",
    "print(logisticRegressionConfusionMatrix)"
   ]
  },
  {
   "cell_type": "code",
   "execution_count": 33,
   "metadata": {},
   "outputs": [
    {
     "name": "stdout",
     "output_type": "stream",
     "text": [
      "Precision value through formula using confusion matrix : 0.6301436178796191\n",
      "Recall value through formula using confusion matrix : 0.40932914046121593\n",
      "F1 score value through formula using confusion matrix : 0.4962826459935185\n"
     ]
    }
   ],
   "source": [
    "# Calculate precision, recall and F1 score for this model\n",
    "logisticRegressionPrecision, logisticRegressionRecall, logisticRegressionF1Score = calculateParameters(logisticRegressionConfusionMatrix)\n",
    "\n",
    "# Displaying the above calculated parameters\n",
    "print('Precision value through formula using confusion matrix :', logisticRegressionPrecision)\n",
    "print('Recall value through formula using confusion matrix :', logisticRegressionRecall)\n",
    "print('F1 score value through formula using confusion matrix :', logisticRegressionF1Score)"
   ]
  },
  {
   "cell_type": "code",
   "execution_count": 34,
   "metadata": {},
   "outputs": [
    {
     "name": "stdout",
     "output_type": "stream",
     "text": [
      "Confusion Matrix for gbt classifier : \n",
      "[[31231.  1773.]\n",
      " [ 5044.  4496.]]\n"
     ]
    }
   ],
   "source": [
    "# Confusion Matrix for GBT Classifier\n",
    "\n",
    "# Extracting only prediction and RainTomorrowIndex and then converting the dataframe into rdd\n",
    "gbtClassifierPredictionAndLabels = gbtClassifierPredictions.select(['prediction', 'RainTomorrowIndex']).rdd.map(tuple)\n",
    "\n",
    "# Initializing metrics object\n",
    "gbtClassifierMetrics = MulticlassMetrics(gbtClassifierPredictionAndLabels)\n",
    "\n",
    "# Creating confusion matrix for this model\n",
    "gbtClassifierConfusionMatrix = gbtClassifierMetrics.confusionMatrix().toArray()\n",
    "\n",
    "# Displaying the confusion matrix\n",
    "print('Confusion Matrix for gbt classifier : ')\n",
    "print(gbtClassifierConfusionMatrix)"
   ]
  },
  {
   "cell_type": "code",
   "execution_count": 35,
   "metadata": {},
   "outputs": [
    {
     "name": "stdout",
     "output_type": "stream",
     "text": [
      "Precision value through formula using confusion matrix : 0.7171797734885946\n",
      "Recall value through formula using confusion matrix : 0.4712788259958071\n",
      "F1 score value through formula using confusion matrix : 0.5687899297868303\n"
     ]
    }
   ],
   "source": [
    "# Calculate precision, recall and F1 score for this model\n",
    "gbtClassifierPrecision, gbtClassifierRecall, gbtClassifierF1Score = calculateParameters(gbtClassifierConfusionMatrix)\n",
    "\n",
    "# Displaying the above calculated parameters\n",
    "print('Precision value through formula using confusion matrix :', gbtClassifierPrecision)\n",
    "print('Recall value through formula using confusion matrix :', gbtClassifierRecall)\n",
    "print('F1 score value through formula using confusion matrix :', gbtClassifierF1Score)"
   ]
  },
  {
   "cell_type": "markdown",
   "metadata": {},
   "source": [
    "There are a number of ways to improve the accuracy of the model. Below are some of the approaches :\n",
    "\n",
    "- By adding up more known/complete data instead of taking subset of huge dataset. Doing so will allow the data to represent itself instead of manipulating it to achieve desired results.\n",
    "\n",
    "- It is always good to have as much training data as possible. Having more of training data with some variance is beneficial for model training to get higher accuracy for the test/new data.\n",
    "\n",
    "- The missing values or outliers reduce the accuracy and hence, it would be better to have as less of such values as possible. So, it is important to treat missing and outlier values. Missing data can be handled in various ways such as using prediction algorithm or replacing missing data with mean, median or mode to impute the misisng data. Similarly, we can delete or treat outliers separately.\n",
    "\n",
    "- Transforming the data into features helps to spot correlation and variance in the dataset, thereby giving improved accuracy. For instance, if a data set has 1st variable in meter, 2nd in centi-meter and 3rd in kilo-meter, in such case, before applying any algorithm, we must normalize these variable in same scale. Similarly, there are concepts such as data normalization, data discretization, removal of skewness of variable, converting huge numeric data into log scale etc that fall under the category of feature transforming.\n",
    "\n",
    "- Creating a new feature from the existing variable also influences accuracy. It helps to unleash the hidden relationship of a data set. For example, if we want to predict the number of transactions in a store based on transaction dates, we may notice that the transaction dates may not have direct correlation with number of transaction. However, if we look at the day of a week, it may have a higher correlation. In this case, the information about day of a week is hidden. We need to extract it to make the model better.\n",
    "\n",
    "- Applying right kind of machine learning algorithm also helps to enhance accuracy rate of the prediction. Some algorithms are better suited to a particular type of data sets than others. Hence, we should apply all relevant models and check the performance. For instance, for data which is continuous in nature, linear regression can be applied or might be best suited rather than logistic regression.\n",
    "\n",
    "- Selecting correct subset of the attributes as features to predict the target value. This falls under the category of feature selection.\n",
    "\n",
    "- We can tune the algorithm by varying the parameters of the model described. Parameters such as maxIter, max number of trees etc influence the accuracy. These parameters majorly influence the outcome of learning process. The objective of parameter tuning is to find the optimum value for each parameter to improve the accuracy of the model. To tune these parameters, one must have a good understanding of their meaning and individual impact on the model that is being used. For example: In random forest, we have various parameters like max_features, number_trees, random_state, oob_score and others. Intuitive optimization of these parameter values will result in better and more accurate models. Similarly, we have maxIter paramter in logistic regression and gbt classifier models. It is important to find a suitable number such that the accuracy is in the desired range. A model can be discarded if it gives low accuracy. However, high accuracy need not always mean that the model is performing efficiently. Let's say we have a model that predicts if a patient has cancer or not and has the accuracy of 97%. Even though the model has high accuracy, there are chances of 3% of it going wrong i.e. wrongly predicting if the person has cancer or not (concepts of false positive and false negative). In a situation of life and death, small percentage of fail rate can also impact the model's credibility or usability."
   ]
  },
  {
   "cell_type": "markdown",
   "metadata": {},
   "source": [
    "# References"
   ]
  },
  {
   "cell_type": "markdown",
   "metadata": {},
   "source": [
    "- Monash tutorials and lecture demo files\n",
    "\n",
    "- https://stackoverflow.com/questions/44627386/how-to-find-count-of-null-and-nan-values-for-each-column-in-a-pyspark-dataframe\n",
    "\n",
    "- https://stackoverflow.com/questions/52299443/pyspark-calculate-number-of-null-values-in-each-dataframe-column\n",
    "\n",
    "- https://forums.wikitechy.com/question/count-number-of-non-nan-entries-in-each-column-of-spark-dataframe-with-pyspark/\n",
    "\n",
    "- https://towardsdatascience.com/accuracy-precision-recall-or-f1-331fb37c5cb9\n",
    "\n",
    "- https://spark.apache.org/docs/2.2.0/mllib-evaluation-metrics.html\n",
    "\n",
    "- https://en.wikipedia.org/wiki/Confusion_matrix\n",
    "\n",
    "- https://www.dataschool.io/simple-guide-to-confusion-matrix-terminology/\n",
    "\n",
    "- https://www.analyticsvidhya.com/blog/2015/12/improve-machine-learning-results/"
   ]
  }
 ],
 "metadata": {
  "celltoolbar": "Raw Cell Format",
  "kernelspec": {
   "display_name": "Python 3",
   "language": "python",
   "name": "python3"
  },
  "language_info": {
   "codemirror_mode": {
    "name": "ipython",
    "version": 3
   },
   "file_extension": ".py",
   "mimetype": "text/x-python",
   "name": "python",
   "nbconvert_exporter": "python",
   "pygments_lexer": "ipython3",
   "version": "3.7.6"
  }
 },
 "nbformat": 4,
 "nbformat_minor": 2
}
